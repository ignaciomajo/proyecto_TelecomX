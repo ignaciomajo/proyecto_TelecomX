{
 "cells": [
  {
   "cell_type": "markdown",
   "id": "2a60294d-1f5c-4a3e-8ba0-b0e9804cf5c9",
   "metadata": {},
   "source": [
    "Proyecto: Telecom X - Etapa 1\r\n",
    "=============================="
   ]
  },
  {
   "cell_type": "markdown",
   "id": "60d24fbb-6c8d-45f9-98d9-1a46d56e04f9",
   "metadata": {
    "jp-MarkdownHeadingCollapsed": true
   },
   "source": [
    "## Evasión (Churn) de clientes"
   ]
  },
  {
   "cell_type": "markdown",
   "id": "e7015b25-539b-45e4-9302-6acfe85fcdc0",
   "metadata": {},
   "source": [
    "## Índice"
   ]
  },
  {
   "cell_type": "markdown",
   "id": "89bd9f10-f087-4885-9fd3-76f05f2ffb9c",
   "metadata": {},
   "source": [
    "1. Descripción del proyecto.\n",
    "2. Importación de librerías y extracción de datos.\n",
    "3. Análisis Exploratorio de Datos (EDA).\n",
    "   - 3.1 Exploración y Transformación de datos.\n",
    "   - 3.2 Análisis y visualización de datos.\n",
    "     - Antigüedad y Facturación.\n",
    "     - Servicios.\n",
    "     - Perfil del cliente.\n",
    "   - 3.3 Bulletpoints: Análisis y visualización de datos\n",
    "4. Análisis de correlación."
   ]
  },
  {
   "cell_type": "markdown",
   "id": "935972a8-133e-4c93-a826-2d9a56250ef2",
   "metadata": {
    "jp-MarkdownHeadingCollapsed": true
   },
   "source": [
    "# 1. Descripción del proyecto"
   ]
  },
  {
   "cell_type": "markdown",
   "id": "02283335-a76d-44c4-b06d-5a42ddc059cf",
   "metadata": {},
   "source": [
    "Proyecto \"Churn de Clientes\" para la compañía Telecom X. \n",
    "\n",
    "La empresa enfrenta una alta tasa de cancelaciones y necesita comprender los factores que llevan a la pérdida de clientes.\n",
    "\n",
    "Tu desafío será recopilar, procesar y analizar los datos, utilizando Python y sus principales bibliotecas para extraer información valiosa. A partir de tu análisis, el equipo de Data Science podrá avanzar en modelos predictivos y desarrollar estrategias para reducir la evasión."
   ]
  },
  {
   "cell_type": "markdown",
   "id": "842f73bc-e8d7-4b65-9b06-a8a9f1e85b6b",
   "metadata": {
    "jp-MarkdownHeadingCollapsed": true
   },
   "source": [
    "## Aclaraciones:\n",
    "\n",
    "Tarjetas tablero Trello:\n",
    "\n",
    "* **Columna de cuentas diarias**\n",
    "* **Estandarización y transformación de datos (opcional)**"
   ]
  },
  {
   "cell_type": "markdown",
   "id": "858d0111-26d1-4b54-a28c-879afb2e859e",
   "metadata": {
    "jp-MarkdownHeadingCollapsed": true
   },
   "source": [
    "### Columna de cuentas diarias"
   ]
  },
  {
   "cell_type": "markdown",
   "id": "7e0e4bd5-fb44-4f81-a54d-0e399d0afb98",
   "metadata": {},
   "source": [
    "Cree la columna e hice el boxplot, y lo cierto es que era practicamente igual al de Charges.Monthly solo que con una escala distinta ya que corresponde al gasto diario. La verdad no veo mucho valor en esto, a mi parecer resulta en información redundante, y no creo que una persona piense \"cuanto me cuesta el servicio de teléfono y/o internet al día\", me parece algo que más comunmente se \"juzga\" de manera mensual.<br>\n",
    "\n",
    "Por lo que terminé eliminando el gráfico, pero mantuve la columna para que cuando haga el heatmap con la correlación entre variables, pueda identificar cual de estas dos influye más en el Churn."
   ]
  },
  {
   "cell_type": "markdown",
   "id": "45638a4b-910d-4b5b-99db-aabc75b256d6",
   "metadata": {
    "jp-MarkdownHeadingCollapsed": true
   },
   "source": [
    "### Estandarización y transformación de datos (opcional)"
   ]
  },
  {
   "cell_type": "markdown",
   "id": "58999962-2928-45f9-8277-ba3913efe065",
   "metadata": {},
   "source": [
    "Inicialmente no mapee los valores Yes y No a 1 y 0, ya que es mucho más fácil leer palabras en un informe, que identificar que 1 es positivo y 0 es negativo, justamente para stakeholders no técnicos, creo que el hecho de leer Yes y No es más accesible.<br>\n",
    "\n",
    "En cuanto al nombre de las columnas, opté por dejar sus nombres como están, y marcar siempre que se mencionen en negritas, traducirlas yo mismo, y dejar entre paréntesis el nombre de la columna original, es decir, por ejemplo, cuando hablo de \"Churn\" mantuve un formato como el siguiente: **Evasión *(Churn)* de clientes**, o **Método de pago *(PaymentMethod)***.\n",
    "\n",
    "Si bien este es un proyecto provisto por la academia Alura en un programa de estudio, creo que la idea es abordar los proyectos como si estuviesemos en el mundo real, entonces, con el contexto que tengo, pienso lo siguiente: Si la base de datos ya está en inglés, lo más probable es que la empresa maneje clientes/directivos/mercados internacionales, por lo qué remover completamente los términos en inglés no me parece del todo adecuado.\n",
    "\n",
    "Además debo admitir que en muchas ocasiones el inglés es más breve, evitando que los nombres de columnas se vuelvan excesivamente largos, y también evitando acentos y otros caracteres que pueden traer problemas en el entorno computacional.\n",
    "\n",
    "Por lo que he decidido no mapear ni traducir las columnas\n",
    ".\n",
    "El mapeo de Yes/No a valores 1 y 0 se hará al final al guardar *(load)* los datos preprocesados."
   ]
  },
  {
   "cell_type": "markdown",
   "id": "1e9a8b52-7de8-4dc4-86b1-a9cdf3e42ad5",
   "metadata": {},
   "source": [
    "# 2. Importación de librerías y extracción de datos"
   ]
  },
  {
   "cell_type": "markdown",
   "id": "3674b7e3-5fd4-454c-a9a0-1c10dbbd8e3e",
   "metadata": {},
   "source": [
    "## Importación de librerías"
   ]
  },
  {
   "cell_type": "code",
   "execution_count": 1,
   "id": "73f865f1-1b0a-4507-b6ca-a1ee3dbf6952",
   "metadata": {},
   "outputs": [],
   "source": [
    "import numpy as np\n",
    "import pandas as pd\n",
    "import matplotlib.pyplot as plt\n",
    "import seaborn as sns\n",
    "import requests\n",
    "import json\n",
    "from pathlib import Path\n",
    "\n",
    "from IPython.display import clear_output"
   ]
  },
  {
   "cell_type": "markdown",
   "id": "45b1fdca-000c-48cf-b16b-ad504b9680b4",
   "metadata": {
    "jp-MarkdownHeadingCollapsed": true
   },
   "source": [
    "## Paths"
   ]
  },
  {
   "cell_type": "code",
   "execution_count": 2,
   "id": "6a99c2dd-edca-4077-9da3-6b82d618ad3e",
   "metadata": {},
   "outputs": [
    {
     "name": "stdout",
     "output_type": "stream",
     "text": [
      "El directorio ya existe.\n"
     ]
    }
   ],
   "source": [
    "figures_path = Path('img')\n",
    "if not figures_path.exists():\n",
    "    figures_path.mkdir(parents=True)  # 'parents=True' crea directorios intermedios si es necesario\n",
    "    print(\"Directorio creado.\")\n",
    "else:\n",
    "    print(\"El directorio ya existe.\")"
   ]
  },
  {
   "cell_type": "code",
   "execution_count": 3,
   "id": "a27ffd35-1e20-472d-b899-36a4fcbd3e71",
   "metadata": {},
   "outputs": [
    {
     "name": "stdout",
     "output_type": "stream",
     "text": [
      "El directorio ya existe.\n"
     ]
    }
   ],
   "source": [
    "data_path = Path('src')\n",
    "\n",
    "if not data_path.exists():\n",
    "    data_path.mkdir(parents=True)  # 'parents=True' crea directorios intermedios si es necesario\n",
    "    print(\"Directorio creado.\")\n",
    "else:\n",
    "    print(\"El directorio ya existe.\")"
   ]
  },
  {
   "cell_type": "markdown",
   "id": "02a63d15-fba9-4f17-bdf6-a98fffad3656",
   "metadata": {
    "jp-MarkdownHeadingCollapsed": true
   },
   "source": [
    "## Extracción de datos"
   ]
  },
  {
   "cell_type": "code",
   "execution_count": 4,
   "id": "f07cf036-2ae8-459a-bf18-b6a4eb21da8d",
   "metadata": {},
   "outputs": [
    {
     "name": "stdout",
     "output_type": "stream",
     "text": [
      "200\n"
     ]
    }
   ],
   "source": [
    "# API donde se encuentra los datos\n",
    "url = 'https://raw.githubusercontent.com/ingridcristh/challenge2-data-science-LATAM/refs/heads/main/TelecomX_Data.json'\n",
    "\n",
    "# Solicitud a la API\n",
    "r = requests.get(url)\n",
    "\n",
    "# Imprimir estado de la respuesta\n",
    "print(r.status_code)\n",
    "# Verificar tipo de contenido\n",
    "#print(r.headers['Content-type'])\n",
    "\n",
    "# Escribir el archivo para normalización\n",
    "#with open('TelecomX_Data.json', 'wb') as f:\n",
    "   # f.write(r.content)"
   ]
  },
  {
   "cell_type": "code",
   "execution_count": 5,
   "id": "651ee78c-1c17-43d2-b06f-e2c1a5966395",
   "metadata": {},
   "outputs": [],
   "source": [
    "# Leer el archivo\n",
    "with open('TelecomX_Data.json', 'r') as f:\n",
    "    raw_data = json.loads(f.read())"
   ]
  },
  {
   "cell_type": "code",
   "execution_count": 6,
   "id": "52e1f7f4-2007-4da0-8550-f91ee2c1db91",
   "metadata": {},
   "outputs": [],
   "source": [
    "# Normalización del JSON\n",
    "raw_data = pd.json_normalize(raw_data)"
   ]
  },
  {
   "cell_type": "code",
   "execution_count": 7,
   "id": "84d82fe3-adac-425a-b7f3-13ac418be56e",
   "metadata": {},
   "outputs": [
    {
     "data": {
      "text/html": [
       "<div>\n",
       "<style scoped>\n",
       "    .dataframe tbody tr th:only-of-type {\n",
       "        vertical-align: middle;\n",
       "    }\n",
       "\n",
       "    .dataframe tbody tr th {\n",
       "        vertical-align: top;\n",
       "    }\n",
       "\n",
       "    .dataframe thead th {\n",
       "        text-align: right;\n",
       "    }\n",
       "</style>\n",
       "<table border=\"1\" class=\"dataframe\">\n",
       "  <thead>\n",
       "    <tr style=\"text-align: right;\">\n",
       "      <th></th>\n",
       "      <th>customerID</th>\n",
       "      <th>Churn</th>\n",
       "      <th>customer.gender</th>\n",
       "      <th>customer.SeniorCitizen</th>\n",
       "      <th>customer.Partner</th>\n",
       "      <th>customer.Dependents</th>\n",
       "      <th>customer.tenure</th>\n",
       "      <th>phone.PhoneService</th>\n",
       "      <th>phone.MultipleLines</th>\n",
       "      <th>internet.InternetService</th>\n",
       "      <th>...</th>\n",
       "      <th>internet.OnlineBackup</th>\n",
       "      <th>internet.DeviceProtection</th>\n",
       "      <th>internet.TechSupport</th>\n",
       "      <th>internet.StreamingTV</th>\n",
       "      <th>internet.StreamingMovies</th>\n",
       "      <th>account.Contract</th>\n",
       "      <th>account.PaperlessBilling</th>\n",
       "      <th>account.PaymentMethod</th>\n",
       "      <th>account.Charges.Monthly</th>\n",
       "      <th>account.Charges.Total</th>\n",
       "    </tr>\n",
       "  </thead>\n",
       "  <tbody>\n",
       "    <tr>\n",
       "      <th>20</th>\n",
       "      <td>0023-UYUPN</td>\n",
       "      <td>No</td>\n",
       "      <td>Female</td>\n",
       "      <td>1</td>\n",
       "      <td>Yes</td>\n",
       "      <td>No</td>\n",
       "      <td>50</td>\n",
       "      <td>Yes</td>\n",
       "      <td>Yes</td>\n",
       "      <td>No</td>\n",
       "      <td>...</td>\n",
       "      <td>No internet service</td>\n",
       "      <td>No internet service</td>\n",
       "      <td>No internet service</td>\n",
       "      <td>No internet service</td>\n",
       "      <td>No internet service</td>\n",
       "      <td>One year</td>\n",
       "      <td>No</td>\n",
       "      <td>Electronic check</td>\n",
       "      <td>25.20</td>\n",
       "      <td>1306.3</td>\n",
       "    </tr>\n",
       "    <tr>\n",
       "      <th>23</th>\n",
       "      <td>0030-FNXPP</td>\n",
       "      <td>No</td>\n",
       "      <td>Female</td>\n",
       "      <td>0</td>\n",
       "      <td>No</td>\n",
       "      <td>No</td>\n",
       "      <td>3</td>\n",
       "      <td>Yes</td>\n",
       "      <td>No</td>\n",
       "      <td>No</td>\n",
       "      <td>...</td>\n",
       "      <td>No internet service</td>\n",
       "      <td>No internet service</td>\n",
       "      <td>No internet service</td>\n",
       "      <td>No internet service</td>\n",
       "      <td>No internet service</td>\n",
       "      <td>Month-to-month</td>\n",
       "      <td>No</td>\n",
       "      <td>Mailed check</td>\n",
       "      <td>19.85</td>\n",
       "      <td>57.2</td>\n",
       "    </tr>\n",
       "    <tr>\n",
       "      <th>24</th>\n",
       "      <td>0031-PVLZI</td>\n",
       "      <td>Yes</td>\n",
       "      <td>Female</td>\n",
       "      <td>0</td>\n",
       "      <td>Yes</td>\n",
       "      <td>Yes</td>\n",
       "      <td>4</td>\n",
       "      <td>Yes</td>\n",
       "      <td>No</td>\n",
       "      <td>No</td>\n",
       "      <td>...</td>\n",
       "      <td>No internet service</td>\n",
       "      <td>No internet service</td>\n",
       "      <td>No internet service</td>\n",
       "      <td>No internet service</td>\n",
       "      <td>No internet service</td>\n",
       "      <td>Month-to-month</td>\n",
       "      <td>No</td>\n",
       "      <td>Mailed check</td>\n",
       "      <td>20.35</td>\n",
       "      <td>76.35</td>\n",
       "    </tr>\n",
       "    <tr>\n",
       "      <th>27</th>\n",
       "      <td>0040-HALCW</td>\n",
       "      <td>No</td>\n",
       "      <td>Male</td>\n",
       "      <td>0</td>\n",
       "      <td>Yes</td>\n",
       "      <td>Yes</td>\n",
       "      <td>54</td>\n",
       "      <td>Yes</td>\n",
       "      <td>No</td>\n",
       "      <td>No</td>\n",
       "      <td>...</td>\n",
       "      <td>No internet service</td>\n",
       "      <td>No internet service</td>\n",
       "      <td>No internet service</td>\n",
       "      <td>No internet service</td>\n",
       "      <td>No internet service</td>\n",
       "      <td>Two year</td>\n",
       "      <td>No</td>\n",
       "      <td>Credit card (automatic)</td>\n",
       "      <td>20.40</td>\n",
       "      <td>1090.6</td>\n",
       "    </tr>\n",
       "    <tr>\n",
       "      <th>28</th>\n",
       "      <td>0042-JVWOJ</td>\n",
       "      <td>No</td>\n",
       "      <td>Male</td>\n",
       "      <td>0</td>\n",
       "      <td>No</td>\n",
       "      <td>No</td>\n",
       "      <td>26</td>\n",
       "      <td>Yes</td>\n",
       "      <td>No</td>\n",
       "      <td>No</td>\n",
       "      <td>...</td>\n",
       "      <td>No internet service</td>\n",
       "      <td>No internet service</td>\n",
       "      <td>No internet service</td>\n",
       "      <td>No internet service</td>\n",
       "      <td>No internet service</td>\n",
       "      <td>One year</td>\n",
       "      <td>Yes</td>\n",
       "      <td>Bank transfer (automatic)</td>\n",
       "      <td>19.60</td>\n",
       "      <td>471.85</td>\n",
       "    </tr>\n",
       "    <tr>\n",
       "      <th>...</th>\n",
       "      <td>...</td>\n",
       "      <td>...</td>\n",
       "      <td>...</td>\n",
       "      <td>...</td>\n",
       "      <td>...</td>\n",
       "      <td>...</td>\n",
       "      <td>...</td>\n",
       "      <td>...</td>\n",
       "      <td>...</td>\n",
       "      <td>...</td>\n",
       "      <td>...</td>\n",
       "      <td>...</td>\n",
       "      <td>...</td>\n",
       "      <td>...</td>\n",
       "      <td>...</td>\n",
       "      <td>...</td>\n",
       "      <td>...</td>\n",
       "      <td>...</td>\n",
       "      <td>...</td>\n",
       "      <td>...</td>\n",
       "      <td>...</td>\n",
       "    </tr>\n",
       "    <tr>\n",
       "      <th>7250</th>\n",
       "      <td>9970-QBCDA</td>\n",
       "      <td>No</td>\n",
       "      <td>Female</td>\n",
       "      <td>0</td>\n",
       "      <td>No</td>\n",
       "      <td>No</td>\n",
       "      <td>6</td>\n",
       "      <td>Yes</td>\n",
       "      <td>No</td>\n",
       "      <td>No</td>\n",
       "      <td>...</td>\n",
       "      <td>No internet service</td>\n",
       "      <td>No internet service</td>\n",
       "      <td>No internet service</td>\n",
       "      <td>No internet service</td>\n",
       "      <td>No internet service</td>\n",
       "      <td>Month-to-month</td>\n",
       "      <td>No</td>\n",
       "      <td>Credit card (automatic)</td>\n",
       "      <td>19.70</td>\n",
       "      <td>129.55</td>\n",
       "    </tr>\n",
       "    <tr>\n",
       "      <th>7252</th>\n",
       "      <td>9972-EWRJS</td>\n",
       "      <td>No</td>\n",
       "      <td>Female</td>\n",
       "      <td>0</td>\n",
       "      <td>Yes</td>\n",
       "      <td>Yes</td>\n",
       "      <td>67</td>\n",
       "      <td>Yes</td>\n",
       "      <td>No</td>\n",
       "      <td>No</td>\n",
       "      <td>...</td>\n",
       "      <td>No internet service</td>\n",
       "      <td>No internet service</td>\n",
       "      <td>No internet service</td>\n",
       "      <td>No internet service</td>\n",
       "      <td>No internet service</td>\n",
       "      <td>Two year</td>\n",
       "      <td>Yes</td>\n",
       "      <td>Bank transfer (automatic)</td>\n",
       "      <td>19.25</td>\n",
       "      <td>1372.9</td>\n",
       "    </tr>\n",
       "    <tr>\n",
       "      <th>7256</th>\n",
       "      <td>9975-GPKZU</td>\n",
       "      <td>No</td>\n",
       "      <td>Male</td>\n",
       "      <td>0</td>\n",
       "      <td>Yes</td>\n",
       "      <td>Yes</td>\n",
       "      <td>46</td>\n",
       "      <td>Yes</td>\n",
       "      <td>No</td>\n",
       "      <td>No</td>\n",
       "      <td>...</td>\n",
       "      <td>No internet service</td>\n",
       "      <td>No internet service</td>\n",
       "      <td>No internet service</td>\n",
       "      <td>No internet service</td>\n",
       "      <td>No internet service</td>\n",
       "      <td>Two year</td>\n",
       "      <td>No</td>\n",
       "      <td>Credit card (automatic)</td>\n",
       "      <td>19.75</td>\n",
       "      <td>856.5</td>\n",
       "    </tr>\n",
       "    <tr>\n",
       "      <th>7257</th>\n",
       "      <td>9975-SKRNR</td>\n",
       "      <td>No</td>\n",
       "      <td>Male</td>\n",
       "      <td>0</td>\n",
       "      <td>No</td>\n",
       "      <td>No</td>\n",
       "      <td>1</td>\n",
       "      <td>Yes</td>\n",
       "      <td>No</td>\n",
       "      <td>No</td>\n",
       "      <td>...</td>\n",
       "      <td>No internet service</td>\n",
       "      <td>No internet service</td>\n",
       "      <td>No internet service</td>\n",
       "      <td>No internet service</td>\n",
       "      <td>No internet service</td>\n",
       "      <td>Month-to-month</td>\n",
       "      <td>No</td>\n",
       "      <td>Mailed check</td>\n",
       "      <td>18.90</td>\n",
       "      <td>18.9</td>\n",
       "    </tr>\n",
       "    <tr>\n",
       "      <th>7261</th>\n",
       "      <td>9986-BONCE</td>\n",
       "      <td>Yes</td>\n",
       "      <td>Female</td>\n",
       "      <td>0</td>\n",
       "      <td>No</td>\n",
       "      <td>No</td>\n",
       "      <td>4</td>\n",
       "      <td>Yes</td>\n",
       "      <td>No</td>\n",
       "      <td>No</td>\n",
       "      <td>...</td>\n",
       "      <td>No internet service</td>\n",
       "      <td>No internet service</td>\n",
       "      <td>No internet service</td>\n",
       "      <td>No internet service</td>\n",
       "      <td>No internet service</td>\n",
       "      <td>Month-to-month</td>\n",
       "      <td>No</td>\n",
       "      <td>Bank transfer (automatic)</td>\n",
       "      <td>20.95</td>\n",
       "      <td>85.5</td>\n",
       "    </tr>\n",
       "  </tbody>\n",
       "</table>\n",
       "<p>1581 rows × 21 columns</p>\n",
       "</div>"
      ],
      "text/plain": [
       "      customerID Churn customer.gender  customer.SeniorCitizen  \\\n",
       "20    0023-UYUPN    No          Female                       1   \n",
       "23    0030-FNXPP    No          Female                       0   \n",
       "24    0031-PVLZI   Yes          Female                       0   \n",
       "27    0040-HALCW    No            Male                       0   \n",
       "28    0042-JVWOJ    No            Male                       0   \n",
       "...          ...   ...             ...                     ...   \n",
       "7250  9970-QBCDA    No          Female                       0   \n",
       "7252  9972-EWRJS    No          Female                       0   \n",
       "7256  9975-GPKZU    No            Male                       0   \n",
       "7257  9975-SKRNR    No            Male                       0   \n",
       "7261  9986-BONCE   Yes          Female                       0   \n",
       "\n",
       "     customer.Partner customer.Dependents  customer.tenure phone.PhoneService  \\\n",
       "20                Yes                  No               50                Yes   \n",
       "23                 No                  No                3                Yes   \n",
       "24                Yes                 Yes                4                Yes   \n",
       "27                Yes                 Yes               54                Yes   \n",
       "28                 No                  No               26                Yes   \n",
       "...               ...                 ...              ...                ...   \n",
       "7250               No                  No                6                Yes   \n",
       "7252              Yes                 Yes               67                Yes   \n",
       "7256              Yes                 Yes               46                Yes   \n",
       "7257               No                  No                1                Yes   \n",
       "7261               No                  No                4                Yes   \n",
       "\n",
       "     phone.MultipleLines internet.InternetService  ... internet.OnlineBackup  \\\n",
       "20                   Yes                       No  ...   No internet service   \n",
       "23                    No                       No  ...   No internet service   \n",
       "24                    No                       No  ...   No internet service   \n",
       "27                    No                       No  ...   No internet service   \n",
       "28                    No                       No  ...   No internet service   \n",
       "...                  ...                      ...  ...                   ...   \n",
       "7250                  No                       No  ...   No internet service   \n",
       "7252                  No                       No  ...   No internet service   \n",
       "7256                  No                       No  ...   No internet service   \n",
       "7257                  No                       No  ...   No internet service   \n",
       "7261                  No                       No  ...   No internet service   \n",
       "\n",
       "     internet.DeviceProtection internet.TechSupport internet.StreamingTV  \\\n",
       "20         No internet service  No internet service  No internet service   \n",
       "23         No internet service  No internet service  No internet service   \n",
       "24         No internet service  No internet service  No internet service   \n",
       "27         No internet service  No internet service  No internet service   \n",
       "28         No internet service  No internet service  No internet service   \n",
       "...                        ...                  ...                  ...   \n",
       "7250       No internet service  No internet service  No internet service   \n",
       "7252       No internet service  No internet service  No internet service   \n",
       "7256       No internet service  No internet service  No internet service   \n",
       "7257       No internet service  No internet service  No internet service   \n",
       "7261       No internet service  No internet service  No internet service   \n",
       "\n",
       "     internet.StreamingMovies account.Contract account.PaperlessBilling  \\\n",
       "20        No internet service         One year                       No   \n",
       "23        No internet service   Month-to-month                       No   \n",
       "24        No internet service   Month-to-month                       No   \n",
       "27        No internet service         Two year                       No   \n",
       "28        No internet service         One year                      Yes   \n",
       "...                       ...              ...                      ...   \n",
       "7250      No internet service   Month-to-month                       No   \n",
       "7252      No internet service         Two year                      Yes   \n",
       "7256      No internet service         Two year                       No   \n",
       "7257      No internet service   Month-to-month                       No   \n",
       "7261      No internet service   Month-to-month                       No   \n",
       "\n",
       "          account.PaymentMethod account.Charges.Monthly  account.Charges.Total  \n",
       "20             Electronic check                   25.20                 1306.3  \n",
       "23                 Mailed check                   19.85                   57.2  \n",
       "24                 Mailed check                   20.35                  76.35  \n",
       "27      Credit card (automatic)                   20.40                 1090.6  \n",
       "28    Bank transfer (automatic)                   19.60                 471.85  \n",
       "...                         ...                     ...                    ...  \n",
       "7250    Credit card (automatic)                   19.70                 129.55  \n",
       "7252  Bank transfer (automatic)                   19.25                 1372.9  \n",
       "7256    Credit card (automatic)                   19.75                  856.5  \n",
       "7257               Mailed check                   18.90                   18.9  \n",
       "7261  Bank transfer (automatic)                   20.95                   85.5  \n",
       "\n",
       "[1581 rows x 21 columns]"
      ]
     },
     "execution_count": 7,
     "metadata": {},
     "output_type": "execute_result"
    }
   ],
   "source": [
    "raw_data[raw_data['internet.InternetService'] == 'No']"
   ]
  },
  {
   "cell_type": "code",
   "execution_count": 8,
   "id": "94d27705-b72b-4cf4-814f-463e1f9ddf47",
   "metadata": {},
   "outputs": [],
   "source": [
    "# Guardar el archivo JSON normalizado\n",
    "raw_data.to_json('TelecomX_Data_norm.json')"
   ]
  },
  {
   "cell_type": "code",
   "execution_count": 9,
   "id": "2b35ec2a-67f5-42ff-b806-91021de86dc2",
   "metadata": {},
   "outputs": [
    {
     "data": {
      "text/plain": [
       "Index(['customerID', 'Churn', 'customer.gender', 'customer.SeniorCitizen',\n",
       "       'customer.Partner', 'customer.Dependents', 'customer.tenure',\n",
       "       'phone.PhoneService', 'phone.MultipleLines', 'internet.InternetService',\n",
       "       'internet.OnlineSecurity', 'internet.OnlineBackup',\n",
       "       'internet.DeviceProtection', 'internet.TechSupport',\n",
       "       'internet.StreamingTV', 'internet.StreamingMovies', 'account.Contract',\n",
       "       'account.PaperlessBilling', 'account.PaymentMethod',\n",
       "       'account.Charges.Monthly', 'account.Charges.Total'],\n",
       "      dtype='object')"
      ]
     },
     "execution_count": 9,
     "metadata": {},
     "output_type": "execute_result"
    }
   ],
   "source": [
    "columnas = raw_data.columns\n",
    "columnas"
   ]
  },
  {
   "cell_type": "code",
   "execution_count": 10,
   "id": "2dfa9c78-26b1-4737-a13b-1aebad8410db",
   "metadata": {},
   "outputs": [],
   "source": [
    "nuevas_columnas = [\n",
    "    columnas\n",
    "    .str.replace('customer.', '')\n",
    "    .str.replace('phone.', '')   \n",
    "    .str.replace('internet.', '')\n",
    "    .str.replace('account.', '').tolist()\n",
    "]"
   ]
  },
  {
   "cell_type": "code",
   "execution_count": 11,
   "id": "ddd77e80-7dd5-4489-bc3e-84409d3e5386",
   "metadata": {},
   "outputs": [
    {
     "data": {
      "text/plain": [
       "[['customerID',\n",
       "  'Churn',\n",
       "  'gender',\n",
       "  'SeniorCitizen',\n",
       "  'Partner',\n",
       "  'Dependents',\n",
       "  'tenure',\n",
       "  'PhoneService',\n",
       "  'MultipleLines',\n",
       "  'InternetService',\n",
       "  'OnlineSecurity',\n",
       "  'OnlineBackup',\n",
       "  'DeviceProtection',\n",
       "  'TechSupport',\n",
       "  'StreamingTV',\n",
       "  'StreamingMovies',\n",
       "  'Contract',\n",
       "  'PaperlessBilling',\n",
       "  'PaymentMethod',\n",
       "  'Charges.Monthly',\n",
       "  'Charges.Total']]"
      ]
     },
     "execution_count": 11,
     "metadata": {},
     "output_type": "execute_result"
    }
   ],
   "source": [
    "nuevas_columnas"
   ]
  },
  {
   "cell_type": "code",
   "execution_count": 12,
   "id": "7b5f07e8-3dfc-4079-8e35-b57868f89156",
   "metadata": {},
   "outputs": [],
   "source": [
    "# Crear copia para mantener datos en su estado original por si se necesitan\n",
    "df = raw_data.copy()\n",
    "\n",
    "# Utilizar la lista con las columnas con nombres normalizados\n",
    "df.columns = nuevas_columnas[0]"
   ]
  },
  {
   "cell_type": "markdown",
   "id": "cc7b7712-d014-4dbb-babc-247c7cf6a951",
   "metadata": {},
   "source": [
    "# 3. Análisis Exploratorio de Datos (EDA)"
   ]
  },
  {
   "cell_type": "markdown",
   "id": "c229c9ee-1900-4d25-a266-7689ca51c7d9",
   "metadata": {},
   "source": [
    "## 3.1 Exploración y Transformación de datos"
   ]
  },
  {
   "cell_type": "code",
   "execution_count": 13,
   "id": "92e6e5ca-2ab2-43f2-9242-160abc75dc3a",
   "metadata": {},
   "outputs": [
    {
     "name": "stdout",
     "output_type": "stream",
     "text": [
      "<class 'pandas.core.frame.DataFrame'>\n",
      "RangeIndex: 7267 entries, 0 to 7266\n",
      "Data columns (total 21 columns):\n",
      " #   Column            Non-Null Count  Dtype  \n",
      "---  ------            --------------  -----  \n",
      " 0   customerID        7267 non-null   object \n",
      " 1   Churn             7267 non-null   object \n",
      " 2   gender            7267 non-null   object \n",
      " 3   SeniorCitizen     7267 non-null   int64  \n",
      " 4   Partner           7267 non-null   object \n",
      " 5   Dependents        7267 non-null   object \n",
      " 6   tenure            7267 non-null   int64  \n",
      " 7   PhoneService      7267 non-null   object \n",
      " 8   MultipleLines     7267 non-null   object \n",
      " 9   InternetService   7267 non-null   object \n",
      " 10  OnlineSecurity    7267 non-null   object \n",
      " 11  OnlineBackup      7267 non-null   object \n",
      " 12  DeviceProtection  7267 non-null   object \n",
      " 13  TechSupport       7267 non-null   object \n",
      " 14  StreamingTV       7267 non-null   object \n",
      " 15  StreamingMovies   7267 non-null   object \n",
      " 16  Contract          7267 non-null   object \n",
      " 17  PaperlessBilling  7267 non-null   object \n",
      " 18  PaymentMethod     7267 non-null   object \n",
      " 19  Charges.Monthly   7267 non-null   float64\n",
      " 20  Charges.Total     7267 non-null   object \n",
      "dtypes: float64(1), int64(2), object(18)\n",
      "memory usage: 1.2+ MB\n"
     ]
    }
   ],
   "source": [
    "df.info()"
   ]
  },
  {
   "cell_type": "markdown",
   "id": "9fb31c99-e9aa-4da1-a204-732219942d07",
   "metadata": {},
   "source": [
    "### Observaciones:\n",
    "\n",
    "El conjunto de datos al parecer no presenta valores nulos *(Missing values)*.<br>\n",
    "Sin embargo, podemos observar que si bien `'Charges.Monthly'` tiene tipo de dato `float64`, `'Charges.Total'` no ha sido tomada como columna numérica, a pesar de que a simple vista parece contener solo información numérica. Esto puede deberse a que haya valores mal cargados. Por lo que habrá que investigar más en detalle esta columna."
   ]
  },
  {
   "cell_type": "markdown",
   "id": "fd386142-13a4-4f6a-8f40-a6098cd319f9",
   "metadata": {},
   "source": [
    "### Variables numéricas"
   ]
  },
  {
   "cell_type": "code",
   "execution_count": 14,
   "id": "c2ee845e-94d9-4007-9e8b-4c1c50da97cc",
   "metadata": {},
   "outputs": [],
   "source": [
    "# Intentar convertir la columna a tipo coma flotante para ver que error arroja\n",
    "#df['Charges.Total'].astype(np.float64)"
   ]
  },
  {
   "cell_type": "markdown",
   "id": "327fbd9a-dc11-4c05-801a-5d6024b0dd9a",
   "metadata": {},
   "source": [
    "El error obtenido indica que no se puede convertir `' '` en `float64`.\n",
    "Por lo que inicialmente reemplazaré dicho string por 0 e intentar ejecutar el código anterior nuevamente para ver si esto soluciona el problema"
   ]
  },
  {
   "cell_type": "code",
   "execution_count": 15,
   "id": "b17549eb-be69-4a43-9537-3d716e0cddd6",
   "metadata": {},
   "outputs": [
    {
     "data": {
      "text/html": [
       "<div>\n",
       "<style scoped>\n",
       "    .dataframe tbody tr th:only-of-type {\n",
       "        vertical-align: middle;\n",
       "    }\n",
       "\n",
       "    .dataframe tbody tr th {\n",
       "        vertical-align: top;\n",
       "    }\n",
       "\n",
       "    .dataframe thead th {\n",
       "        text-align: right;\n",
       "    }\n",
       "</style>\n",
       "<table border=\"1\" class=\"dataframe\">\n",
       "  <thead>\n",
       "    <tr style=\"text-align: right;\">\n",
       "      <th></th>\n",
       "      <th>customerID</th>\n",
       "      <th>Churn</th>\n",
       "      <th>gender</th>\n",
       "      <th>SeniorCitizen</th>\n",
       "      <th>Partner</th>\n",
       "      <th>Dependents</th>\n",
       "      <th>tenure</th>\n",
       "      <th>PhoneService</th>\n",
       "      <th>MultipleLines</th>\n",
       "      <th>InternetService</th>\n",
       "      <th>...</th>\n",
       "      <th>OnlineBackup</th>\n",
       "      <th>DeviceProtection</th>\n",
       "      <th>TechSupport</th>\n",
       "      <th>StreamingTV</th>\n",
       "      <th>StreamingMovies</th>\n",
       "      <th>Contract</th>\n",
       "      <th>PaperlessBilling</th>\n",
       "      <th>PaymentMethod</th>\n",
       "      <th>Charges.Monthly</th>\n",
       "      <th>Charges.Total</th>\n",
       "    </tr>\n",
       "  </thead>\n",
       "  <tbody>\n",
       "    <tr>\n",
       "      <th>975</th>\n",
       "      <td>1371-DWPAZ</td>\n",
       "      <td>No</td>\n",
       "      <td>Female</td>\n",
       "      <td>0</td>\n",
       "      <td>Yes</td>\n",
       "      <td>Yes</td>\n",
       "      <td>0</td>\n",
       "      <td>No</td>\n",
       "      <td>No phone service</td>\n",
       "      <td>DSL</td>\n",
       "      <td>...</td>\n",
       "      <td>Yes</td>\n",
       "      <td>Yes</td>\n",
       "      <td>Yes</td>\n",
       "      <td>Yes</td>\n",
       "      <td>No</td>\n",
       "      <td>Two year</td>\n",
       "      <td>No</td>\n",
       "      <td>Credit card (automatic)</td>\n",
       "      <td>56.05</td>\n",
       "      <td></td>\n",
       "    </tr>\n",
       "    <tr>\n",
       "      <th>1775</th>\n",
       "      <td>2520-SGTTA</td>\n",
       "      <td>No</td>\n",
       "      <td>Female</td>\n",
       "      <td>0</td>\n",
       "      <td>Yes</td>\n",
       "      <td>Yes</td>\n",
       "      <td>0</td>\n",
       "      <td>Yes</td>\n",
       "      <td>No</td>\n",
       "      <td>No</td>\n",
       "      <td>...</td>\n",
       "      <td>No internet service</td>\n",
       "      <td>No internet service</td>\n",
       "      <td>No internet service</td>\n",
       "      <td>No internet service</td>\n",
       "      <td>No internet service</td>\n",
       "      <td>Two year</td>\n",
       "      <td>No</td>\n",
       "      <td>Mailed check</td>\n",
       "      <td>20.00</td>\n",
       "      <td></td>\n",
       "    </tr>\n",
       "    <tr>\n",
       "      <th>1955</th>\n",
       "      <td>2775-SEFEE</td>\n",
       "      <td>No</td>\n",
       "      <td>Male</td>\n",
       "      <td>0</td>\n",
       "      <td>No</td>\n",
       "      <td>Yes</td>\n",
       "      <td>0</td>\n",
       "      <td>Yes</td>\n",
       "      <td>Yes</td>\n",
       "      <td>DSL</td>\n",
       "      <td>...</td>\n",
       "      <td>Yes</td>\n",
       "      <td>No</td>\n",
       "      <td>Yes</td>\n",
       "      <td>No</td>\n",
       "      <td>No</td>\n",
       "      <td>Two year</td>\n",
       "      <td>Yes</td>\n",
       "      <td>Bank transfer (automatic)</td>\n",
       "      <td>61.90</td>\n",
       "      <td></td>\n",
       "    </tr>\n",
       "    <tr>\n",
       "      <th>2075</th>\n",
       "      <td>2923-ARZLG</td>\n",
       "      <td>No</td>\n",
       "      <td>Male</td>\n",
       "      <td>0</td>\n",
       "      <td>Yes</td>\n",
       "      <td>Yes</td>\n",
       "      <td>0</td>\n",
       "      <td>Yes</td>\n",
       "      <td>No</td>\n",
       "      <td>No</td>\n",
       "      <td>...</td>\n",
       "      <td>No internet service</td>\n",
       "      <td>No internet service</td>\n",
       "      <td>No internet service</td>\n",
       "      <td>No internet service</td>\n",
       "      <td>No internet service</td>\n",
       "      <td>One year</td>\n",
       "      <td>Yes</td>\n",
       "      <td>Mailed check</td>\n",
       "      <td>19.70</td>\n",
       "      <td></td>\n",
       "    </tr>\n",
       "    <tr>\n",
       "      <th>2232</th>\n",
       "      <td>3115-CZMZD</td>\n",
       "      <td>No</td>\n",
       "      <td>Male</td>\n",
       "      <td>0</td>\n",
       "      <td>No</td>\n",
       "      <td>Yes</td>\n",
       "      <td>0</td>\n",
       "      <td>Yes</td>\n",
       "      <td>No</td>\n",
       "      <td>No</td>\n",
       "      <td>...</td>\n",
       "      <td>No internet service</td>\n",
       "      <td>No internet service</td>\n",
       "      <td>No internet service</td>\n",
       "      <td>No internet service</td>\n",
       "      <td>No internet service</td>\n",
       "      <td>Two year</td>\n",
       "      <td>No</td>\n",
       "      <td>Mailed check</td>\n",
       "      <td>20.25</td>\n",
       "      <td></td>\n",
       "    </tr>\n",
       "    <tr>\n",
       "      <th>2308</th>\n",
       "      <td>3213-VVOLG</td>\n",
       "      <td>No</td>\n",
       "      <td>Male</td>\n",
       "      <td>0</td>\n",
       "      <td>Yes</td>\n",
       "      <td>Yes</td>\n",
       "      <td>0</td>\n",
       "      <td>Yes</td>\n",
       "      <td>Yes</td>\n",
       "      <td>No</td>\n",
       "      <td>...</td>\n",
       "      <td>No internet service</td>\n",
       "      <td>No internet service</td>\n",
       "      <td>No internet service</td>\n",
       "      <td>No internet service</td>\n",
       "      <td>No internet service</td>\n",
       "      <td>Two year</td>\n",
       "      <td>No</td>\n",
       "      <td>Mailed check</td>\n",
       "      <td>25.35</td>\n",
       "      <td></td>\n",
       "    </tr>\n",
       "    <tr>\n",
       "      <th>2930</th>\n",
       "      <td>4075-WKNIU</td>\n",
       "      <td>No</td>\n",
       "      <td>Female</td>\n",
       "      <td>0</td>\n",
       "      <td>Yes</td>\n",
       "      <td>Yes</td>\n",
       "      <td>0</td>\n",
       "      <td>Yes</td>\n",
       "      <td>Yes</td>\n",
       "      <td>DSL</td>\n",
       "      <td>...</td>\n",
       "      <td>Yes</td>\n",
       "      <td>Yes</td>\n",
       "      <td>Yes</td>\n",
       "      <td>Yes</td>\n",
       "      <td>No</td>\n",
       "      <td>Two year</td>\n",
       "      <td>No</td>\n",
       "      <td>Mailed check</td>\n",
       "      <td>73.35</td>\n",
       "      <td></td>\n",
       "    </tr>\n",
       "    <tr>\n",
       "      <th>3134</th>\n",
       "      <td>4367-NUYAO</td>\n",
       "      <td>No</td>\n",
       "      <td>Male</td>\n",
       "      <td>0</td>\n",
       "      <td>Yes</td>\n",
       "      <td>Yes</td>\n",
       "      <td>0</td>\n",
       "      <td>Yes</td>\n",
       "      <td>Yes</td>\n",
       "      <td>No</td>\n",
       "      <td>...</td>\n",
       "      <td>No internet service</td>\n",
       "      <td>No internet service</td>\n",
       "      <td>No internet service</td>\n",
       "      <td>No internet service</td>\n",
       "      <td>No internet service</td>\n",
       "      <td>Two year</td>\n",
       "      <td>No</td>\n",
       "      <td>Mailed check</td>\n",
       "      <td>25.75</td>\n",
       "      <td></td>\n",
       "    </tr>\n",
       "    <tr>\n",
       "      <th>3203</th>\n",
       "      <td>4472-LVYGI</td>\n",
       "      <td>No</td>\n",
       "      <td>Female</td>\n",
       "      <td>0</td>\n",
       "      <td>Yes</td>\n",
       "      <td>Yes</td>\n",
       "      <td>0</td>\n",
       "      <td>No</td>\n",
       "      <td>No phone service</td>\n",
       "      <td>DSL</td>\n",
       "      <td>...</td>\n",
       "      <td>No</td>\n",
       "      <td>Yes</td>\n",
       "      <td>Yes</td>\n",
       "      <td>Yes</td>\n",
       "      <td>No</td>\n",
       "      <td>Two year</td>\n",
       "      <td>Yes</td>\n",
       "      <td>Bank transfer (automatic)</td>\n",
       "      <td>52.55</td>\n",
       "      <td></td>\n",
       "    </tr>\n",
       "    <tr>\n",
       "      <th>4169</th>\n",
       "      <td>5709-LVOEQ</td>\n",
       "      <td>No</td>\n",
       "      <td>Female</td>\n",
       "      <td>0</td>\n",
       "      <td>Yes</td>\n",
       "      <td>Yes</td>\n",
       "      <td>0</td>\n",
       "      <td>Yes</td>\n",
       "      <td>No</td>\n",
       "      <td>DSL</td>\n",
       "      <td>...</td>\n",
       "      <td>Yes</td>\n",
       "      <td>Yes</td>\n",
       "      <td>No</td>\n",
       "      <td>Yes</td>\n",
       "      <td>Yes</td>\n",
       "      <td>Two year</td>\n",
       "      <td>No</td>\n",
       "      <td>Mailed check</td>\n",
       "      <td>80.85</td>\n",
       "      <td></td>\n",
       "    </tr>\n",
       "    <tr>\n",
       "      <th>5599</th>\n",
       "      <td>7644-OMVMY</td>\n",
       "      <td>No</td>\n",
       "      <td>Male</td>\n",
       "      <td>0</td>\n",
       "      <td>Yes</td>\n",
       "      <td>Yes</td>\n",
       "      <td>0</td>\n",
       "      <td>Yes</td>\n",
       "      <td>No</td>\n",
       "      <td>No</td>\n",
       "      <td>...</td>\n",
       "      <td>No internet service</td>\n",
       "      <td>No internet service</td>\n",
       "      <td>No internet service</td>\n",
       "      <td>No internet service</td>\n",
       "      <td>No internet service</td>\n",
       "      <td>Two year</td>\n",
       "      <td>No</td>\n",
       "      <td>Mailed check</td>\n",
       "      <td>19.85</td>\n",
       "      <td></td>\n",
       "    </tr>\n",
       "  </tbody>\n",
       "</table>\n",
       "<p>11 rows × 21 columns</p>\n",
       "</div>"
      ],
      "text/plain": [
       "      customerID Churn  gender  SeniorCitizen Partner Dependents  tenure  \\\n",
       "975   1371-DWPAZ    No  Female              0     Yes        Yes       0   \n",
       "1775  2520-SGTTA    No  Female              0     Yes        Yes       0   \n",
       "1955  2775-SEFEE    No    Male              0      No        Yes       0   \n",
       "2075  2923-ARZLG    No    Male              0     Yes        Yes       0   \n",
       "2232  3115-CZMZD    No    Male              0      No        Yes       0   \n",
       "2308  3213-VVOLG    No    Male              0     Yes        Yes       0   \n",
       "2930  4075-WKNIU    No  Female              0     Yes        Yes       0   \n",
       "3134  4367-NUYAO    No    Male              0     Yes        Yes       0   \n",
       "3203  4472-LVYGI    No  Female              0     Yes        Yes       0   \n",
       "4169  5709-LVOEQ    No  Female              0     Yes        Yes       0   \n",
       "5599  7644-OMVMY    No    Male              0     Yes        Yes       0   \n",
       "\n",
       "     PhoneService     MultipleLines InternetService  ...         OnlineBackup  \\\n",
       "975            No  No phone service             DSL  ...                  Yes   \n",
       "1775          Yes                No              No  ...  No internet service   \n",
       "1955          Yes               Yes             DSL  ...                  Yes   \n",
       "2075          Yes                No              No  ...  No internet service   \n",
       "2232          Yes                No              No  ...  No internet service   \n",
       "2308          Yes               Yes              No  ...  No internet service   \n",
       "2930          Yes               Yes             DSL  ...                  Yes   \n",
       "3134          Yes               Yes              No  ...  No internet service   \n",
       "3203           No  No phone service             DSL  ...                   No   \n",
       "4169          Yes                No             DSL  ...                  Yes   \n",
       "5599          Yes                No              No  ...  No internet service   \n",
       "\n",
       "         DeviceProtection          TechSupport          StreamingTV  \\\n",
       "975                   Yes                  Yes                  Yes   \n",
       "1775  No internet service  No internet service  No internet service   \n",
       "1955                   No                  Yes                   No   \n",
       "2075  No internet service  No internet service  No internet service   \n",
       "2232  No internet service  No internet service  No internet service   \n",
       "2308  No internet service  No internet service  No internet service   \n",
       "2930                  Yes                  Yes                  Yes   \n",
       "3134  No internet service  No internet service  No internet service   \n",
       "3203                  Yes                  Yes                  Yes   \n",
       "4169                  Yes                   No                  Yes   \n",
       "5599  No internet service  No internet service  No internet service   \n",
       "\n",
       "          StreamingMovies  Contract PaperlessBilling  \\\n",
       "975                    No  Two year               No   \n",
       "1775  No internet service  Two year               No   \n",
       "1955                   No  Two year              Yes   \n",
       "2075  No internet service  One year              Yes   \n",
       "2232  No internet service  Two year               No   \n",
       "2308  No internet service  Two year               No   \n",
       "2930                   No  Two year               No   \n",
       "3134  No internet service  Two year               No   \n",
       "3203                   No  Two year              Yes   \n",
       "4169                  Yes  Two year               No   \n",
       "5599  No internet service  Two year               No   \n",
       "\n",
       "                  PaymentMethod Charges.Monthly  Charges.Total  \n",
       "975     Credit card (automatic)           56.05                 \n",
       "1775               Mailed check           20.00                 \n",
       "1955  Bank transfer (automatic)           61.90                 \n",
       "2075               Mailed check           19.70                 \n",
       "2232               Mailed check           20.25                 \n",
       "2308               Mailed check           25.35                 \n",
       "2930               Mailed check           73.35                 \n",
       "3134               Mailed check           25.75                 \n",
       "3203  Bank transfer (automatic)           52.55                 \n",
       "4169               Mailed check           80.85                 \n",
       "5599               Mailed check           19.85                 \n",
       "\n",
       "[11 rows x 21 columns]"
      ]
     },
     "execution_count": 15,
     "metadata": {},
     "output_type": "execute_result"
    }
   ],
   "source": [
    "df[df['Charges.Total'] == ' ']"
   ]
  },
  {
   "cell_type": "code",
   "execution_count": 16,
   "id": "e815422a-54f0-4ba5-b127-4cf521eb84fb",
   "metadata": {},
   "outputs": [
    {
     "data": {
      "text/plain": [
       "array([ True,  True,  True,  True,  True,  True,  True,  True,  True,\n",
       "        True,  True])"
      ]
     },
     "execution_count": 16,
     "metadata": {},
     "output_type": "execute_result"
    }
   ],
   "source": [
    "df[df['Charges.Total'] == ' '].index == df[df['tenure'] == 0].index"
   ]
  },
  {
   "cell_type": "markdown",
   "id": "21ad4836-d1b5-4c43-b511-550acf5519e8",
   "metadata": {},
   "source": [
    "#### Observaciones: Valores faltantes `Charges.Total`"
   ]
  },
  {
   "cell_type": "markdown",
   "id": "1d56550a-a239-45e7-8908-0ea6cbdf44b5",
   "metadata": {},
   "source": [
    "Es posible observar que los valores faltantes en Charge.Total pertenecen a aquellos contratos nuevos que aun no tienen siquiera un mes de antiguedad, por lo que aun no se les ha cobrado por el servicio, lo que lleva a que no tengan nada en dicha columna.\n",
    "Esto sera solucionado reemplazando el espacio en blanco por 0."
   ]
  },
  {
   "cell_type": "code",
   "execution_count": 17,
   "id": "305d4375-f0dc-4d8c-86db-0751ae60103e",
   "metadata": {},
   "outputs": [],
   "source": [
    "df['Charges.Total'] = df['Charges.Total'].replace(' ', '0')"
   ]
  },
  {
   "cell_type": "code",
   "execution_count": 18,
   "id": "8445cc47-edbf-410f-a1a8-c3aab34d5264",
   "metadata": {},
   "outputs": [],
   "source": [
    "df['Charges.Total'] = df['Charges.Total'].astype(np.float64)"
   ]
  },
  {
   "cell_type": "code",
   "execution_count": 19,
   "id": "3343b73f-8929-40e3-ae05-e75c51e1a333",
   "metadata": {},
   "outputs": [
    {
     "name": "stdout",
     "output_type": "stream",
     "text": [
      "<class 'pandas.core.frame.DataFrame'>\n",
      "RangeIndex: 7267 entries, 0 to 7266\n",
      "Data columns (total 21 columns):\n",
      " #   Column            Non-Null Count  Dtype  \n",
      "---  ------            --------------  -----  \n",
      " 0   customerID        7267 non-null   object \n",
      " 1   Churn             7267 non-null   object \n",
      " 2   gender            7267 non-null   object \n",
      " 3   SeniorCitizen     7267 non-null   int64  \n",
      " 4   Partner           7267 non-null   object \n",
      " 5   Dependents        7267 non-null   object \n",
      " 6   tenure            7267 non-null   int64  \n",
      " 7   PhoneService      7267 non-null   object \n",
      " 8   MultipleLines     7267 non-null   object \n",
      " 9   InternetService   7267 non-null   object \n",
      " 10  OnlineSecurity    7267 non-null   object \n",
      " 11  OnlineBackup      7267 non-null   object \n",
      " 12  DeviceProtection  7267 non-null   object \n",
      " 13  TechSupport       7267 non-null   object \n",
      " 14  StreamingTV       7267 non-null   object \n",
      " 15  StreamingMovies   7267 non-null   object \n",
      " 16  Contract          7267 non-null   object \n",
      " 17  PaperlessBilling  7267 non-null   object \n",
      " 18  PaymentMethod     7267 non-null   object \n",
      " 19  Charges.Monthly   7267 non-null   float64\n",
      " 20  Charges.Total     7267 non-null   float64\n",
      "dtypes: float64(2), int64(2), object(17)\n",
      "memory usage: 1.2+ MB\n"
     ]
    }
   ],
   "source": [
    "df.info()"
   ]
  },
  {
   "cell_type": "code",
   "execution_count": 20,
   "id": "09717c49-ad65-4c9b-b7e0-80e172a0b54a",
   "metadata": {},
   "outputs": [],
   "source": [
    "df['Charges.Daily'] = round(df['Charges.Monthly'] / 30, 2)"
   ]
  },
  {
   "cell_type": "code",
   "execution_count": 21,
   "id": "7584ac79-75bc-4f3f-bb74-b45334c4d806",
   "metadata": {},
   "outputs": [
    {
     "data": {
      "text/plain": [
       "Index(['customerID', 'Churn', 'gender', 'SeniorCitizen', 'Partner',\n",
       "       'Dependents', 'tenure', 'PhoneService', 'MultipleLines',\n",
       "       'InternetService', 'OnlineSecurity', 'OnlineBackup', 'DeviceProtection',\n",
       "       'TechSupport', 'StreamingTV', 'StreamingMovies', 'Contract',\n",
       "       'PaperlessBilling', 'PaymentMethod', 'Charges.Monthly', 'Charges.Total',\n",
       "       'Charges.Daily'],\n",
       "      dtype='object')"
      ]
     },
     "execution_count": 21,
     "metadata": {},
     "output_type": "execute_result"
    }
   ],
   "source": [
    "df.columns"
   ]
  },
  {
   "cell_type": "code",
   "execution_count": 22,
   "id": "b5d2155a-8d1e-4c9c-a26f-c5661d0f743c",
   "metadata": {},
   "outputs": [],
   "source": [
    "df.columns = ['CustomerID', 'Churn', 'Gender', 'SeniorCitizen', 'Partner',\n",
    "       'Dependents', 'Tenure', 'PhoneService', 'MultipleLines',\n",
    "       'InternetService', 'OnlineSecurity', 'OnlineBackup', 'DeviceProtection',\n",
    "       'TechSupport', 'StreamingTV', 'StreamingMovies', 'Contract',\n",
    "       'PaperlessBilling', 'PaymentMethod', 'ChargesMonthly', 'ChargesTotal',\n",
    "       'ChargesDaily']"
   ]
  },
  {
   "cell_type": "code",
   "execution_count": 23,
   "id": "eeb79bc8-4528-47c5-866e-9f46016ec261",
   "metadata": {},
   "outputs": [
    {
     "data": {
      "text/html": [
       "<div>\n",
       "<style scoped>\n",
       "    .dataframe tbody tr th:only-of-type {\n",
       "        vertical-align: middle;\n",
       "    }\n",
       "\n",
       "    .dataframe tbody tr th {\n",
       "        vertical-align: top;\n",
       "    }\n",
       "\n",
       "    .dataframe thead th {\n",
       "        text-align: right;\n",
       "    }\n",
       "</style>\n",
       "<table border=\"1\" class=\"dataframe\">\n",
       "  <thead>\n",
       "    <tr style=\"text-align: right;\">\n",
       "      <th></th>\n",
       "      <th>CustomerID</th>\n",
       "      <th>Gender</th>\n",
       "      <th>SeniorCitizen</th>\n",
       "      <th>Partner</th>\n",
       "      <th>Dependents</th>\n",
       "      <th>Tenure</th>\n",
       "      <th>PhoneService</th>\n",
       "      <th>MultipleLines</th>\n",
       "      <th>InternetService</th>\n",
       "      <th>OnlineSecurity</th>\n",
       "      <th>...</th>\n",
       "      <th>TechSupport</th>\n",
       "      <th>StreamingTV</th>\n",
       "      <th>StreamingMovies</th>\n",
       "      <th>Contract</th>\n",
       "      <th>PaperlessBilling</th>\n",
       "      <th>PaymentMethod</th>\n",
       "      <th>ChargesDaily</th>\n",
       "      <th>ChargesMonthly</th>\n",
       "      <th>ChargesTotal</th>\n",
       "      <th>Churn</th>\n",
       "    </tr>\n",
       "  </thead>\n",
       "  <tbody>\n",
       "    <tr>\n",
       "      <th>0</th>\n",
       "      <td>0002-ORFBO</td>\n",
       "      <td>Female</td>\n",
       "      <td>0</td>\n",
       "      <td>Yes</td>\n",
       "      <td>Yes</td>\n",
       "      <td>9</td>\n",
       "      <td>Yes</td>\n",
       "      <td>No</td>\n",
       "      <td>DSL</td>\n",
       "      <td>No</td>\n",
       "      <td>...</td>\n",
       "      <td>Yes</td>\n",
       "      <td>Yes</td>\n",
       "      <td>No</td>\n",
       "      <td>One year</td>\n",
       "      <td>Yes</td>\n",
       "      <td>Mailed check</td>\n",
       "      <td>2.19</td>\n",
       "      <td>65.6</td>\n",
       "      <td>593.30</td>\n",
       "      <td>No</td>\n",
       "    </tr>\n",
       "    <tr>\n",
       "      <th>1</th>\n",
       "      <td>0003-MKNFE</td>\n",
       "      <td>Male</td>\n",
       "      <td>0</td>\n",
       "      <td>No</td>\n",
       "      <td>No</td>\n",
       "      <td>9</td>\n",
       "      <td>Yes</td>\n",
       "      <td>Yes</td>\n",
       "      <td>DSL</td>\n",
       "      <td>No</td>\n",
       "      <td>...</td>\n",
       "      <td>No</td>\n",
       "      <td>No</td>\n",
       "      <td>Yes</td>\n",
       "      <td>Month-to-month</td>\n",
       "      <td>No</td>\n",
       "      <td>Mailed check</td>\n",
       "      <td>2.00</td>\n",
       "      <td>59.9</td>\n",
       "      <td>542.40</td>\n",
       "      <td>No</td>\n",
       "    </tr>\n",
       "    <tr>\n",
       "      <th>2</th>\n",
       "      <td>0004-TLHLJ</td>\n",
       "      <td>Male</td>\n",
       "      <td>0</td>\n",
       "      <td>No</td>\n",
       "      <td>No</td>\n",
       "      <td>4</td>\n",
       "      <td>Yes</td>\n",
       "      <td>No</td>\n",
       "      <td>Fiber optic</td>\n",
       "      <td>No</td>\n",
       "      <td>...</td>\n",
       "      <td>No</td>\n",
       "      <td>No</td>\n",
       "      <td>No</td>\n",
       "      <td>Month-to-month</td>\n",
       "      <td>Yes</td>\n",
       "      <td>Electronic check</td>\n",
       "      <td>2.46</td>\n",
       "      <td>73.9</td>\n",
       "      <td>280.85</td>\n",
       "      <td>Yes</td>\n",
       "    </tr>\n",
       "    <tr>\n",
       "      <th>3</th>\n",
       "      <td>0011-IGKFF</td>\n",
       "      <td>Male</td>\n",
       "      <td>1</td>\n",
       "      <td>Yes</td>\n",
       "      <td>No</td>\n",
       "      <td>13</td>\n",
       "      <td>Yes</td>\n",
       "      <td>No</td>\n",
       "      <td>Fiber optic</td>\n",
       "      <td>No</td>\n",
       "      <td>...</td>\n",
       "      <td>No</td>\n",
       "      <td>Yes</td>\n",
       "      <td>Yes</td>\n",
       "      <td>Month-to-month</td>\n",
       "      <td>Yes</td>\n",
       "      <td>Electronic check</td>\n",
       "      <td>3.27</td>\n",
       "      <td>98.0</td>\n",
       "      <td>1237.85</td>\n",
       "      <td>Yes</td>\n",
       "    </tr>\n",
       "    <tr>\n",
       "      <th>4</th>\n",
       "      <td>0013-EXCHZ</td>\n",
       "      <td>Female</td>\n",
       "      <td>1</td>\n",
       "      <td>Yes</td>\n",
       "      <td>No</td>\n",
       "      <td>3</td>\n",
       "      <td>Yes</td>\n",
       "      <td>No</td>\n",
       "      <td>Fiber optic</td>\n",
       "      <td>No</td>\n",
       "      <td>...</td>\n",
       "      <td>Yes</td>\n",
       "      <td>Yes</td>\n",
       "      <td>No</td>\n",
       "      <td>Month-to-month</td>\n",
       "      <td>Yes</td>\n",
       "      <td>Mailed check</td>\n",
       "      <td>2.80</td>\n",
       "      <td>83.9</td>\n",
       "      <td>267.40</td>\n",
       "      <td>Yes</td>\n",
       "    </tr>\n",
       "  </tbody>\n",
       "</table>\n",
       "<p>5 rows × 22 columns</p>\n",
       "</div>"
      ],
      "text/plain": [
       "   CustomerID  Gender  SeniorCitizen Partner Dependents  Tenure PhoneService  \\\n",
       "0  0002-ORFBO  Female              0     Yes        Yes       9          Yes   \n",
       "1  0003-MKNFE    Male              0      No         No       9          Yes   \n",
       "2  0004-TLHLJ    Male              0      No         No       4          Yes   \n",
       "3  0011-IGKFF    Male              1     Yes         No      13          Yes   \n",
       "4  0013-EXCHZ  Female              1     Yes         No       3          Yes   \n",
       "\n",
       "  MultipleLines InternetService OnlineSecurity  ... TechSupport StreamingTV  \\\n",
       "0            No             DSL             No  ...         Yes         Yes   \n",
       "1           Yes             DSL             No  ...          No          No   \n",
       "2            No     Fiber optic             No  ...          No          No   \n",
       "3            No     Fiber optic             No  ...          No         Yes   \n",
       "4            No     Fiber optic             No  ...         Yes         Yes   \n",
       "\n",
       "  StreamingMovies        Contract PaperlessBilling     PaymentMethod  \\\n",
       "0              No        One year              Yes      Mailed check   \n",
       "1             Yes  Month-to-month               No      Mailed check   \n",
       "2              No  Month-to-month              Yes  Electronic check   \n",
       "3             Yes  Month-to-month              Yes  Electronic check   \n",
       "4              No  Month-to-month              Yes      Mailed check   \n",
       "\n",
       "  ChargesDaily ChargesMonthly  ChargesTotal  Churn  \n",
       "0         2.19           65.6        593.30     No  \n",
       "1         2.00           59.9        542.40     No  \n",
       "2         2.46           73.9        280.85    Yes  \n",
       "3         3.27           98.0       1237.85    Yes  \n",
       "4         2.80           83.9        267.40    Yes  \n",
       "\n",
       "[5 rows x 22 columns]"
      ]
     },
     "execution_count": 23,
     "metadata": {},
     "output_type": "execute_result"
    }
   ],
   "source": [
    "columnas_ordenadas = ['CustomerID', 'Gender', 'SeniorCitizen', 'Partner',\n",
    "       'Dependents', 'Tenure', 'PhoneService', 'MultipleLines',\n",
    "       'InternetService', 'OnlineSecurity', 'OnlineBackup', 'DeviceProtection',\n",
    "       'TechSupport', 'StreamingTV', 'StreamingMovies', 'Contract',\n",
    "       'PaperlessBilling', 'PaymentMethod',\n",
    "       'ChargesDaily', 'ChargesMonthly', 'ChargesTotal', 'Churn']\n",
    "df = df[columnas_ordenadas]\n",
    "df.head()"
   ]
  },
  {
   "cell_type": "markdown",
   "id": "12f01b4a-ad0a-47b5-a725-0d4928b490bf",
   "metadata": {},
   "source": [
    "### 3.1.2 Variables categóricas"
   ]
  },
  {
   "cell_type": "markdown",
   "id": "f80cc5a4-941d-4824-8cd9-d113166028cd",
   "metadata": {},
   "source": [
    "Lo primero será verificar que la columna `CustomerID` tenga la misma cantidad de valores únicos como filas en el DataFrame"
   ]
  },
  {
   "cell_type": "code",
   "execution_count": 24,
   "id": "22ac2fba-95bb-4307-a288-4e8b1af33c72",
   "metadata": {},
   "outputs": [
    {
     "data": {
      "text/plain": [
       "7267"
      ]
     },
     "execution_count": 24,
     "metadata": {},
     "output_type": "execute_result"
    }
   ],
   "source": [
    "len(df['CustomerID'].unique())"
   ]
  },
  {
   "cell_type": "markdown",
   "id": "0be0e046-ef76-42c9-8ed2-a631cb0c9a6e",
   "metadata": {},
   "source": [
    "Se puede observar que la columna `CustomerID` cuenta con 7267 valores unicos, que es exactamente la cantidad de registros en el DataFrame, lo que quiere decir que no hay registros duplicados."
   ]
  },
  {
   "cell_type": "code",
   "execution_count": 25,
   "id": "b4af3718-8c4a-4f63-947b-a72b78a0a04b",
   "metadata": {},
   "outputs": [
    {
     "name": "stdout",
     "output_type": "stream",
     "text": [
      "Valores unicos en columna Churn:\n",
      "['No' 'Yes' '']\n",
      "\n",
      "Valores unicos en columna Gender:\n",
      "['Female' 'Male']\n",
      "\n",
      "Valores unicos en columna SeniorCitizen:\n",
      "[0 1]\n",
      "\n",
      "Valores unicos en columna Partner:\n",
      "['Yes' 'No']\n",
      "\n",
      "Valores unicos en columna Dependents:\n",
      "['Yes' 'No']\n",
      "\n",
      "Valores unicos en columna PhoneService:\n",
      "['Yes' 'No']\n",
      "\n",
      "Valores unicos en columna MultipleLines:\n",
      "['No' 'Yes' 'No phone service']\n",
      "\n",
      "Valores unicos en columna InternetService:\n",
      "['DSL' 'Fiber optic' 'No']\n",
      "\n",
      "Valores unicos en columna OnlineSecurity:\n",
      "['No' 'Yes' 'No internet service']\n",
      "\n",
      "Valores unicos en columna OnlineBackup:\n",
      "['Yes' 'No' 'No internet service']\n",
      "\n",
      "Valores unicos en columna DeviceProtection:\n",
      "['No' 'Yes' 'No internet service']\n",
      "\n",
      "Valores unicos en columna TechSupport:\n",
      "['Yes' 'No' 'No internet service']\n",
      "\n",
      "Valores unicos en columna StreamingTV:\n",
      "['Yes' 'No' 'No internet service']\n",
      "\n",
      "Valores unicos en columna StreamingMovies:\n",
      "['No' 'Yes' 'No internet service']\n",
      "\n",
      "Valores unicos en columna Contract:\n",
      "['One year' 'Month-to-month' 'Two year']\n",
      "\n",
      "Valores unicos en columna PaperlessBilling:\n",
      "['Yes' 'No']\n",
      "\n",
      "Valores unicos en columna PaymentMethod:\n",
      "['Mailed check' 'Electronic check' 'Credit card (automatic)'\n",
      " 'Bank transfer (automatic)']\n",
      "\n"
     ]
    }
   ],
   "source": [
    "columnas_categoricas = ['Churn', 'Gender', 'SeniorCitizen', 'Partner',\n",
    "       'Dependents', 'PhoneService', 'MultipleLines',\n",
    "       'InternetService', 'OnlineSecurity', 'OnlineBackup', 'DeviceProtection',\n",
    "       'TechSupport', 'StreamingTV', 'StreamingMovies', 'Contract',\n",
    "       'PaperlessBilling', 'PaymentMethod']\n",
    "for columna in columnas_categoricas:\n",
    "    print(f'Valores unicos en columna {columna}:\\n{df[columna].unique()}\\n')"
   ]
  },
  {
   "cell_type": "markdown",
   "id": "425aec52-ee70-4de1-8806-b0ae1c493688",
   "metadata": {},
   "source": [
    "#### Observaciones iniciales: Variables categóricas\n",
    "\n",
    "* La variable `Churn` tambien presenta valores incomplentos, solo que estan disfrazados por `' '`, por eso no fueron captados en el comando `df.info()`\n",
    "* La variable `SeniorCitizen` tiene valores `0 y 1`. Esto resulta inconsistente con el resto de variables que toman valores `Yes` y `No`. Si bien el formato de esta columna sería el correcto para el equipo de Data Science, temporalmente mantendré el formato del resto de columnas ya que estaré analizando carácteristicas, al final entregaré el conjunto de datos con las variables mapeadeas correctamente para su utilización en modelos predictivos.\n",
    "* Otra observación es que existe cierta información que puede resultar redundante. Todas los clientes que tengan `InternetService == 'No'`, tendrán las columnas `[OnlineSecurity, OnlineBackup, DeviceProtection, TechSupport, StreamingTV, StreamingMovies] == 'No internet service'`. Para mantener una uniformidad categórica, simplemente cambiaré ese `'No internet service'` por `'No'`. Lo mismo para la columna `MultipleLines` donde el valor es `No phone service`"
   ]
  },
  {
   "cell_type": "code",
   "execution_count": 26,
   "id": "a3aec93e-4175-4505-b8eb-40cc49c24ec1",
   "metadata": {},
   "outputs": [],
   "source": [
    "# Mapeo columna SeniorCitizen\n",
    "df['SeniorCitizen'] = df['SeniorCitizen'].apply(lambda row: 'Yes' if row == 1 else 'No')"
   ]
  },
  {
   "cell_type": "code",
   "execution_count": 27,
   "id": "e24c0749-95c8-4f90-95b9-644b7e034199",
   "metadata": {},
   "outputs": [],
   "source": [
    "int_service_columns = ['OnlineSecurity', 'OnlineBackup', 'DeviceProtection',\n",
    "                    'TechSupport', 'StreamingTV', 'StreamingMovies']"
   ]
  },
  {
   "cell_type": "code",
   "execution_count": 28,
   "id": "db64ebbc-c2ba-403e-9fa3-5ee1a882d917",
   "metadata": {},
   "outputs": [],
   "source": [
    "df['MultipleLines'] = df['MultipleLines'].apply(lambda row: row.replace('No phone service', 'No'))"
   ]
  },
  {
   "cell_type": "code",
   "execution_count": 29,
   "id": "3f65e0bb-0e87-4d9d-99c2-843badf3bea2",
   "metadata": {},
   "outputs": [],
   "source": [
    "for columna in int_service_columns:\n",
    "    df[columna] = df[columna].apply(lambda row: row.replace('No internet service', 'No'))"
   ]
  },
  {
   "cell_type": "code",
   "execution_count": 30,
   "id": "a17616da-cdf4-4b58-9a38-a78c07b14979",
   "metadata": {},
   "outputs": [
    {
     "name": "stdout",
     "output_type": "stream",
     "text": [
      "Valores unicos en columna Churn:\n",
      "['No' 'Yes' '']\n",
      "\n",
      "Valores unicos en columna Gender:\n",
      "['Female' 'Male']\n",
      "\n",
      "Valores unicos en columna SeniorCitizen:\n",
      "['No' 'Yes']\n",
      "\n",
      "Valores unicos en columna Partner:\n",
      "['Yes' 'No']\n",
      "\n",
      "Valores unicos en columna Dependents:\n",
      "['Yes' 'No']\n",
      "\n",
      "Valores unicos en columna PhoneService:\n",
      "['Yes' 'No']\n",
      "\n",
      "Valores unicos en columna MultipleLines:\n",
      "['No' 'Yes']\n",
      "\n",
      "Valores unicos en columna InternetService:\n",
      "['DSL' 'Fiber optic' 'No']\n",
      "\n",
      "Valores unicos en columna OnlineSecurity:\n",
      "['No' 'Yes']\n",
      "\n",
      "Valores unicos en columna OnlineBackup:\n",
      "['Yes' 'No']\n",
      "\n",
      "Valores unicos en columna DeviceProtection:\n",
      "['No' 'Yes']\n",
      "\n",
      "Valores unicos en columna TechSupport:\n",
      "['Yes' 'No']\n",
      "\n",
      "Valores unicos en columna StreamingTV:\n",
      "['Yes' 'No']\n",
      "\n",
      "Valores unicos en columna StreamingMovies:\n",
      "['No' 'Yes']\n",
      "\n",
      "Valores unicos en columna Contract:\n",
      "['One year' 'Month-to-month' 'Two year']\n",
      "\n",
      "Valores unicos en columna PaperlessBilling:\n",
      "['Yes' 'No']\n",
      "\n",
      "Valores unicos en columna PaymentMethod:\n",
      "['Mailed check' 'Electronic check' 'Credit card (automatic)'\n",
      " 'Bank transfer (automatic)']\n",
      "\n"
     ]
    }
   ],
   "source": [
    "columnas_categoricas = ['Churn', 'Gender', 'SeniorCitizen', 'Partner',\n",
    "       'Dependents', 'PhoneService', 'MultipleLines',\n",
    "       'InternetService', 'OnlineSecurity', 'OnlineBackup', 'DeviceProtection',\n",
    "       'TechSupport', 'StreamingTV', 'StreamingMovies', 'Contract',\n",
    "       'PaperlessBilling', 'PaymentMethod']\n",
    "for columna in columnas_categoricas:\n",
    "    print(f'Valores unicos en columna {columna}:\\n{df[columna].unique()}\\n')"
   ]
  },
  {
   "cell_type": "code",
   "execution_count": 31,
   "id": "0511892d-6e61-46ff-9a7a-d0caa08b5a9a",
   "metadata": {},
   "outputs": [
    {
     "data": {
      "text/html": [
       "<div>\n",
       "<style scoped>\n",
       "    .dataframe tbody tr th:only-of-type {\n",
       "        vertical-align: middle;\n",
       "    }\n",
       "\n",
       "    .dataframe tbody tr th {\n",
       "        vertical-align: top;\n",
       "    }\n",
       "\n",
       "    .dataframe thead th {\n",
       "        text-align: right;\n",
       "    }\n",
       "</style>\n",
       "<table border=\"1\" class=\"dataframe\">\n",
       "  <thead>\n",
       "    <tr style=\"text-align: right;\">\n",
       "      <th></th>\n",
       "      <th>CustomerID</th>\n",
       "      <th>Gender</th>\n",
       "      <th>SeniorCitizen</th>\n",
       "      <th>Partner</th>\n",
       "      <th>Dependents</th>\n",
       "      <th>Tenure</th>\n",
       "      <th>PhoneService</th>\n",
       "      <th>MultipleLines</th>\n",
       "      <th>InternetService</th>\n",
       "      <th>OnlineSecurity</th>\n",
       "      <th>...</th>\n",
       "      <th>TechSupport</th>\n",
       "      <th>StreamingTV</th>\n",
       "      <th>StreamingMovies</th>\n",
       "      <th>Contract</th>\n",
       "      <th>PaperlessBilling</th>\n",
       "      <th>PaymentMethod</th>\n",
       "      <th>ChargesDaily</th>\n",
       "      <th>ChargesMonthly</th>\n",
       "      <th>ChargesTotal</th>\n",
       "      <th>Churn</th>\n",
       "    </tr>\n",
       "  </thead>\n",
       "  <tbody>\n",
       "    <tr>\n",
       "      <th>30</th>\n",
       "      <td>0047-ZHDTW</td>\n",
       "      <td>Female</td>\n",
       "      <td>No</td>\n",
       "      <td>No</td>\n",
       "      <td>No</td>\n",
       "      <td>11</td>\n",
       "      <td>Yes</td>\n",
       "      <td>Yes</td>\n",
       "      <td>Fiber optic</td>\n",
       "      <td>Yes</td>\n",
       "      <td>...</td>\n",
       "      <td>No</td>\n",
       "      <td>No</td>\n",
       "      <td>No</td>\n",
       "      <td>Month-to-month</td>\n",
       "      <td>Yes</td>\n",
       "      <td>Bank transfer (automatic)</td>\n",
       "      <td>2.63</td>\n",
       "      <td>79.00</td>\n",
       "      <td>929.30</td>\n",
       "      <td></td>\n",
       "    </tr>\n",
       "    <tr>\n",
       "      <th>75</th>\n",
       "      <td>0120-YZLQA</td>\n",
       "      <td>Male</td>\n",
       "      <td>No</td>\n",
       "      <td>No</td>\n",
       "      <td>No</td>\n",
       "      <td>71</td>\n",
       "      <td>Yes</td>\n",
       "      <td>No</td>\n",
       "      <td>No</td>\n",
       "      <td>No</td>\n",
       "      <td>...</td>\n",
       "      <td>No</td>\n",
       "      <td>No</td>\n",
       "      <td>No</td>\n",
       "      <td>Two year</td>\n",
       "      <td>Yes</td>\n",
       "      <td>Credit card (automatic)</td>\n",
       "      <td>0.66</td>\n",
       "      <td>19.90</td>\n",
       "      <td>1355.10</td>\n",
       "      <td></td>\n",
       "    </tr>\n",
       "    <tr>\n",
       "      <th>96</th>\n",
       "      <td>0154-QYHJU</td>\n",
       "      <td>Male</td>\n",
       "      <td>No</td>\n",
       "      <td>No</td>\n",
       "      <td>No</td>\n",
       "      <td>29</td>\n",
       "      <td>Yes</td>\n",
       "      <td>No</td>\n",
       "      <td>DSL</td>\n",
       "      <td>Yes</td>\n",
       "      <td>...</td>\n",
       "      <td>Yes</td>\n",
       "      <td>No</td>\n",
       "      <td>No</td>\n",
       "      <td>One year</td>\n",
       "      <td>Yes</td>\n",
       "      <td>Electronic check</td>\n",
       "      <td>1.96</td>\n",
       "      <td>58.75</td>\n",
       "      <td>1696.20</td>\n",
       "      <td></td>\n",
       "    </tr>\n",
       "    <tr>\n",
       "      <th>98</th>\n",
       "      <td>0162-RZGMZ</td>\n",
       "      <td>Female</td>\n",
       "      <td>Yes</td>\n",
       "      <td>No</td>\n",
       "      <td>No</td>\n",
       "      <td>5</td>\n",
       "      <td>Yes</td>\n",
       "      <td>No</td>\n",
       "      <td>DSL</td>\n",
       "      <td>Yes</td>\n",
       "      <td>...</td>\n",
       "      <td>Yes</td>\n",
       "      <td>No</td>\n",
       "      <td>No</td>\n",
       "      <td>Month-to-month</td>\n",
       "      <td>No</td>\n",
       "      <td>Credit card (automatic)</td>\n",
       "      <td>2.00</td>\n",
       "      <td>59.90</td>\n",
       "      <td>287.85</td>\n",
       "      <td></td>\n",
       "    </tr>\n",
       "    <tr>\n",
       "      <th>175</th>\n",
       "      <td>0274-VVQOQ</td>\n",
       "      <td>Male</td>\n",
       "      <td>Yes</td>\n",
       "      <td>Yes</td>\n",
       "      <td>No</td>\n",
       "      <td>65</td>\n",
       "      <td>Yes</td>\n",
       "      <td>Yes</td>\n",
       "      <td>Fiber optic</td>\n",
       "      <td>No</td>\n",
       "      <td>...</td>\n",
       "      <td>No</td>\n",
       "      <td>Yes</td>\n",
       "      <td>Yes</td>\n",
       "      <td>One year</td>\n",
       "      <td>Yes</td>\n",
       "      <td>Bank transfer (automatic)</td>\n",
       "      <td>3.44</td>\n",
       "      <td>103.15</td>\n",
       "      <td>6792.45</td>\n",
       "      <td></td>\n",
       "    </tr>\n",
       "    <tr>\n",
       "      <th>...</th>\n",
       "      <td>...</td>\n",
       "      <td>...</td>\n",
       "      <td>...</td>\n",
       "      <td>...</td>\n",
       "      <td>...</td>\n",
       "      <td>...</td>\n",
       "      <td>...</td>\n",
       "      <td>...</td>\n",
       "      <td>...</td>\n",
       "      <td>...</td>\n",
       "      <td>...</td>\n",
       "      <td>...</td>\n",
       "      <td>...</td>\n",
       "      <td>...</td>\n",
       "      <td>...</td>\n",
       "      <td>...</td>\n",
       "      <td>...</td>\n",
       "      <td>...</td>\n",
       "      <td>...</td>\n",
       "      <td>...</td>\n",
       "      <td>...</td>\n",
       "    </tr>\n",
       "    <tr>\n",
       "      <th>7158</th>\n",
       "      <td>9840-GSRFX</td>\n",
       "      <td>Female</td>\n",
       "      <td>No</td>\n",
       "      <td>No</td>\n",
       "      <td>No</td>\n",
       "      <td>14</td>\n",
       "      <td>Yes</td>\n",
       "      <td>Yes</td>\n",
       "      <td>DSL</td>\n",
       "      <td>No</td>\n",
       "      <td>...</td>\n",
       "      <td>No</td>\n",
       "      <td>No</td>\n",
       "      <td>No</td>\n",
       "      <td>One year</td>\n",
       "      <td>Yes</td>\n",
       "      <td>Mailed check</td>\n",
       "      <td>1.81</td>\n",
       "      <td>54.25</td>\n",
       "      <td>773.20</td>\n",
       "      <td></td>\n",
       "    </tr>\n",
       "    <tr>\n",
       "      <th>7180</th>\n",
       "      <td>9872-RZQQB</td>\n",
       "      <td>Female</td>\n",
       "      <td>No</td>\n",
       "      <td>Yes</td>\n",
       "      <td>No</td>\n",
       "      <td>49</td>\n",
       "      <td>No</td>\n",
       "      <td>No</td>\n",
       "      <td>DSL</td>\n",
       "      <td>Yes</td>\n",
       "      <td>...</td>\n",
       "      <td>No</td>\n",
       "      <td>Yes</td>\n",
       "      <td>No</td>\n",
       "      <td>Month-to-month</td>\n",
       "      <td>No</td>\n",
       "      <td>Bank transfer (automatic)</td>\n",
       "      <td>1.36</td>\n",
       "      <td>40.65</td>\n",
       "      <td>2070.75</td>\n",
       "      <td></td>\n",
       "    </tr>\n",
       "    <tr>\n",
       "      <th>7211</th>\n",
       "      <td>9920-GNDMB</td>\n",
       "      <td>Male</td>\n",
       "      <td>No</td>\n",
       "      <td>No</td>\n",
       "      <td>No</td>\n",
       "      <td>9</td>\n",
       "      <td>Yes</td>\n",
       "      <td>Yes</td>\n",
       "      <td>Fiber optic</td>\n",
       "      <td>No</td>\n",
       "      <td>...</td>\n",
       "      <td>No</td>\n",
       "      <td>No</td>\n",
       "      <td>No</td>\n",
       "      <td>Month-to-month</td>\n",
       "      <td>Yes</td>\n",
       "      <td>Electronic check</td>\n",
       "      <td>2.54</td>\n",
       "      <td>76.25</td>\n",
       "      <td>684.85</td>\n",
       "      <td></td>\n",
       "    </tr>\n",
       "    <tr>\n",
       "      <th>7239</th>\n",
       "      <td>9955-RVWSC</td>\n",
       "      <td>Female</td>\n",
       "      <td>No</td>\n",
       "      <td>Yes</td>\n",
       "      <td>Yes</td>\n",
       "      <td>67</td>\n",
       "      <td>Yes</td>\n",
       "      <td>No</td>\n",
       "      <td>No</td>\n",
       "      <td>No</td>\n",
       "      <td>...</td>\n",
       "      <td>No</td>\n",
       "      <td>No</td>\n",
       "      <td>No</td>\n",
       "      <td>Two year</td>\n",
       "      <td>Yes</td>\n",
       "      <td>Bank transfer (automatic)</td>\n",
       "      <td>0.64</td>\n",
       "      <td>19.25</td>\n",
       "      <td>1372.90</td>\n",
       "      <td></td>\n",
       "    </tr>\n",
       "    <tr>\n",
       "      <th>7247</th>\n",
       "      <td>9966-VYRTZ</td>\n",
       "      <td>Female</td>\n",
       "      <td>No</td>\n",
       "      <td>Yes</td>\n",
       "      <td>Yes</td>\n",
       "      <td>31</td>\n",
       "      <td>Yes</td>\n",
       "      <td>No</td>\n",
       "      <td>No</td>\n",
       "      <td>No</td>\n",
       "      <td>...</td>\n",
       "      <td>No</td>\n",
       "      <td>No</td>\n",
       "      <td>No</td>\n",
       "      <td>Month-to-month</td>\n",
       "      <td>Yes</td>\n",
       "      <td>Mailed check</td>\n",
       "      <td>0.65</td>\n",
       "      <td>19.55</td>\n",
       "      <td>658.95</td>\n",
       "      <td></td>\n",
       "    </tr>\n",
       "  </tbody>\n",
       "</table>\n",
       "<p>224 rows × 22 columns</p>\n",
       "</div>"
      ],
      "text/plain": [
       "      CustomerID  Gender SeniorCitizen Partner Dependents  Tenure  \\\n",
       "30    0047-ZHDTW  Female            No      No         No      11   \n",
       "75    0120-YZLQA    Male            No      No         No      71   \n",
       "96    0154-QYHJU    Male            No      No         No      29   \n",
       "98    0162-RZGMZ  Female           Yes      No         No       5   \n",
       "175   0274-VVQOQ    Male           Yes     Yes         No      65   \n",
       "...          ...     ...           ...     ...        ...     ...   \n",
       "7158  9840-GSRFX  Female            No      No         No      14   \n",
       "7180  9872-RZQQB  Female            No     Yes         No      49   \n",
       "7211  9920-GNDMB    Male            No      No         No       9   \n",
       "7239  9955-RVWSC  Female            No     Yes        Yes      67   \n",
       "7247  9966-VYRTZ  Female            No     Yes        Yes      31   \n",
       "\n",
       "     PhoneService MultipleLines InternetService OnlineSecurity  ...  \\\n",
       "30            Yes           Yes     Fiber optic            Yes  ...   \n",
       "75            Yes            No              No             No  ...   \n",
       "96            Yes            No             DSL            Yes  ...   \n",
       "98            Yes            No             DSL            Yes  ...   \n",
       "175           Yes           Yes     Fiber optic             No  ...   \n",
       "...           ...           ...             ...            ...  ...   \n",
       "7158          Yes           Yes             DSL             No  ...   \n",
       "7180           No            No             DSL            Yes  ...   \n",
       "7211          Yes           Yes     Fiber optic             No  ...   \n",
       "7239          Yes            No              No             No  ...   \n",
       "7247          Yes            No              No             No  ...   \n",
       "\n",
       "     TechSupport StreamingTV StreamingMovies        Contract PaperlessBilling  \\\n",
       "30            No          No              No  Month-to-month              Yes   \n",
       "75            No          No              No        Two year              Yes   \n",
       "96           Yes          No              No        One year              Yes   \n",
       "98           Yes          No              No  Month-to-month               No   \n",
       "175           No         Yes             Yes        One year              Yes   \n",
       "...          ...         ...             ...             ...              ...   \n",
       "7158          No          No              No        One year              Yes   \n",
       "7180          No         Yes              No  Month-to-month               No   \n",
       "7211          No          No              No  Month-to-month              Yes   \n",
       "7239          No          No              No        Two year              Yes   \n",
       "7247          No          No              No  Month-to-month              Yes   \n",
       "\n",
       "                  PaymentMethod ChargesDaily ChargesMonthly  ChargesTotal  \\\n",
       "30    Bank transfer (automatic)         2.63          79.00        929.30   \n",
       "75      Credit card (automatic)         0.66          19.90       1355.10   \n",
       "96             Electronic check         1.96          58.75       1696.20   \n",
       "98      Credit card (automatic)         2.00          59.90        287.85   \n",
       "175   Bank transfer (automatic)         3.44         103.15       6792.45   \n",
       "...                         ...          ...            ...           ...   \n",
       "7158               Mailed check         1.81          54.25        773.20   \n",
       "7180  Bank transfer (automatic)         1.36          40.65       2070.75   \n",
       "7211           Electronic check         2.54          76.25        684.85   \n",
       "7239  Bank transfer (automatic)         0.64          19.25       1372.90   \n",
       "7247               Mailed check         0.65          19.55        658.95   \n",
       "\n",
       "      Churn  \n",
       "30           \n",
       "75           \n",
       "96           \n",
       "98           \n",
       "175          \n",
       "...     ...  \n",
       "7158         \n",
       "7180         \n",
       "7211         \n",
       "7239         \n",
       "7247         \n",
       "\n",
       "[224 rows x 22 columns]"
      ]
     },
     "execution_count": 31,
     "metadata": {},
     "output_type": "execute_result"
    }
   ],
   "source": [
    "df[df['Churn'] == '']"
   ]
  },
  {
   "cell_type": "code",
   "execution_count": 32,
   "id": "3685db71-35fb-4e32-bf8c-2ec02ba66d92",
   "metadata": {},
   "outputs": [
    {
     "name": "stdout",
     "output_type": "stream",
     "text": [
      "Porcentaje de Valores faltantes en etiqueta objetivo: 3.08%\n"
     ]
    }
   ],
   "source": [
    "print(f'Porcentaje de Valores faltantes en etiqueta objetivo: {round(224 / df.shape[0] * 100,2)}%')"
   ]
  },
  {
   "cell_type": "markdown",
   "id": "32a382ec-959d-4cfa-8906-f1730d262a7c",
   "metadata": {},
   "source": [
    "#### Observaciones:\n",
    "\n",
    "Ya que lo que se busca analizar es justamente el **Churn** de clientes, completar 224 registros sería perjudicar el análisis, ya que esto es análisis de datos, no predicción, por lo que estoy analizando lo \"historico\", no puedo inferir si estos tienen `Churn == Yes` o `Churn == No`.<br> \n",
    "Se podrían aplicar técnicas de ML no supervisado como KMeans para etiquetar los datos, pero por lo pronto dejaré estos registros almacenados en una variable aparte para no descartarlos por completo."
   ]
  },
  {
   "cell_type": "code",
   "execution_count": 33,
   "id": "77e1a71c-d8eb-450d-b177-7f007a43af9f",
   "metadata": {},
   "outputs": [],
   "source": [
    "df_churn = df.copy()\n",
    "df_unknown = df_churn.query('Churn != \"Yes\" & Churn != \"No\"')\n",
    "df_churn = df_churn.query('Churn == \"Yes\" | Churn == \"No\"')\n",
    "df_unknown['Churn'] = df_unknown['Churn'].apply(lambda row: row.replace('', 'Unknown'))"
   ]
  },
  {
   "cell_type": "code",
   "execution_count": 34,
   "id": "d1fee911-cf0b-4f58-9a28-e0a2ac608e81",
   "metadata": {},
   "outputs": [
    {
     "name": "stdout",
     "output_type": "stream",
     "text": [
      "<class 'pandas.core.frame.DataFrame'>\n",
      "Index: 7043 entries, 0 to 7266\n",
      "Data columns (total 22 columns):\n",
      " #   Column            Non-Null Count  Dtype  \n",
      "---  ------            --------------  -----  \n",
      " 0   CustomerID        7043 non-null   object \n",
      " 1   Gender            7043 non-null   object \n",
      " 2   SeniorCitizen     7043 non-null   object \n",
      " 3   Partner           7043 non-null   object \n",
      " 4   Dependents        7043 non-null   object \n",
      " 5   Tenure            7043 non-null   int64  \n",
      " 6   PhoneService      7043 non-null   object \n",
      " 7   MultipleLines     7043 non-null   object \n",
      " 8   InternetService   7043 non-null   object \n",
      " 9   OnlineSecurity    7043 non-null   object \n",
      " 10  OnlineBackup      7043 non-null   object \n",
      " 11  DeviceProtection  7043 non-null   object \n",
      " 12  TechSupport       7043 non-null   object \n",
      " 13  StreamingTV       7043 non-null   object \n",
      " 14  StreamingMovies   7043 non-null   object \n",
      " 15  Contract          7043 non-null   object \n",
      " 16  PaperlessBilling  7043 non-null   object \n",
      " 17  PaymentMethod     7043 non-null   object \n",
      " 18  ChargesDaily      7043 non-null   float64\n",
      " 19  ChargesMonthly    7043 non-null   float64\n",
      " 20  ChargesTotal      7043 non-null   float64\n",
      " 21  Churn             7043 non-null   object \n",
      "dtypes: float64(3), int64(1), object(18)\n",
      "memory usage: 1.2+ MB\n"
     ]
    }
   ],
   "source": [
    "df_churn.info()"
   ]
  },
  {
   "cell_type": "code",
   "execution_count": 35,
   "id": "1cfd9104-6cd4-466c-9951-e828d5838c9d",
   "metadata": {},
   "outputs": [
    {
     "data": {
      "text/html": [
       "<div>\n",
       "<style scoped>\n",
       "    .dataframe tbody tr th:only-of-type {\n",
       "        vertical-align: middle;\n",
       "    }\n",
       "\n",
       "    .dataframe tbody tr th {\n",
       "        vertical-align: top;\n",
       "    }\n",
       "\n",
       "    .dataframe thead th {\n",
       "        text-align: right;\n",
       "    }\n",
       "</style>\n",
       "<table border=\"1\" class=\"dataframe\">\n",
       "  <thead>\n",
       "    <tr style=\"text-align: right;\">\n",
       "      <th></th>\n",
       "      <th>Tenure</th>\n",
       "      <th>ChargesDaily</th>\n",
       "      <th>ChargesMonthly</th>\n",
       "      <th>ChargesTotal</th>\n",
       "    </tr>\n",
       "  </thead>\n",
       "  <tbody>\n",
       "    <tr>\n",
       "      <th>count</th>\n",
       "      <td>7043.000000</td>\n",
       "      <td>7043.000000</td>\n",
       "      <td>7043.000000</td>\n",
       "      <td>7043.000000</td>\n",
       "    </tr>\n",
       "    <tr>\n",
       "      <th>mean</th>\n",
       "      <td>32.371149</td>\n",
       "      <td>2.158675</td>\n",
       "      <td>64.761692</td>\n",
       "      <td>2279.734304</td>\n",
       "    </tr>\n",
       "    <tr>\n",
       "      <th>std</th>\n",
       "      <td>24.559481</td>\n",
       "      <td>1.003088</td>\n",
       "      <td>30.090047</td>\n",
       "      <td>2266.794470</td>\n",
       "    </tr>\n",
       "    <tr>\n",
       "      <th>min</th>\n",
       "      <td>0.000000</td>\n",
       "      <td>0.610000</td>\n",
       "      <td>18.250000</td>\n",
       "      <td>0.000000</td>\n",
       "    </tr>\n",
       "    <tr>\n",
       "      <th>25%</th>\n",
       "      <td>9.000000</td>\n",
       "      <td>1.180000</td>\n",
       "      <td>35.500000</td>\n",
       "      <td>398.550000</td>\n",
       "    </tr>\n",
       "    <tr>\n",
       "      <th>50%</th>\n",
       "      <td>29.000000</td>\n",
       "      <td>2.340000</td>\n",
       "      <td>70.350000</td>\n",
       "      <td>1394.550000</td>\n",
       "    </tr>\n",
       "    <tr>\n",
       "      <th>75%</th>\n",
       "      <td>55.000000</td>\n",
       "      <td>2.990000</td>\n",
       "      <td>89.850000</td>\n",
       "      <td>3786.600000</td>\n",
       "    </tr>\n",
       "    <tr>\n",
       "      <th>max</th>\n",
       "      <td>72.000000</td>\n",
       "      <td>3.960000</td>\n",
       "      <td>118.750000</td>\n",
       "      <td>8684.800000</td>\n",
       "    </tr>\n",
       "  </tbody>\n",
       "</table>\n",
       "</div>"
      ],
      "text/plain": [
       "            Tenure  ChargesDaily  ChargesMonthly  ChargesTotal\n",
       "count  7043.000000   7043.000000     7043.000000   7043.000000\n",
       "mean     32.371149      2.158675       64.761692   2279.734304\n",
       "std      24.559481      1.003088       30.090047   2266.794470\n",
       "min       0.000000      0.610000       18.250000      0.000000\n",
       "25%       9.000000      1.180000       35.500000    398.550000\n",
       "50%      29.000000      2.340000       70.350000   1394.550000\n",
       "75%      55.000000      2.990000       89.850000   3786.600000\n",
       "max      72.000000      3.960000      118.750000   8684.800000"
      ]
     },
     "execution_count": 35,
     "metadata": {},
     "output_type": "execute_result"
    }
   ],
   "source": [
    "df_churn.describe()"
   ]
  },
  {
   "cell_type": "markdown",
   "id": "018793f3-0645-430c-9bfb-820427b4fd44",
   "metadata": {},
   "source": [
    "## 3.2 Análisis y visualización de datos"
   ]
  },
  {
   "cell_type": "markdown",
   "id": "fc99810f-c99a-4f00-8261-56f245437863",
   "metadata": {},
   "source": [
    "Para comprender mejor los **factores que influyen en el abandono de clientes** en la empresa **Telecom X**, se plantean las siguientes preguntas orientadoras del análisis:\n",
    "\n",
    "**Antigüedad y facturación**\n",
    "\n",
    "1. ¿Existe relación entre la antigüedad del cliente y el abandono?\n",
    "2. ¿Existe relación entre el gasto mensual del cliente y su tendencia a dejar la empresa?\n",
    "3. ¿Existe relación en el gasto total a lo largo del ciclo de vida del cliente en la empresa y la posiblidad de abandono?\n",
    "\n",
    "**Servicios**\n",
    "\n",
    "4. ¿Algún servicio (PhoneService o InternetService) presenta mayor influencia en el abandono de clientes?\n",
    "5. ¿Existe relación entre la cantidad de servicios contratados y el abandono del cliente?\n",
    "6. ¿Cuál es el tipo de contrato adquirido por el cliente con mayor tendencia a la cancelación del servicio?\n",
    "7. ¿Algún método de pago influye en el abandono del cliente?\n",
    "\n",
    "**Perfil del cliente**\n",
    "\n",
    "8. ¿Algún género tiene mayor tendencia a dejar la empresa?\n",
    "9. ¿La edad (específicamente ser un ciudadano mayor), influye en la posibilidad de que un cliente abandone?\n",
    "10. ¿Existe relación entre la situación familiar del cliente *(pareja, personas a cargo)* y la posibilidad de abandono?"
   ]
  },
  {
   "cell_type": "markdown",
   "id": "2eb83496-d100-48eb-94e0-5979e82508fb",
   "metadata": {},
   "source": [
    "### Exploración: Balance del dataset"
   ]
  },
  {
   "cell_type": "code",
   "execution_count": 36,
   "id": "6bd77035-f413-4ba6-ad65-863ab79e4473",
   "metadata": {},
   "outputs": [],
   "source": [
    "# Colores de la paleta 'colorblind'\n",
    "colors = sns.color_palette('colorblind')\n",
    "cat_colors = ['#176d9c','#c38820','#158b6a']\n",
    "churn_colors = ['#4682b4', '#e9611d']"
   ]
  },
  {
   "cell_type": "code",
   "execution_count": 37,
   "id": "0f430551-1b49-4bf3-9d6a-2b58308582c7",
   "metadata": {},
   "outputs": [
    {
     "data": {
      "image/png": "[encoded data removed]",
      "text/plain": [
       "<Figure size 600x500 with 1 Axes>"
      ]
     },
     "metadata": {},
     "output_type": "display_data"
    }
   ],
   "source": [
    "churns = df_churn.groupby('Churn')['Churn'].value_counts()\n",
    "churns = pd.DataFrame(churns)\n",
    "fig, ax = plt.subplots(figsize=(6,5))\n",
    "ax = plt.pie(data=churns,\n",
    "             x=churns['count'],\n",
    "             labels=[\"Churn = 'No'\", \"Churn = 'Yes'\"],\n",
    "             autopct='%1.1f%%',\n",
    "             colors=churn_colors)\n",
    "\n",
    "plt.title('Proporción Churn (Evasión)', fontsize=16)\n",
    "\n",
    "plt.show()"
   ]
  },
  {
   "cell_type": "markdown",
   "id": "ac41e96c-331e-47f2-9557-e68393c15ce1",
   "metadata": {},
   "source": [
    "### **Antigüedad y facturación**"
   ]
  },
  {
   "cell_type": "markdown",
   "id": "1af82184-0a92-4134-bb5e-ca14758c2baf",
   "metadata": {},
   "source": [
    "#### 📌 1. ¿Existe relación entre la antigüedad del cliente y el abandono?"
   ]
  },
  {
   "cell_type": "markdown",
   "id": "e97ffee7-b5b4-47e7-9876-3f2e558444ae",
   "metadata": {},
   "source": [
    "Este será el primer análisis ya que la relación entre la antigüedad del cliente y su tendencia a dejar la empresa ofrecerá un panorama general para entender que segmento (antiguos o nuevos) es más propenso a irse."
   ]
  },
  {
   "cell_type": "code",
   "execution_count": 38,
   "id": "bc70b011-48a6-4f9b-aad9-0fd21450f22b",
   "metadata": {},
   "outputs": [
    {
     "data": {
      "image/png": "[encoded data removed]",
      "text/plain": [
       "<Figure size 800x500 with 1 Axes>"
      ]
     },
     "metadata": {},
     "output_type": "display_data"
    }
   ],
   "source": [
    "fig, ax = plt.subplots(figsize=(8, 5))\n",
    "ax = sns.boxplot(data=df_churn, x='Churn', y='Tenure', hue='Churn', palette=churn_colors)\n",
    "plt.title('Distribución de Tenure según Churn de clientes', fontsize=18, pad=20)\n",
    "plt.xlabel('Churn', fontsize=15)\n",
    "plt.ylabel('Tenure (meses)', fontsize=15)\n",
    "plt.xticks(fontsize=13)\n",
    "plt.grid(True)\n",
    "\n",
    "fig.savefig(figures_path/'boxplot_Churn_Tenure.png',\n",
    "            transparent=False,\n",
    "            dpi=300,\n",
    "            bbox_inches='tight')\n",
    "plt.show()"
   ]
  },
  {
   "cell_type": "markdown",
   "id": "5da6fb63-2580-49da-9858-18a49110ddd5",
   "metadata": {},
   "source": [
    "#### Observaciones: Distrubución de Tenure (Antigüedad) según Churn (Evasión) de clientes."
   ]
  },
  {
   "cell_type": "markdown",
   "id": "28173222-5bca-4116-929f-de6b30cf69e1",
   "metadata": {},
   "source": [
    "`Boxplot Churn == 'Yes'`\n",
    "\n",
    "*Características*:\n",
    "* Los lados de la caja van de los valores 2 hasta 29 meses aproximadamente\n",
    "* Mediana ubicada en el valor 10\n",
    "* El bigote inferior se encuentra en el valor 1 y el bigote superior en 69 aproximadamente, con unos cuantos valores atípicos *(outliers)* por encima.\n",
    "\n",
    "*Interpretación:*\n",
    "\n",
    "* La caja es más compacta a comparación del Boxplot de `Churn == 'No'` lo que indica una distribución más concentrada.\n",
    "* **Mediana = 10**: el 50% de los clientes que abandonan la empresa lo hacen con 10 meses o menos de antigüedad.\n",
    "* **El tercer cuartil (Q3)** se ubica en 29 meses, lo que indica que el 75% de los clientes que se dan de baja lo hacen antes de cumplir 30 meses con la empresa.\n",
    "\n",
    "`Boxplot Churn == 'No'`\n",
    "\n",
    "*Características*\n",
    "\n",
    "* La caja se extiende desde los 16 hasta los 61 meses aproximadamente.\n",
    "* La mediana está en torno a los 38 meses.\n",
    "* El bigote inferior llega hasta 0 y el bigote superior hasta 72.  \n",
    "\n",
    "*Interpretación:*\n",
    "\n",
    "* La distribución es más simétrica y extendida, indicando una mayor variabilidad en los clientes que permanecen en la empresa.\n",
    "* La mediana de 38 sugiere que la mitad de los clientes más leales tienen más de 3 años de antigüedad.\n",
    "\n",
    "\n",
    "**Conclusiones:**\n",
    "\n",
    "* Existe una fuerte tendencia al abandono entre los clientes nuevos. La mayoría de las bajas ocurren antes del primer año.\n",
    "* Sería interesante analizar las diferencias entre clientes con `Tenure` entre 16 y 30 meses, para entender qué factores podrían estar influyendo en la retención o abandono en ese período intermedio.\n",
    "* Asimismo, conviene estudiar el perfil de los clientes con menos de 15 meses de antigüedad, para identificar posibles oportunidades de mejora en la experiencia inicial del cliente."
   ]
  },
  {
   "cell_type": "markdown",
   "id": "b3daa834-1025-4560-8fcf-713b17643845",
   "metadata": {},
   "source": [
    " "
   ]
  },
  {
   "cell_type": "markdown",
   "id": "174faec5-278c-4fbe-8181-cbe7a0c8c9fe",
   "metadata": {},
   "source": [
    "**Debido a que los gráficos Boxplot no son fácil de entener para todo tipo de audiencias, exploraré algunas alternativas para incluir la distribución de variables en reportes**"
   ]
  },
  {
   "cell_type": "markdown",
   "id": "ef3093e1-25d9-483f-8efd-bf0fecaeb290",
   "metadata": {},
   "source": [
    "#### Alternativa 1"
   ]
  },
  {
   "cell_type": "code",
   "execution_count": 39,
   "id": "fbb69ff6-1cb7-4619-bef2-287468f14609",
   "metadata": {},
   "outputs": [
    {
     "data": {
      "image/png": "[encoded data removed]",
      "text/plain": [
       "<Figure size 800x500 with 1 Axes>"
      ]
     },
     "metadata": {},
     "output_type": "display_data"
    }
   ],
   "source": [
    "plt.figure(figsize=(8, 5))\n",
    "sns.barplot(data=df_churn, x='Churn', y='Tenure', hue='Churn', palette=churn_colors, errorbar='sd')\n",
    "plt.title('Promedio de Tenure según Churn de clientes', fontsize=16)\n",
    "plt.xlabel('Churn', fontsize=14)\n",
    "plt.ylabel('Tenure promedio (meses)', fontsize=14)\n",
    "plt.xticks(fontsize=13)\n",
    "plt.grid(True)\n",
    "plt.show()"
   ]
  },
  {
   "cell_type": "markdown",
   "id": "4ca8b071-83d9-438e-b575-697e222f8e71",
   "metadata": {},
   "source": [
    "#### Alternativa 2"
   ]
  },
  {
   "cell_type": "code",
   "execution_count": 40,
   "id": "f87f1ecf-6c0f-41df-939a-3633a38bc1dc",
   "metadata": {},
   "outputs": [
    {
     "data": {
      "image/png": "[encoded data removed]",
      "text/plain": [
       "<Figure size 800x500 with 1 Axes>"
      ]
     },
     "metadata": {},
     "output_type": "display_data"
    }
   ],
   "source": [
    "plt.figure(figsize=(8, 5))\n",
    "sns.histplot(data=df_churn, x='Tenure', hue='Churn', kde=True, palette=churn_colors, bins=30, alpha=0.5)\n",
    "plt.title('Distribución de Tenure (Antigüedad) según Churn', fontsize=16)\n",
    "plt.xlabel('Tenure (meses)', fontsize=14)\n",
    "plt.ylabel('Frecuencia', fontsize=14)\n",
    "plt.show()"
   ]
  },
  {
   "cell_type": "markdown",
   "id": "d04e2bc5-03b6-4c3d-932e-570f0dc86968",
   "metadata": {},
   "source": [
    "#### Alternativa 3"
   ]
  },
  {
   "cell_type": "code",
   "execution_count": 41,
   "id": "d8d79325-0440-4964-8adb-bf455633af40",
   "metadata": {},
   "outputs": [
    {
     "data": {
      "image/png": "[encoded data removed]",
      "text/plain": [
       "<Figure size 1200x500 with 2 Axes>"
      ]
     },
     "metadata": {},
     "output_type": "display_data"
    }
   ],
   "source": [
    "g = sns.FacetGrid(df_churn, col=\"Churn\", height=5, aspect=1.2)\n",
    "g.map(sns.histplot, \"Tenure\", bins=30, color='steelblue', kde=True)\n",
    "g.set_titles(\"Churn: {col_name}\", fontsize=16)\n",
    "g.set_axis_labels(\"Tenure (meses)\", \"Frecuencia\", fontsize=14)\n",
    "g.fig.suptitle(\"Distribución de Tenure segmentada por Churn\", fontsize=16, y=1.05)\n",
    "plt.show()"
   ]
  },
  {
   "cell_type": "code",
   "execution_count": 42,
   "id": "73d97d39-e0ca-4b94-ab00-ef790cc6a10a",
   "metadata": {},
   "outputs": [],
   "source": [
    "def histograma_churn(df, columna, xlabel: str = columna):\n",
    "    fig, axes = plt.subplots(2,1, figsize=(8,6))\n",
    "\n",
    "    sns.histplot(data=df[df['Churn'] == 'No'], x=columna, bins=30, color=churn_colors[0], kde=True, ax=axes[0])\n",
    "    axes[0].set_title(\"Churn = 'No'\", fontsize=15, fontweight='bold', loc='left', color='teal')\n",
    "    axes[0].set_xlabel(xlabel, fontsize=13)\n",
    "    axes[0].set_ylabel('Frecuencia', fontsize=13)\n",
    "    \n",
    "    sns.histplot(data=df[df['Churn'] == 'Yes'], x=columna, bins=30,  color=churn_colors[1], kde=True, ax=axes[1])\n",
    "    axes[1].set_title(\"Churn = 'Yes'\", fontsize=15, fontweight='bold', loc='left', color='indianred')\n",
    "    axes[1].set_xlabel(xlabel, fontsize=13)\n",
    "    axes[1].set_ylabel('Frecuencia', fontsize=13)\n",
    "    \n",
    "    sns.despine()\n",
    "    plt.suptitle(f'Distribución de {xlabel} según Evasión (Churn)', fontsize=18, y=1.01)\n",
    "    plt.subplots_adjust(hspace=2)\n",
    "    plt.tight_layout()\n",
    "    \n",
    "    fig.savefig(f'{figures_path}/hist_Churn_{columna}.png',\n",
    "                    transparent=False,\n",
    "                    dpi=300,\n",
    "                    bbox_inches='tight')\n",
    "    \n",
    "    plt.show()\n",
    "    return fig"
   ]
  },
  {
   "cell_type": "code",
   "execution_count": 43,
   "id": "a2dacf28-e8f0-4c87-add0-ae31cf0560cc",
   "metadata": {},
   "outputs": [
    {
     "data": {
      "image/png": "[encoded data removed]",
      "text/plain": [
       "<Figure size 800x600 with 2 Axes>"
      ]
     },
     "metadata": {},
     "output_type": "display_data"
    }
   ],
   "source": [
    "hist_tenure = histograma_churn(df_churn, 'Tenure', 'Tenure (meses)')"
   ]
  },
  {
   "cell_type": "markdown",
   "id": "340e3060-526e-4496-ad7b-94a5eab9b3b7",
   "metadata": {},
   "source": [
    "#### 📌 2. ¿Existe relación entre el gasto mensual del cliente y su tendencia a dejar la empresa?"
   ]
  },
  {
   "cell_type": "code",
   "execution_count": 44,
   "id": "f1f30370-fcef-41d9-9f7b-dce69866bebe",
   "metadata": {},
   "outputs": [
    {
     "data": {
      "image/png": "[encoded data removed]",
      "text/plain": [
       "<Figure size 800x500 with 1 Axes>"
      ]
     },
     "metadata": {},
     "output_type": "display_data"
    }
   ],
   "source": [
    "fig, ax = plt.subplots(figsize=(8, 5))\n",
    "ax = sns.boxplot(data=df_churn, x='Churn', y='ChargesMonthly', hue='Churn', palette=churn_colors)\n",
    "plt.title('Distribución de Gasto Mensual según Churn de clientes', fontsize=18, pad=20)\n",
    "plt.xlabel('Churn', fontsize=15)\n",
    "plt.ylabel('Gasto mensual', fontsize=15)\n",
    "plt.xticks(fontsize=13)\n",
    "plt.grid(True)\n",
    "\n",
    "fig.savefig(figures_path/'boxplot_Churn_ChargesMonthly.png',\n",
    "            transparent=False,\n",
    "            dpi=300,\n",
    "            bbox_inches='tight')\n",
    "plt.show()"
   ]
  },
  {
   "cell_type": "code",
   "execution_count": 45,
   "id": "32eae3a6-13f4-4315-aa9f-af7308beefa0",
   "metadata": {},
   "outputs": [
    {
     "data": {
      "image/png": "[encoded data removed]",
      "text/plain": [
       "<Figure size 800x600 with 2 Axes>"
      ]
     },
     "metadata": {},
     "output_type": "display_data"
    }
   ],
   "source": [
    "hist_chargesmonthly = histograma_churn(df_churn, 'ChargesMonthly', 'Gasto Mensual')"
   ]
  },
  {
   "cell_type": "markdown",
   "id": "952f8670-8c2a-4e5e-a6c6-61c7d7a4df46",
   "metadata": {},
   "source": [
    "#### Observaciones: Distribución de ChargesMonthly (gasto mensual) según Churn (abandono) de clientes."
   ]
  },
  {
   "cell_type": "markdown",
   "id": "a9f8a829-27bc-4708-ba30-41c8af3aa85e",
   "metadata": {},
   "source": [
    "`Boxplot Churn == 'Yes'`\n",
    "\n",
    "*Características:*\n",
    "\n",
    "* El 50% *(Q1 a Q3)* de los clientes que abandonan la empresa gastan entre 56 y 95 dólares aproximadamente *(limites de la caja)*.\n",
    "* Mediana ~79.\n",
    "* No existen valores atípicos.\n",
    "\n",
    "*Interpretación:*\n",
    "\n",
    "* La caja de `Churn == 'Yes'` es más compacta que la de `Churn == 'No'` al igual que en el análisis anterior, esto quiere decir que la distribución de los clientes que abandonan la empresa es más concentrada que los que no lo hacen. Lo que podría indicar que el gasto mensual del cliente es un gran influyente en relación al abandono.\n",
    "* **Mediana ~79**: 50% del total de clientes que dejan la empresa gasta entre ~19 USD y ~79 USD de manera mensual.\n",
    "* **Primer cuartil (Q1) y Mediana (Q2)**: La dispersión en este rango es más amplia, siendo entre 56 USD y 79 USD mensuales, lo que implica que la variedad en cuanto a la disconformidad de precio en este rango puede deberse a varias razones.\n",
    "* **Tercer cuartil (Q3):** Como se vio anteriormente, el 50% de los clientes que abandonan la empresa gastan hasta 79 USD mensuales, y el 75% de los clientes que la empresa pierde gasta entre 79 USD y 90 USD.\n",
    "\n",
    "\n",
    "`Boxplot Churn == 'No'`\n",
    "\n",
    "*Características:*\n",
    "\n",
    "* El gasto mensual de los clientes que deciden mantenerse en la empresa se eleva hasta los ~88 USD mensuales *(Q3)*.\n",
    "* Mediana ~65.\n",
    "* No existen valores atípicos.\n",
    "\n",
    "\n",
    "*Interpretación*\n",
    "\n",
    "* **Mediana ~65:** El 50% de clientes que deciden quedarse gastan hasta 65 USD mensuales.\n",
    "* **Rango intercuartílico (IQR):** La dispersion de los clientes que se mantienen en la empresa es más dispersa en comparación a aquellos que deciden abandonar, en un rango de aproximadamente 53 USD mensuales (88 USD - 25 USD). Esto los clientes que deciden quedarse están conformes con el precio que pagan por los serivicios adquiridos mensualmente.\n",
    "\n",
    "**Conclusiones:**\n",
    "\n",
    "* La variedad en cuanto a la disconformidad de los precios entre 56 y 79 USD mensuales, puede derivar en el análisis de tipo y cantidad de servicios de cada cliente y el precio que paga mensualmente, para entender por qué deciden dejar la empresa.\n",
    "* La concentración de registros con un gasto entre 79 y 96 USD mensuales resulta crítica ya que una diferencia de 11 USD mensaules abarca una cuarta parte de los clientes que abandonan la empresa, por lo que la empresa podría ajustar su precificación o generar promociónes que ayuden a la permanencia del cliente hasta los 18 meses aproximadamente, ya que en el análisis anterior fue posible observar que los clientes con más de 16 meses de permanencia en la empresa tienden a quedarse.\n",
    "* Es posible observar que la mediana de los clientes que deciden abandonar la empresa *(Churn = 'Yes')* segun el gasto mensual en el que incurren, coincide con aproximadamente el 68% de los clientes que deciden quedarse. Lo que sugiere que aquellos clientes con un gasto mensual mayor a 79USD son clientes con riesgo potencial a abandonar la empresa.\n"
   ]
  },
  {
   "cell_type": "markdown",
   "id": "7c71a7df-3969-4235-abbc-837348e5c4fc",
   "metadata": {},
   "source": [
    "#### 📌 3. ¿Existe relación en el gasto total a lo largo del ciclo de vida del cliente en la empresa y la posiblidad de abandono?"
   ]
  },
  {
   "cell_type": "code",
   "execution_count": 46,
   "id": "d435ef2b-5580-4282-b9ae-25153a585d72",
   "metadata": {},
   "outputs": [
    {
     "data": {
      "image/png": "[encoded data removed]",
      "text/plain": [
       "<Figure size 800x500 with 1 Axes>"
      ]
     },
     "metadata": {},
     "output_type": "display_data"
    }
   ],
   "source": [
    "fig, ax = plt.subplots(figsize=(8, 5))\n",
    "ax = sns.boxplot(data=df_churn, x='Churn', y='ChargesTotal', hue='Churn', palette=churn_colors)\n",
    "plt.title('Distribución de Gasto Total según Churn de clientes', fontsize=18, pad=20)\n",
    "plt.xlabel('Churn', fontsize=15)\n",
    "plt.ylabel('Gasto total', fontsize=15)\n",
    "plt.xticks(fontsize=13)\n",
    "plt.grid(True)\n",
    "\n",
    "fig.savefig(figures_path/'boxplot_Churn_ChargesTotal.png',\n",
    "            transparent=False,\n",
    "            dpi=300,\n",
    "            bbox_inches='tight')\n",
    "\n",
    "plt.show()"
   ]
  },
  {
   "cell_type": "code",
   "execution_count": null,
   "id": "684cc974-3a17-4e5a-9b52-a2ff4a8dfbcc",
   "metadata": {},
   "outputs": [],
   "source": [
    "hist_chargestotal = histograma_churn(df_churn, 'ChargesTotal', 'Gasto Total')"
   ]
  },
  {
   "cell_type": "markdown",
   "id": "21ea1f4e-eedc-4b43-9fe2-37c38e929147",
   "metadata": {},
   "source": [
    "#### Observaciones: Distribución de ChargesTotal (gasto total) según Churn (abandono) de clientes."
   ]
  },
  {
   "cell_type": "markdown",
   "id": "ac151664-cec3-4b99-a2b3-8f1aacf2de15",
   "metadata": {},
   "source": [
    "`Boxplot Churn == Yes`\n",
    "\n",
    "*Características:*\n",
    "\n",
    "* Los limites de la caja van desde ~50 hasta ~2200\n",
    "* Mediana ~800\n",
    "* Existen varios registros con valores atípicos\n",
    "\n",
    "*Interpretación:*\n",
    "\n",
    "* Existe una gran concentración de clientes que abandonan con un gasto total entre ~50 y ~800. Teniendo en cuenta que el promedio de gasto mensual es de 64 USD, esto concuerda con la observación de que gran parte de los clientes que deciden abandonar la empresa lo hacen antes de los 12 meses de antiguedad.\n",
    "* **Valores Atípicos**: Existe una notable cantidad de clientes con un gasto total elevado que han decidido dejar la empresa. Lo lógico es que sean clientes con una antigüedad considerable, ya que el gasto total supera los 5500 USD. Estos clientes no resaltaron en los dos análisis previos, lo que indica que si bien la tendencia de los clientes es abandonar en las etapas tempranas de la relación con la empresa, existe un grupo de clientes que han decidido abandonar después de una relación ya consolidada, por lo que sería interesante evaluar este grupo por separado para entender que factores influyeron en el abandono y diseñar estrategias de retención.\n",
    "\n",
    "`Boxplot Churn == No`\n",
    "\n",
    "*Características:*\n",
    "\n",
    "* Los limites de la caja van desde ~700 hasta ~4200\n",
    "* Mediana ~1800\n",
    "* No existen registros con valores atípicos\n",
    "\n",
    "*Interpretación:*\n",
    "\n",
    "* El 50% de clientes que decide quedarse en la empresa tiene un Gasto Total entre 700 y 4200 USD, lo que coincide con una relación ya estable con la organización.\n",
    "\n",
    "**Conclusiones:**\n",
    "\n",
    "* Este análisis verifica lo observado en relación al abandono en las etapas tempranas de la relación del cliente con la empresa.\n",
    "* Además, ha sido posible identificar que existe un grupo de clientes que decidieron abandonar la empresa con una antigüedad considerable, y que el gasto total de estos es bastante elevado, por lo que es necesario evaluar este grupo por separado y entender qué hizo que decidieran terminar su relación con la organización."
   ]
  },
  {
   "cell_type": "code",
   "execution_count": null,
   "id": "7d3dd959-97a8-4d98-a923-eef72d87bc92",
   "metadata": {},
   "outputs": [],
   "source": [
    "churn_yes = df_churn.query('Churn == \"Yes\"')\n",
    "total_q1 = churn_yes['ChargesTotal'].quantile(0.25)\n",
    "total_q3 = churn_yes['ChargesTotal'].quantile(0.75)\n",
    "total_iqr = total_q3 - total_q1\n",
    "upper_bound = total_iqr + total_iqr * 1.5\n",
    "print(f'Límite superior de Boxplot Churn = \"Yes\" en relación al Gasto total: {upper_bound}')\n",
    "outliers_churn_yes = churn_yes[churn_yes['ChargesTotal'] > upper_bound]\n",
    "print(f'Cantidad de valores atípicos de Churn = \"Yes\" en relación al Gasto Total: {len(outliers_churn_yes)} clientes')"
   ]
  },
  {
   "cell_type": "markdown",
   "id": "3188b69d-ce9f-4138-96c9-12d23f0caaab",
   "metadata": {},
   "source": [
    "### **Conclusiones: Antigüedad y Facturación**"
   ]
  },
  {
   "cell_type": "markdown",
   "id": "0b605fec-008c-4ba3-98c0-f417bfde7bcc",
   "metadata": {},
   "source": [
    "De las tres preguntas correspondientes a esta sección, se concluye lo siguiente:\n",
    "\n",
    "* **Antigüedad y gasto total** muestran un fuerte vínculo con el abandono, por lo que `Tenure` y `Charges.Total` se perfilan como variables potencialmente relevantes para el modelo predictivo de `Churn`.\n",
    "* Se identificó un grupo de **clientes de alto valor que abandonan**, lo cual no concuerda con el patrón general (abandono temprano). Este segmento debería ser investigado en profundidad —por ejemplo, a través de entrevistas post-baja o análisis multivariable— para detectar patrones comunes o eventos desencadenantes, con el objetivo de generar alertas tempranas.\n",
    "* Se observa una **alta concentración de abandono** cuando el gasto mensual supera los **79 USD**, dentro de un margen de **11 USD**. Esto sugiere que podría haber sensibilidad al precio en la gama **media-alta**, posiblemente por la competencia. Reforzando así la necesidad de analizar la relación entre `MonthlyCharges`, **tipo de servicios contratados y churn**, para ajustar estrategias de precio y retención."
   ]
  },
  {
   "cell_type": "markdown",
   "id": "a74f3862-9e3c-453d-b513-82100af8b7fb",
   "metadata": {},
   "source": [
    "### **Servicios**"
   ]
  },
  {
   "cell_type": "markdown",
   "id": "162de8c1-dd5f-42e6-9993-46d7b397cb9f",
   "metadata": {},
   "source": [
    "#### 📌 4. ¿Algún servicio (PhoneService o InternetService) presenta mayor influencia en el abandono de clientes?"
   ]
  },
  {
   "cell_type": "code",
   "execution_count": null,
   "id": "ee99fb51-b2b6-4258-ac5d-fa71b555947d",
   "metadata": {},
   "outputs": [],
   "source": [
    "df_servicios = df_churn.copy()"
   ]
  },
  {
   "cell_type": "code",
   "execution_count": null,
   "id": "ac441b51-3d56-410f-a37a-8313ea594065",
   "metadata": {},
   "outputs": [],
   "source": [
    "df_servicios.head(0)"
   ]
  },
  {
   "cell_type": "code",
   "execution_count": null,
   "id": "12ed4c1e-f3fe-4478-ac15-e9f997d2d4db",
   "metadata": {},
   "outputs": [],
   "source": [
    "df_servicios.drop(['CustomerID', 'Gender', 'SeniorCitizen', 'Partner', 'Dependents', 'Tenure'], axis=1, inplace=True)\n",
    "df_servicios.head()"
   ]
  },
  {
   "cell_type": "markdown",
   "id": "332262b8-0ce7-4ce4-93eb-f0bcd1af9712",
   "metadata": {},
   "source": [
    "##### **Phone Service**"
   ]
  },
  {
   "cell_type": "code",
   "execution_count": null,
   "id": "3e020e23-c506-470d-89ea-139fadb3e5cd",
   "metadata": {},
   "outputs": [],
   "source": [
    "df_phone = df_servicios.groupby('Churn')['PhoneService'].value_counts().to_frame()\n",
    "df_phone.reset_index(inplace=True)"
   ]
  },
  {
   "cell_type": "code",
   "execution_count": null,
   "id": "fc9cdce1-e53d-4785-9fa1-29176dc4a6fc",
   "metadata": {},
   "outputs": [],
   "source": [
    "df_phone"
   ]
  },
  {
   "cell_type": "code",
   "execution_count": null,
   "id": "01455ae9-99ef-43be-b28c-e9f065382bff",
   "metadata": {},
   "outputs": [],
   "source": [
    "fig, ax = plt.subplots(figsize=(8, 5))\n",
    "ax = sns.barplot(data=df_phone, x='Churn', y='count', hue='PhoneService', palette='colorblind')\n",
    "\n",
    "ax.set_title('Relación entre Phone Service y Churn', fontsize=18)\n",
    "ax.set_xlabel('Churn', fontsize=15)\n",
    "ax.set_ylabel('Cantidad de Clientes', fontsize=15)\n",
    "ax.legend(title='PhoneService')\n",
    "ax.set_xticks(ticks=df_phone['Churn'], labels=df_phone['Churn'], ha='center', size=12)\n",
    "\n",
    "for bar in ax.patches:\n",
    "    altura = bar.get_height()\n",
    "    if altura == 0:\n",
    "        continue\n",
    "    else:\n",
    "        ax.text(\n",
    "            bar.get_x() + bar.get_width() / 2,\n",
    "            altura + 30,\n",
    "            f'{altura:.0f}',\n",
    "            ha='center')\n",
    "\n",
    "\n",
    "sns.despine()\n",
    "plt.tight_layout()\n",
    "\n",
    "fig.savefig(figures_path/'bar_Churn_PhoneService.png',\n",
    "            transparent=False,\n",
    "            dpi=300,\n",
    "            bbox_inches='tight')\n",
    "\n",
    "plt.show()"
   ]
  },
  {
   "cell_type": "code",
   "execution_count": null,
   "id": "2d7240cb-8687-4665-97fc-5a02faef2856",
   "metadata": {},
   "outputs": [],
   "source": [
    "df_phone"
   ]
  },
  {
   "cell_type": "code",
   "execution_count": null,
   "id": "9fddc609-4b95-4832-bd73-c653cde297f6",
   "metadata": {},
   "outputs": [],
   "source": [
    "df_phone = df_phone.pivot(index='PhoneService', columns='Churn', values='count')\n",
    "df_phone.columns = ['No Churn', 'Churn']\n",
    "df_phone.reset_index(inplace=True)"
   ]
  },
  {
   "cell_type": "code",
   "execution_count": null,
   "id": "89a99634-bc1a-4448-b0a4-ea3c1294daa2",
   "metadata": {},
   "outputs": [],
   "source": [
    "valores_no_churn = df_phone['No Churn']\n",
    "valores_churn = df_phone['Churn']\n",
    "labels = ['No tiene Phone Service', 'Tiene Phone Service']\n",
    "\n",
    "# Crear figura\n",
    "fig, axes = plt.subplots(1, 2, figsize=(8, 5))\n",
    "\n",
    "explode = (0.05, 0.05)\n",
    "\n",
    "# Pie para clientes que NO abandonaron\n",
    "axes[0].pie(valores_no_churn,\n",
    "            labels=labels,\n",
    "            autopct='%1.1f%%',\n",
    "            startangle=90,\n",
    "            explode=explode,\n",
    "            colors=sns.color_palette(['powderblue', churn_colors[0]])\n",
    "           )\n",
    "axes[0].set_title(\"Churn = 'No'\", fontsize=15, fontweight='bold', color='teal')\n",
    "\n",
    "# Pie para clientes que SÍ abandonaron\n",
    "axes[1].pie(valores_churn,\n",
    "            labels=labels,\n",
    "            autopct='%1.1f%%',\n",
    "            startangle=90,\n",
    "            explode=explode,\n",
    "            colors=sns.color_palette(['#ffe1d3', churn_colors[1]])\n",
    "           )\n",
    "axes[1].set_title(\"Churn = 'Yes'\", fontsize=15, fontweight='bold', color='chocolate')\n",
    "\n",
    "# Título general\n",
    "plt.suptitle('Phone Service\\nComparativa según Evasión (Churn)', fontsize=18)\n",
    "\n",
    "plt.tight_layout()\n",
    "plt.subplots_adjust(hspace=0.8)\n",
    "\n",
    "fig.savefig(figures_path/'pie_Churn_PhoneService.png',\n",
    "            transparent=False,\n",
    "            dpi=300,\n",
    "            bbox_inches='tight')\n",
    "\n",
    "plt.show()"
   ]
  },
  {
   "cell_type": "markdown",
   "id": "de957241-742e-41ee-b24c-949af1e812d4",
   "metadata": {},
   "source": [
    "##### **Observaciones: Phone service**"
   ]
  },
  {
   "cell_type": "markdown",
   "id": "8b59624f-b8d7-4f90-b261-43b94f2206f4",
   "metadata": {},
   "source": [
    "* La proporción de clientes que cuentan con servicio telefónico que deciden quedarse o abandonar la empresa **varía solo en un 0.8%**, lo que indica que esta variable no tiene poder explicativo por sí sola."
   ]
  },
  {
   "cell_type": "markdown",
   "id": "9783bca6-6acf-459f-b241-a9a46bd397e9",
   "metadata": {},
   "source": [
    "##### **Internet Service**"
   ]
  },
  {
   "cell_type": "code",
   "execution_count": null,
   "id": "2d37e6c8-a9e2-40b9-aefc-0c94951b80eb",
   "metadata": {},
   "outputs": [],
   "source": [
    "df_internet = df_servicios.groupby('Churn')['InternetService'].value_counts().to_frame()\n",
    "df_internet"
   ]
  },
  {
   "cell_type": "code",
   "execution_count": null,
   "id": "0920aec3-ff9c-423b-87a7-166bea7f9243",
   "metadata": {},
   "outputs": [],
   "source": [
    "fig, ax = plt.subplots(figsize=(8, 5))\n",
    "ax = sns.barplot(data=df_internet, x='Churn', y='count', hue='InternetService', palette='colorblind')\n",
    "\n",
    "ax.set_title('Relación entre Internet Service y Churn', fontsize=18, pad=20)\n",
    "ax.set_xlabel('Churn', fontsize=15)\n",
    "ax.set_ylabel('Cantidad de Clientes', fontsize=15)\n",
    "ax.legend(title='InternetService')\n",
    "ax.tick_params(axis='both', labelsize=12)\n",
    "\n",
    "for bar in ax.patches:\n",
    "    altura = bar.get_height()\n",
    "    if altura == 0:\n",
    "        continue\n",
    "    else:\n",
    "        ax.text(\n",
    "            bar.get_x() + bar.get_width() / 2,\n",
    "            altura + 30,\n",
    "            f'{altura:.0f}',\n",
    "            ha='center')\n",
    "    \n",
    "sns.despine()\n",
    "plt.tight_layout()\n",
    "\n",
    "fig.savefig(figures_path/'bar_Churn_InternetService.png',\n",
    "            transparent=False,\n",
    "            dpi=300,\n",
    "            bbox_inches='tight')\n",
    "plt.show()"
   ]
  },
  {
   "cell_type": "markdown",
   "id": "0ea356ff-5979-4d89-a3cf-664c469f594b",
   "metadata": {},
   "source": [
    "##### **Tasa de abandono por Tipo de `InternetService`**"
   ]
  },
  {
   "cell_type": "code",
   "execution_count": null,
   "id": "89c9f35b-0f87-4e6e-9ecf-218b054e0af7",
   "metadata": {},
   "outputs": [],
   "source": [
    "#df_internet.reset_index(inplace=True)"
   ]
  },
  {
   "cell_type": "code",
   "execution_count": null,
   "id": "e608422e-4359-45e7-80d8-46c41f673827",
   "metadata": {},
   "outputs": [],
   "source": [
    "dsl = df_internet.query('InternetService == \"DSL\"')\n",
    "fiber_optic = df_internet.query('InternetService == \"Fiber optic\"')\n",
    "no_internet = df_internet.query('InternetService == \"No\"')"
   ]
  },
  {
   "cell_type": "code",
   "execution_count": null,
   "id": "f9b222dd-df59-4322-bc84-43665bf42a4c",
   "metadata": {},
   "outputs": [],
   "source": [
    "dsl_ratio = (dsl.loc['Yes', 'count'] / dsl['count'].sum() * 100).item()\n",
    "fiber_optic_ratio = (fiber_optic.loc['Yes', 'count'] / fiber_optic['count'].sum() * 100).item()\n",
    "no_internet_ratio = (no_internet.loc['Yes', 'count'] / no_internet['count'].sum() * 100).item()"
   ]
  },
  {
   "cell_type": "code",
   "execution_count": null,
   "id": "a108da08-699d-466b-b269-3c39605a1cfc",
   "metadata": {},
   "outputs": [],
   "source": [
    "churn_ratio_internetservice = pd.DataFrame({'Tasa abandono (%)': [round(dsl_ratio, 2),\n",
    "                                                                  round(fiber_optic_ratio, 2), \n",
    "                                                                  round(no_internet_ratio, 2)]},\n",
    "                                           index=['DSL', 'Fiber optic', 'No internet'])\n",
    "churn_ratio_internetservice.sort_values('Tasa abandono (%)', ascending=False)"
   ]
  },
  {
   "cell_type": "code",
   "execution_count": null,
   "id": "963258f3-159e-43a2-9608-8b553b4f1a74",
   "metadata": {},
   "outputs": [],
   "source": [
    "# Crear tabla para exportar como imagen\n",
    "fig, ax = plt.subplots(figsize=(6, 2))\n",
    "# Eliminar los ejes\n",
    "ax.axis('off')\n",
    "\n",
    "# Tabla\n",
    "tabla = ax.table(cellText=churn_ratio_internetservice.values,\n",
    "                 colLabels=churn_ratio_internetservice.columns,\n",
    "                 rowLabels=churn_ratio_internetservice.index,\n",
    "                 cellLoc='center',\n",
    "                 loc='center',\n",
    "                 colColours=['silver'],\n",
    "                 cellColours=[['silver'], ['tomato'], ['silver']],\n",
    "                 rowColours=['silver', 'tomato', 'silver'])\n",
    "\n",
    "plt.title('Evasión (Churn) - Internet Service', fontsize=14)\n",
    "# Escalar la tabla para mayor legibilidad\n",
    "tabla.scale(1, 2)\n",
    "\n",
    "plt.tight_layout()\n",
    "\n",
    "fig.savefig(figures_path/'rate_Churn_InternetService.png',\n",
    "            transparent=False,\n",
    "            dpi=300,\n",
    "            bbox_inches='tight')\n",
    "\n",
    "plt.show()"
   ]
  },
  {
   "cell_type": "markdown",
   "id": "d8a1c3cf-bfb4-4b4f-928b-66e30070d098",
   "metadata": {
    "jp-MarkdownHeadingCollapsed": true
   },
   "source": [
    "#### Observaciones: Evasión (Churn) en relación al tipo de servicio"
   ]
  },
  {
   "cell_type": "markdown",
   "id": "f5daeb3b-37ec-4386-9056-11a789f30eb2",
   "metadata": {},
   "source": [
    "**Servicio Telefónico *(PhoneService)***\n",
    "\n",
    "El servicio telefónico no parece tener una influencia significativa en la evasión *(Churn)* de clientes. Las proporciones de clientes que se quedan y los que se van son muy similares:\n",
    "\n",
    "* **Clientes que abandonan:**\n",
    "  - *Con Servicio Telefónico:* **90.9%**\n",
    "  - *Sin Servicio Telefónico:* **9.1%**\n",
    "* **Clientes que permanecen:**\n",
    "  - *Con Servicio Telefónico:* **90.1%**\n",
    "  - *Sin Servicio Telefónico:* **9.9%**\n",
    "\n",
    "Esto sugiere que el Phone Service no es un factor decisivo en la retención o pérdida de clientes.\n",
    "\n",
    "**Servicio de Internet *(InternetService)***\n",
    "\n",
    "Aquí se observa un contraste significativo entre los distintos tipos de servicio:\n",
    "\n",
    "* **Fibra Óptica:**\n",
    "  - *Tasa de abandono:* **41.89%**\n",
    "  - *Tasa de retención:* **58.11%**\n",
    "* **Servicio DSL:**\n",
    "  - *Tasa de abandono:* **18.96**\n",
    "  - *Tasa de retención:* **81.04%**\n",
    "* **Sin Servicio de Internet:**\n",
    "  - *Tasa de abandono:* **7.4%**\n",
    "  - *Tasa de retención:* **92.6%**\n",
    "\n",
    "Los clientes con servicio de fibra óptica presentan la tasa de abandono más alta, mientras que aquellos sin servicio de internet son los más propensos a permanecer.\n",
    "\n",
    "**Conclusión:**\n",
    "\n",
    "El marcado contraste entre la tasa de abandono de los clientes con **Fibra Óptica** y aquellos **sin servicio de internet** es un **fuerte indicador de insatisfacción** con el servicio de internet, especialmente el de fibra óptica.<br><br>\n",
    "Será crucial investigar si esto se debe a:\n",
    "* Problemas de calidad o estabilidad del servicio,\n",
    "* Relación precio-calidad percibida como desfavorable,\n",
    "* O factores como atención al cliente, instalación, soporte técnico, etc."
   ]
  },
  {
   "cell_type": "markdown",
   "id": "75854b62-3f95-4e16-9960-0c1f7a354bfd",
   "metadata": {},
   "source": [
    "#### 📌 5. ¿Existe relación entre la cantidad de servicios contratados y el abandono del cliente?"
   ]
  },
  {
   "cell_type": "code",
   "execution_count": null,
   "id": "10cfbfd9-4b7c-408a-b81f-77b5e476db31",
   "metadata": {},
   "outputs": [],
   "source": [
    "df_servicios.columns"
   ]
  },
  {
   "cell_type": "code",
   "execution_count": null,
   "id": "41bdec99-9cd3-4f0a-8135-6ef71edb21c0",
   "metadata": {},
   "outputs": [],
   "source": [
    "columnas_map = ['Churn', 'PhoneService', 'MultipleLines',\n",
    "       'OnlineSecurity', 'OnlineBackup', 'DeviceProtection', 'TechSupport',\n",
    "       'StreamingTV', 'StreamingMovies']\n",
    "\n",
    "for columna in columnas_map:\n",
    "    df_servicios[columna] = df_servicios[columna].map({'Yes': 1, 'No': 0})"
   ]
  },
  {
   "cell_type": "code",
   "execution_count": null,
   "id": "c7f4946b-1038-4e2d-bfbe-f16eff0c5430",
   "metadata": {},
   "outputs": [],
   "source": [
    "df_servicios['InternetService'] = df_servicios['InternetService'].map({'DSL': 1, 'Fiber optic': 1, 'No': 0})"
   ]
  },
  {
   "cell_type": "code",
   "execution_count": null,
   "id": "6ff3bc0e-6f2b-44ec-9119-a7796303cef7",
   "metadata": {},
   "outputs": [],
   "source": [
    "columnas_sumar = ['PhoneService', 'MultipleLines', 'InternetService',\n",
    "       'OnlineSecurity', 'OnlineBackup', 'DeviceProtection', 'TechSupport',\n",
    "       'StreamingTV', 'StreamingMovies']"
   ]
  },
  {
   "cell_type": "code",
   "execution_count": null,
   "id": "8b0b59fd-2795-49fe-96ff-fe7e8909c150",
   "metadata": {},
   "outputs": [],
   "source": [
    "df_servicios['ServiceQuantity'] = df_servicios[columnas_sumar].sum(axis=1)\n",
    "df_servicios.head()"
   ]
  },
  {
   "cell_type": "code",
   "execution_count": null,
   "id": "41e49b59-8b14-4490-8c94-ad99c684610a",
   "metadata": {},
   "outputs": [],
   "source": [
    "df_cantidad_servicios = df_servicios.groupby('ServiceQuantity')['Churn'].value_counts().to_frame()\n",
    "df_cantidad_servicios.reset_index(inplace=True)\n",
    "df_cantidad_servicios"
   ]
  },
  {
   "cell_type": "code",
   "execution_count": null,
   "id": "f172f0e4-3f04-4874-8d02-15e5413a8487",
   "metadata": {},
   "outputs": [],
   "source": [
    "cantidad_servicios = []\n",
    "tasa_abandono = []\n",
    "\n",
    "for i in range(1, df_cantidad_servicios['ServiceQuantity'].max()+1):\n",
    "    q = df_cantidad_servicios[df_cantidad_servicios['ServiceQuantity'] == i]\n",
    "    churn = q.loc[q['Churn'] == 1, 'count'].item()\n",
    "    total = q['count'].sum()\n",
    "    tasa_abandono.append(round(churn / total * 100, 2))\n",
    "    cantidad_servicios.append(i)\n",
    "\n",
    "tasa_abandono"
   ]
  },
  {
   "cell_type": "code",
   "execution_count": null,
   "id": "b4e9ca56-e2bb-460d-a39d-916b7dbf72d5",
   "metadata": {},
   "outputs": [],
   "source": [
    "servicios_abandono = pd.DataFrame({'Cantidad Servicios': cantidad_servicios, 'Tasa Abandono (%)': tasa_abandono})"
   ]
  },
  {
   "cell_type": "code",
   "execution_count": null,
   "id": "216c15a7-7543-486d-90bf-f21ea574fba0",
   "metadata": {},
   "outputs": [],
   "source": [
    "servicios_abandono"
   ]
  },
  {
   "cell_type": "code",
   "execution_count": null,
   "id": "e496767a-2d58-48b2-bb7c-5920e88105c2",
   "metadata": {},
   "outputs": [],
   "source": [
    "servicios_abandono"
   ]
  },
  {
   "cell_type": "code",
   "execution_count": null,
   "id": "b6f81010-d086-4189-b49a-caab003df9ea",
   "metadata": {},
   "outputs": [],
   "source": [
    "servicios_abandono.columns = ['Cantidad de Servicios', 'Tasa Abandono (%)']"
   ]
  },
  {
   "cell_type": "code",
   "execution_count": null,
   "id": "f3dc5e53-f4b2-4d48-bd8f-9022d46c9607",
   "metadata": {},
   "outputs": [],
   "source": [
    "data = servicios_abandono[['Cantidad de Servicios', 'Tasa Abandono (%)']].values.tolist()\n",
    "for dato in data:\n",
    "    dato[0] = int(dato[0])\n",
    "\n",
    "# Crear tabla para exportar como imagen\n",
    "fig, ax = plt.subplots(figsize=(6, 5))\n",
    "# Eliminar los ejes\n",
    "ax.axis('off')\n",
    "\n",
    "color_order=['#c0c0c0', '#ff8c78', '#ff5032','#ef4224','#ff8c78', '#fdbeb2', '#fdbeb2', '#c0c0c0', '#d0d0d0']\n",
    "cell_colors = [[color, color] for color in color_order]\n",
    "# Tabla\n",
    "tabla = ax.table(cellText=data,\n",
    "                 colLabels=['Cantidad de Servicios', 'Tasa de Abandono (%)'],\n",
    "                 cellLoc='center',\n",
    "                 loc='center',\n",
    "                 colColours=['silver', 'silver'],\n",
    "                 cellColours=cell_colors)\n",
    "\n",
    "plt.title('Evasión (Churn) - Cantidad de Servicios Contratados', fontsize=18\n",
    "         )\n",
    "# Escalar la tabla para mayor legibilidad\n",
    "tabla.scale(1, 2)\n",
    "plt.tight_layout()\n",
    "\n",
    "fig.savefig(figures_path/'rate_Churn_ServiceQuantity.png',\n",
    "            transparent=False,\n",
    "            dpi=300,\n",
    "            bbox_inches='tight')\n",
    "\n",
    "\n",
    "plt.show()"
   ]
  },
  {
   "cell_type": "code",
   "execution_count": null,
   "id": "1e363b30-947b-4c84-8355-2f060d6630d1",
   "metadata": {},
   "outputs": [],
   "source": [
    "fig, ax = plt.subplots(figsize=(8,4))\n",
    "\n",
    "ax = sns.lineplot(data=servicios_abandono, x='Cantidad de Servicios', y='Tasa Abandono (%)', marker='o')\n",
    "ax.set_title('Tasa de Abandono según Cantidad de Servicios contratados', fontsize=18, pad=20)\n",
    "ax.set_xlabel('Cantidad de Servicios', fontsize=15)\n",
    "ax.set_ylabel('Tasa de Abandono (%)', fontsize=15)\n",
    "ax.tick_params(axis='both', labelsize=12)\n",
    "\n",
    "sns.despine()\n",
    "\n",
    "plt.grid(True, alpha=0.35)\n",
    "plt.tight_layout()\n",
    "\n",
    "fig.savefig(figures_path/'linea_tasa_abandono_qservicios.png',\n",
    "            transparent=False,\n",
    "            dpi=300,\n",
    "            bbox_inches='tight')\n",
    "plt.show()"
   ]
  },
  {
   "cell_type": "code",
   "execution_count": null,
   "id": "308bd5a0-14d1-4bb1-af87-23a3c850c85d",
   "metadata": {},
   "outputs": [],
   "source": [
    "un_servicio = df_servicios[df_servicios['ServiceQuantity'] == 1]\n",
    "solo_telefono = un_servicio[un_servicio['PhoneService'] == 1].shape[0]\n",
    "un_servicio = un_servicio.shape[0]\n",
    "print(f'Cantidad de clientes con un único servicio: {un_servicio}, de los cuales {solo_telefono} cuentan solo con Servicio Telefónico')"
   ]
  },
  {
   "cell_type": "code",
   "execution_count": null,
   "id": "a944dbf2-1060-4b95-a121-051a8744bd39",
   "metadata": {},
   "outputs": [],
   "source": [
    "print(f'El {round(solo_telefono / un_servicio * 100, 2)} % de clientes con un solo servicio corresponde a Servicio Telefónico')"
   ]
  },
  {
   "cell_type": "markdown",
   "id": "340a6da5-6acf-4150-a792-4c10d3f0b223",
   "metadata": {
    "jp-MarkdownHeadingCollapsed": true
   },
   "source": [
    "#### Observaciones: Tasa de abandono según Cantidad de servicios contratados"
   ]
  },
  {
   "cell_type": "markdown",
   "id": "8590f38e-04a5-4da9-9d1c-01e742b2db00",
   "metadata": {},
   "source": [
    "El análisis indica que los clientes que contratan pocos servicios son más propensos a abandonar la empresa. La **tasa de evasión** alcanza su **punto más alto** en clientes con **3 servicios contratados (~45%)** y disminuye consistentemente a medida que aumenta la cantidad de servicios.\n",
    "Esto sugiere que los clientes que se benefician de una mayor integración de servicios presentan una mayor fidelidad.\n",
    "\n",
    "Por otra parte, la tasa de abandono es relativamente baja en aquellos clientes que cuentan con **solo un servicio** ya que el **93.67%** de estos cuentan solo con **Servicio Telefónico**, lo que concuerda con el análisis anterior donde se determinó que esta característica no presenta una relación significativa con la evasión del cliente."
   ]
  },
  {
   "cell_type": "markdown",
   "id": "216f7927-1d10-43b4-86df-8f95b21747e2",
   "metadata": {},
   "source": [
    "#### 📌 6. ¿Cuál es el tipo de contrato adquirido por el cliente con mayor tendencia a la cancelación del servicio?"
   ]
  },
  {
   "cell_type": "code",
   "execution_count": null,
   "id": "2aa32fc8-9e47-4e61-9484-01bb16351450",
   "metadata": {},
   "outputs": [],
   "source": [
    "df_servicios.head()"
   ]
  },
  {
   "cell_type": "code",
   "execution_count": null,
   "id": "333545dc-85ce-4658-ad97-720fa7419220",
   "metadata": {},
   "outputs": [],
   "source": [
    "contratos = df_servicios.groupby('Contract')['Churn'].value_counts().to_frame()\n",
    "contratos.reset_index(inplace=True)\n",
    "contratos"
   ]
  },
  {
   "cell_type": "code",
   "execution_count": null,
   "id": "7270fc13-60d5-4881-981a-7cfa8550b9c2",
   "metadata": {},
   "outputs": [],
   "source": [
    "def pivot_y_tasa_abandono(df, index_col: str):\n",
    "    df = df.pivot(index=index_col, columns='Churn', values='count')\n",
    "    df.columns = ['No Churn', 'Churn']\n",
    "    df = df.reset_index()\n",
    "    df['Tasa Abandono (%)'] = round(df['Churn'] / (df['Churn'] + df['No Churn']) * 100, 2)\n",
    "    df = df.sort_values(by='Tasa Abandono (%)', ascending=False)\n",
    "    return df"
   ]
  },
  {
   "cell_type": "code",
   "execution_count": null,
   "id": "bf1b4e0f-af26-4fd3-b228-e4dbd6dae102",
   "metadata": {},
   "outputs": [],
   "source": [
    "# Pivotear los datos \n",
    "df_contratos = pivot_y_tasa_abandono(contratos, 'Contract')\n",
    "df_contratos"
   ]
  },
  {
   "cell_type": "code",
   "execution_count": null,
   "id": "4a4da4a3-8d4d-4301-a7dc-e6504dbd79da",
   "metadata": {},
   "outputs": [],
   "source": [
    "data = df_contratos[['Contract', 'Tasa Abandono (%)']].values.tolist()\n",
    "\n",
    "\n",
    "# Crear tabla para exportar como imagen\n",
    "fig, ax = plt.subplots(figsize=(6, 4))\n",
    "# Eliminar los ejes\n",
    "ax.axis('off')\n",
    "\n",
    "color_order=['tomato', 'silver', 'silver']\n",
    "cell_colors = [[color, color] for color in color_order]\n",
    "# Tabla\n",
    "tabla = ax.table(cellText=data,\n",
    "                 colLabels=['Contract', 'Tasa de Abandono (%)'],\n",
    "                 cellLoc='center',\n",
    "                 loc='center',\n",
    "                 colColours=['silver', 'silver'],\n",
    "                 cellColours=cell_colors)\n",
    "\n",
    "plt.title('Evasión (Churn) - Tipo de Contrato (Contract)', fontsize=18)\n",
    "# Escalar la tabla para mayor legibilidad\n",
    "tabla.scale(1, 2)\n",
    "plt.tight_layout()\n",
    "\n",
    "fig.savefig(figures_path/'rate_Churn_Contract.png',\n",
    "            transparent=False,\n",
    "            dpi=300,\n",
    "            bbox_inches='tight')\n",
    "\n",
    "\n",
    "plt.show()"
   ]
  },
  {
   "cell_type": "code",
   "execution_count": null,
   "id": "f42e7b30-4675-4c3b-abbb-14106175b143",
   "metadata": {},
   "outputs": [],
   "source": [
    "# Crear el gráfico de barras apiladas horizontales\n",
    "fig, ax = plt.subplots(figsize=(8, 3))\n",
    "ax.set_frame_on(False)\n",
    "\n",
    "\n",
    "# Barras horizontales\n",
    "ax.barh(df_contratos['Contract'], df_contratos['No Churn'], label='No Churn', color=churn_colors[0])\n",
    "ax.barh(df_contratos['Contract'], df_contratos['Churn'], left=df_contratos['No Churn'], label='Churn', color=churn_colors[1])\n",
    "\n",
    "# Agregar etiquetas en el centro de cada barra\n",
    "for i, row in df_contratos.iterrows():\n",
    "    # Texto para \"No Churn\"\n",
    "    ax.text(row['No Churn'] / 2, i, str(row['No Churn']), va='center', ha='center', color='black', fontsize=9)\n",
    "    \n",
    "    # Texto para \"Churn\"\n",
    "    ax.text(row['No Churn'] + row['Churn'] / 2, i, str(row['Churn']), va='center', ha='center', color='black', fontsize=9)\n",
    "\n",
    "# Etiquetas y título\n",
    "ax.set_title('Evasión (Churn) de clientes según Tipo de Contrato', fontsize=18, loc='left', pad=20)\n",
    "ax.xaxis.set_visible(False)\n",
    "ax.tick_params(size=0, labelsize=12)\n",
    "\n",
    "ax.legend()\n",
    "plt.tight_layout()\n",
    "\n",
    "fig.savefig(figures_path/'barhstk_Churn_Contract.png',\n",
    "            transparent=False,\n",
    "            dpi=300,\n",
    "            bbox_inches='tight')\n",
    "\n",
    "plt.show()"
   ]
  },
  {
   "cell_type": "markdown",
   "id": "c5e4f3de-97ad-46d6-bd48-041f990882dd",
   "metadata": {
    "jp-MarkdownHeadingCollapsed": true
   },
   "source": [
    "#### Observaciones: Tasa de Abandono según Tipo de Contrato"
   ]
  },
  {
   "cell_type": "markdown",
   "id": "16a80fde-3453-475b-9a27-a9dbdfb5a061",
   "metadata": {},
   "source": [
    "Este análisis reafirma que la **fidelización del cliente** está estrechamente vinculada con el tipo de contrato que mantiene con la compañía. Las tasas de abandono observadas son:\n",
    "\n",
    "* Mes a mes *(Month-to-Month)*: **42.71%**\n",
    "* Un año *(One year)*: **11.27%**\n",
    "* Dos años *(Two year)*: **2.83%**\n",
    "\n",
    "Se evidencia que los clientes con contrato **mes a mes** presentan una mayor propensión a cancelar el servicio. A medida que el **compromiso contractual es más duradero**, la **probabilidad de abandono disminuye** considerablemente."
   ]
  },
  {
   "cell_type": "markdown",
   "id": "cf1a866e-7edc-4136-998f-eb734df50024",
   "metadata": {},
   "source": [
    "#### 📌 7. ¿Algún método de pago influye en el abandono del cliente?"
   ]
  },
  {
   "cell_type": "code",
   "execution_count": null,
   "id": "6e6cc17d-7647-41ce-9d78-234a35d69b87",
   "metadata": {},
   "outputs": [],
   "source": [
    "tipo_pago = df_servicios.groupby('PaymentMethod')['Churn'].value_counts().to_frame()\n",
    "tipo_pago.reset_index(inplace=True)\n",
    "tipo_pago"
   ]
  },
  {
   "cell_type": "code",
   "execution_count": null,
   "id": "7d2c8054-bf75-4b1e-80a8-cc448eba17e1",
   "metadata": {},
   "outputs": [],
   "source": [
    "df_tipo_pago = pivot_y_tasa_abandono(tipo_pago, 'PaymentMethod')\n",
    "df_tipo_pago"
   ]
  },
  {
   "cell_type": "code",
   "execution_count": null,
   "id": "ab8a59ac-9f7e-47bf-bd78-a3254ecec012",
   "metadata": {},
   "outputs": [],
   "source": [
    "data = df_tipo_pago[['PaymentMethod', 'Tasa Abandono (%)']].values.tolist()\n",
    "\n",
    "\n",
    "# Crear tabla para exportar como imagen\n",
    "fig, ax = plt.subplots(figsize=(6, 3))\n",
    "# Eliminar los ejes\n",
    "ax.axis('off')\n",
    "\n",
    "color_order=['tomato', 'silver', 'silver', 'silver']\n",
    "cell_colors = [[color, color] for color in color_order]\n",
    "# Tabla\n",
    "tabla = ax.table(cellText=data,\n",
    "                 colLabels=['Payment Method', 'Tasa de Abandono (%)'],\n",
    "                 cellLoc='center',\n",
    "                 loc='center',\n",
    "                 colColours=['silver', 'silver'],\n",
    "                 cellColours=cell_colors)\n",
    "\n",
    "plt.title('Evasión (Churn) - PaymentMethod (Medio de pago)', fontsize=18)\n",
    "# Escalar la tabla para mayor legibilidad\n",
    "tabla.scale(1, 2)\n",
    "\n",
    "fig.savefig(figures_path/'rate_Churn_PaymentMethod.png',\n",
    "            transparent=False,\n",
    "            dpi=300,\n",
    "            bbox_inches='tight')\n",
    "\n",
    "plt.tight_layout()\n",
    "plt.show()"
   ]
  },
  {
   "cell_type": "code",
   "execution_count": null,
   "id": "ccf330cb-2ff6-47eb-aaf3-3746fcb045f6",
   "metadata": {},
   "outputs": [],
   "source": [
    "# Crear el gráfico de barras apiladas horizontales\n",
    "fig, ax = plt.subplots(figsize=(8, 3))\n",
    "\n",
    "ax.set_frame_on(False)\n",
    "\n",
    "# Barras horizontales\n",
    "ax.barh(df_tipo_pago['PaymentMethod'], df_tipo_pago['No Churn'], label='No Churn', color=churn_colors[0])\n",
    "ax.barh(df_tipo_pago['PaymentMethod'], df_tipo_pago['Churn'], left=df_tipo_pago['No Churn'], label='Churn', color=churn_colors[1])\n",
    "\n",
    "for idx, row in df_tipo_pago.iterrows():\n",
    "    tipo = row['PaymentMethod']\n",
    "    \n",
    "    # Etiqueta \"No Churn\"\n",
    "    nochurn = row['No Churn'] / 2\n",
    "    ax.text(nochurn, tipo, str(row['No Churn']), va='center', ha='center', color='black', fontsize=9)\n",
    "    \n",
    "    # Etiqueta \"Churn\"\n",
    "    churn = row['No Churn'] + row['Churn'] / 2\n",
    "    ax.text(churn, tipo, str(row['Churn']), va='center', ha='center', color='black', fontsize=9)\n",
    "\n",
    "# Etiquetas y título\n",
    "ax.set_title('Evasión (Churn) de clientes según Método de Pago', fontsize=16, loc='left', pad=20)\n",
    "ax.xaxis.set_visible(False)\n",
    "ax.tick_params(size=0, labelsize=10)\n",
    "ax.legend()\n",
    "sns.despine()\n",
    "\n",
    "plt.tight_layout()\n",
    "\n",
    "fig.savefig(figures_path/'barhstk_Churn_PaymentMethod.png',\n",
    "            transparent=False,\n",
    "            dpi=300,\n",
    "            bbox_inches='tight')\n",
    "\n",
    "plt.show()"
   ]
  },
  {
   "cell_type": "markdown",
   "id": "c2d6224f-69f7-4dc9-bbb7-523a6fbdc0ae",
   "metadata": {
    "jp-MarkdownHeadingCollapsed": true
   },
   "source": [
    "#### Observaciones: Tasa de Abandono según Método de Pago"
   ]
  },
  {
   "cell_type": "markdown",
   "id": "b26226b2-0d25-448f-afcc-547309621168",
   "metadata": {},
   "source": [
    "De este análisis se destacan los siguientes puntos:\n",
    "\n",
    "* Los métodos de pago automático, **Transferencia Bancaria *(Bank transfer)*** y **Tarjeta de Crédito *(Credit Card)***, presentan la **tasa de abandono más baja**. Esto puede deberse a mayor comodidad, seguridad en cuanto a las fechas de pago evitando así la suspensión del servicio, u otros factores que no se encuentran presentes en el conjunto de datos para su análisis.\n",
    "* **Factura por correo *(Mailed check)*** tiene una tasa de abandono relativamente baja, aunque mayor a los métodos de pago automáticos.  Una posible explicación es que este método, al ser más tradicional, puede ser preferido por clientes que están habituados a él y mantienen una relación más estable con la empresa.\n",
    "* **Factura electrónica *(Electronic check)*** muestra **la tasa de abandono más alta**. Una hipótesis plausible es que el envío de facturas por correo electrónico puede derivar en **pérdida** o **desatención del mensaje**, lo cual provocaría demoras en el pago y potencial suspensión del servicio. Sería interesante evaluar si los clientes que abandonan el servicio bajo este método de pago pertenecen al grupo de **Adultos Mayores *(SeniorCitizen)***. Si fuera el caso, podría indicar una brecha digital o dificultades de uso, abriendo oportunidades para implementar estrategias de **acompañamiento** y **soporte personalizado** que mejoren la experiencia de este segmento."
   ]
  },
  {
   "cell_type": "markdown",
   "id": "9615ebfe-f1e8-4ace-8a13-1d7eb12a9282",
   "metadata": {
    "jp-MarkdownHeadingCollapsed": true
   },
   "source": [
    "### **Conclusiones: Servicios**"
   ]
  },
  {
   "cell_type": "markdown",
   "id": "8a2050a0-4c52-4388-b3d1-c768e27c36ca",
   "metadata": {},
   "source": [
    "Del análisis realizado sobre la relación entre los servicios contratados y la evasión de clientes, se destacan los siguientes hallazgos clave:\n",
    "\n",
    "* Los clientes que poseen **solo el servicio telefónico *(PhoneService)*** muestran una **baja tasa de abandono**, lo que sugiere una **satisfacción generalizada con este servicio**.\n",
    "* En contraste, los clientes que cuentan con **servicio de Fibra Óptica *(Fiber Optic)*** presentan una **tasa de evasión significativamente más alta**, lo cual podría ser indicio de **problemas de calidad o expectativas no cumplidas**.\n",
    "* Los contratos de tipo **\"mes a mes\" *(Month-to-Month)*** y los clientes que contratan **pocos servicios** son los **más propensos a abandonar la empresa**.\n",
    "* Se observa una **insatisfacción notable entre los clientes que utilizan el servicio de Factura Electrónica (Electronic Check)**.\r\n",
    "\n",
    "\n",
    "**Sugerencias Estratégicas:**\n",
    "\n",
    "* Investigar a fondo las **causas del abandono del servicio de Fibra Óptica**. Esto podría incluir:\n",
    "  - Análisis de reseñas y comentarios negativos.\n",
    "  - Evaluación de métricas de calidad del servicio (como velocidad o estabilidad de conexión).\n",
    "  - Comparación con otras tecnologías ofrecidas por la empresa.\n",
    "* **Diseñar campañas de marketing personalizadas** que incentiven la **contratación de servicios adicionales** bajo **compromisos contractuales más extensos** (por ejemplo, planes anuales). Esto puede:\n",
    "  - **Reducir la tasa de evasión** al aumentar el compromiso.\n",
    "  - Aumentar la **percepción de valor** al integrar múltiples servicios.\n",
    "* **Mejorar la experiencia con la Factura Electrónica**, detectando barreras o puntos de fricción, especialmente entre adultos mayores o clientes con menor familiaridad digital:\n",
    "  - Promover **métodos de pago automáticos** como alternativa segura y cómoda, reduciendo los abandonos relacionados con olvidos o suspensiones por falta de pago.que mejoren la experiencia de este segmento."
   ]
  },
  {
   "cell_type": "markdown",
   "id": "ed041755-4ee8-4c44-bf2f-6fe128d7ae5f",
   "metadata": {},
   "source": [
    "### **Perfil del cliente**"
   ]
  },
  {
   "cell_type": "markdown",
   "id": "0ebcb878-1c9d-46fa-835f-2b405b64e083",
   "metadata": {},
   "source": [
    "#### 📌 8. ¿Algún género tiene mayor tendencia a dejar la empresa?"
   ]
  },
  {
   "cell_type": "code",
   "execution_count": null,
   "id": "e4de034f-1544-4a8d-87ad-dcdb2bf20994",
   "metadata": {},
   "outputs": [],
   "source": [
    "df_perfil = df_churn.copy()"
   ]
  },
  {
   "cell_type": "code",
   "execution_count": null,
   "id": "11576ec6-d12e-4f4e-9179-a32fb4345994",
   "metadata": {},
   "outputs": [],
   "source": [
    "df_perfil.head(0)"
   ]
  },
  {
   "cell_type": "code",
   "execution_count": null,
   "id": "fd72e6b3-c4cb-4386-b99a-073f472b3e3c",
   "metadata": {},
   "outputs": [],
   "source": [
    "df_perfil.groupby('Gender')['Gender'].value_counts()"
   ]
  },
  {
   "cell_type": "markdown",
   "id": "934edbfb-28ce-47d2-94cb-1e15a14cce7c",
   "metadata": {},
   "source": [
    "La diferencia entre la cantidad de clientes de cada género no es significativa para este análisis. Se proseguirá a evaluar el Churn con respecto al genero"
   ]
  },
  {
   "cell_type": "code",
   "execution_count": null,
   "id": "e5d77cad-fb3c-44af-bb6a-6b56c86efae1",
   "metadata": {},
   "outputs": [],
   "source": [
    "df_generos = df_perfil.groupby('Gender')['Churn'].value_counts().to_frame()\n",
    "df_generos.reset_index(inplace=True)"
   ]
  },
  {
   "cell_type": "code",
   "execution_count": null,
   "id": "5421cc0a-d8fa-4ff1-8e8c-dd9a1f5c3f78",
   "metadata": {},
   "outputs": [],
   "source": [
    "df_generos"
   ]
  },
  {
   "cell_type": "code",
   "execution_count": null,
   "id": "c5acf2b6-8b9a-4982-a1b5-3318617c3545",
   "metadata": {},
   "outputs": [],
   "source": [
    "fig, ax = plt.subplots(figsize=(6,4))\n",
    "\n",
    "ax = sns.barplot(data=df_generos, x='Gender', y='count', hue='Churn', palette='colorblind')\n",
    "ax.set_title('Evasión (Churn) según Género', fontsize=18, pad=20)\n",
    "ax.set_xlabel('Género', fontsize=15)\n",
    "ax.set_ylabel('Cantidad de clientes', fontsize=15)\n",
    "\n",
    "for bar in ax.patches:\n",
    "    height = bar.get_height()\n",
    "    if height == 0:\n",
    "        continue\n",
    "    else:\n",
    "        ax.text(bar.get_x() + bar.get_width() / 2, \n",
    "                height + 30,\n",
    "                f'{height:.0f}',\n",
    "                ha='center')\n",
    "        \n",
    "sns.despine()\n",
    "plt.tight_layout()\n",
    "\n",
    "fig.savefig(figures_path/'bar_Churn_Gender.png',\n",
    "            transparent=False,\n",
    "            dpi=300,\n",
    "            bbox_inches='tight')\n",
    "\n",
    "plt.show()"
   ]
  },
  {
   "cell_type": "markdown",
   "id": "72b12b6e-1547-4086-96ea-e2754d9e821c",
   "metadata": {},
   "source": [
    "#### Observaciones: Evasión (Churn) en relación al Género"
   ]
  },
  {
   "cell_type": "markdown",
   "id": "559b79a3-da92-4992-bd29-4b559eeea04f",
   "metadata": {},
   "source": [
    "La distribución de evasión es **prácticamente simétrica entre géneros**, lo cual indica que la variable **Género no aporta poder explicativo** relevante para la predicción o análisis del abandono. Por lo tanto, **no es un factor determinante en la toma de decisiones** relacionada con estrategias de retención."
   ]
  },
  {
   "cell_type": "markdown",
   "id": "244089c4-9751-4912-ab6b-c3eb2b906c5b",
   "metadata": {},
   "source": [
    "#### 📌 9. ¿La edad (específicamente ser un ciudadano mayor), influye en la posibilidad de que un cliente abandone?"
   ]
  },
  {
   "cell_type": "code",
   "execution_count": null,
   "id": "64e01267-4303-4e66-913d-880f5a4e560f",
   "metadata": {},
   "outputs": [],
   "source": [
    "df_perfil.groupby('SeniorCitizen')['Churn'].value_counts()"
   ]
  },
  {
   "cell_type": "code",
   "execution_count": null,
   "id": "ea7c8b88-6955-4ce3-ad15-2a46aea90760",
   "metadata": {},
   "outputs": [],
   "source": [
    "df_senior = df_perfil.groupby('SeniorCitizen')['Churn'].value_counts().to_frame()\n",
    "df_senior.reset_index(inplace=True)\n",
    "df_senior"
   ]
  },
  {
   "cell_type": "code",
   "execution_count": null,
   "id": "01788f13-7332-4f23-90bb-cf0334344a14",
   "metadata": {},
   "outputs": [],
   "source": [
    "fig, ax = plt.subplots(figsize=(6,4))\n",
    "\n",
    "ax = sns.barplot(data=df_senior, x='SeniorCitizen', y='count', hue='Churn', palette='colorblind')\n",
    "ax.set_title('Evasión (Churn) según Adulto Mayor (Senior Citizen)', fontsize=18, pad=20)\n",
    "ax.set_xlabel('Adulto Mayor', fontsize=15)\n",
    "ax.set_ylabel('Cantidad de clientes', fontsize=15)\n",
    "\n",
    "for bar in ax.patches:\n",
    "    height = bar.get_height()\n",
    "    if height == 0:\n",
    "        continue\n",
    "    else:\n",
    "        ax.text(bar.get_x() + bar.get_width() / 2, \n",
    "                height + 30,\n",
    "                f'{height:.0f}',\n",
    "                ha='center')\n",
    "        \n",
    "sns.despine()\n",
    "plt.tight_layout()\n",
    "\n",
    "fig.savefig(figures_path/'bar_Churn_SeniorCitizen.png',\n",
    "            transparent=False,\n",
    "            dpi=300,\n",
    "            bbox_inches='tight')\n",
    "\n",
    "plt.show()"
   ]
  },
  {
   "cell_type": "code",
   "execution_count": null,
   "id": "94b626c3-454d-49f3-a606-63397e8c5193",
   "metadata": {},
   "outputs": [],
   "source": [
    "# Pivotear los datos\n",
    "df_senior = pivot_y_tasa_abandono(df_senior, 'SeniorCitizen')\n",
    "df_senior"
   ]
  },
  {
   "cell_type": "code",
   "execution_count": null,
   "id": "8b1af8e6-8d94-44ea-b94c-950d3e4a91bf",
   "metadata": {},
   "outputs": [],
   "source": [
    "tabla_senior = df_senior[['SeniorCitizen', 'Tasa Abandono (%)']]\n",
    "tabla_senior.columns = ['Adulto Mayor', 'Tasa Abandono (%)']\n",
    "tabla_senior"
   ]
  },
  {
   "cell_type": "code",
   "execution_count": null,
   "id": "9eeb3f7f-5b2a-484a-83d6-104e25ba4a43",
   "metadata": {},
   "outputs": [],
   "source": [
    "data = tabla_senior[['Adulto Mayor', 'Tasa Abandono (%)']].values.tolist()\n",
    "\n",
    "\n",
    "# Crear tabla para exportar como imagen\n",
    "fig, ax = plt.subplots(figsize=(5, 2))\n",
    "# Eliminar los ejes\n",
    "ax.axis('off')\n",
    "\n",
    "color_order=['tomato', 'silver']\n",
    "cell_colors = [[color, color] for color in color_order]\n",
    "# Tabla\n",
    "tabla = ax.table(cellText=data,\n",
    "                 colLabels=['Senior Citizen', 'Tasa de Abandono (%)'],\n",
    "                 cellLoc='center',\n",
    "                 loc='center',\n",
    "                 colColours=['silver', 'silver'],\n",
    "                 cellColours=cell_colors)\n",
    "\n",
    "plt.title('Evasión (Churn) - Adulto Mayor (Senior Citizen)', fontsize=18)\n",
    "# Escalar la tabla para mayor legibilidad\n",
    "tabla.scale(1, 2)\n",
    "\n",
    "plt.tight_layout()\n",
    "\n",
    "fig.savefig(figures_path/'rate_Churn_SeniorCitizen.png',\n",
    "            transparent=False,\n",
    "            dpi=300,\n",
    "            bbox_inches='tight')\n",
    "\n",
    "\n",
    "plt.show()"
   ]
  },
  {
   "cell_type": "markdown",
   "id": "7aeb9b75-1e24-4de5-a94a-41418bbdbaca",
   "metadata": {},
   "source": [
    "#### Observaciones: Evasión (Churn) según Adulto Mayor (SeniorCitizen)"
   ]
  },
  {
   "cell_type": "markdown",
   "id": "181024a8-f708-449b-9ca0-5cf2b6cc9953",
   "metadata": {},
   "source": [
    "El análisis revela un **fuerte contraste** en la tasa de abandono entre los clientes según su condición de **Adulto Mayor (SeniorCitizen)**:\n",
    "\n",
    "Los **Adultos Mayores (65 años o más)** presentan una **tasa de evasión significativamente superior**, lo que sugiere que este grupo demográfico enfrenta **mayores barreras o menor satisfacción con los servicios ofrecidos** por la compañía."
   ]
  },
  {
   "cell_type": "markdown",
   "id": "f90ec3a2-c35d-4d97-8286-706f3455466d",
   "metadata": {},
   "source": [
    "#### Profundización: Métodos de Pago utilizados por Adultos Mayores que abandonan el servicio"
   ]
  },
  {
   "cell_type": "markdown",
   "id": "6f22ff03-0319-4c9a-a797-d40a47153d8f",
   "metadata": {},
   "source": [
    "Con el objetivo de explorar posibles causas de esta mayor evasión, se analiza la distribución de métodos de pago entre Adultos Mayores que han cancelado el servicio:"
   ]
  },
  {
   "cell_type": "code",
   "execution_count": null,
   "id": "da2d7ad4-3f37-4b64-961c-ad75a2204bb3",
   "metadata": {},
   "outputs": [],
   "source": [
    "df_senior_churn = df_churn.query('SeniorCitizen == \"Yes\" & Churn == \"Yes\"')\n",
    "df_senior_churn = df_senior_churn.groupby('PaymentMethod')['PaymentMethod'].value_counts().to_frame()\n",
    "df_senior_churn.reset_index(inplace=True)\n",
    "df_senior_churn"
   ]
  },
  {
   "cell_type": "code",
   "execution_count": null,
   "id": "0979647b-5225-47f3-9fb7-f035f533709c",
   "metadata": {},
   "outputs": [],
   "source": [
    "total = df_senior_churn['count'].sum()\n",
    "df_senior_churn['Proporción'] = round(df_senior_churn[\"count\"] / total * 100, 2)"
   ]
  },
  {
   "cell_type": "code",
   "execution_count": null,
   "id": "da54db85-96ed-4bfe-a3ac-07a87ea9bd95",
   "metadata": {},
   "outputs": [],
   "source": [
    "df_senior_churn"
   ]
  },
  {
   "cell_type": "code",
   "execution_count": null,
   "id": "c7be3686-1d12-4440-9665-402293c1e3dc",
   "metadata": {},
   "outputs": [],
   "source": [
    "data = df_senior_churn[['PaymentMethod', 'Proporción']].values.tolist()\n",
    "\n",
    "\n",
    "# Crear tabla para exportar como imagen\n",
    "fig, ax = plt.subplots(figsize=(6, 3))\n",
    "# Eliminar los ejes\n",
    "ax.axis('off')\n",
    "\n",
    "color_order=['silver', 'silver', 'tomato', 'silver']\n",
    "cell_colors = [[color, color] for color in color_order]\n",
    "# Tabla\n",
    "tabla = ax.table(cellText=data,\n",
    "                 colLabels=['Payment Method', 'Proporción (%)'],\n",
    "                 cellLoc='center',\n",
    "                 loc='center',\n",
    "                 colColours=['silver', 'silver'],\n",
    "                 cellColours=cell_colors)\n",
    "\n",
    "plt.title('Medios de Pago (PaymentMethod) utilizados por\\nAdultos Mayores (Senior Citizen) que abandonan', fontsize=18)\n",
    "# Escalar la tabla para mayor legibilidad\n",
    "tabla.scale(1, 2)\n",
    "\n",
    "plt.tight_layout()\n",
    "\n",
    "fig.savefig(figures_path/'table_SeniorCitizen_PaymentMethod.png',\n",
    "            transparent=False,\n",
    "            dpi=300,\n",
    "            bbox_inches='tight')\n",
    "\n",
    "\n",
    "plt.show()"
   ]
  },
  {
   "cell_type": "markdown",
   "id": "b2759ad0-cd2b-4693-bfc9-5ab9c50ee850",
   "metadata": {},
   "source": [
    "#### Observaciones: Evasión (Churn) de Adultos Mayores (SeniorCitizen) según Método de pago (PaymentMethod)"
   ]
  },
  {
   "cell_type": "markdown",
   "id": "968e0bfd-eb8d-49e4-b9a4-634c23256c99",
   "metadata": {},
   "source": [
    "El **66.6%** de los Adultos Mayores que abandonan la empresa utilizan **Factura Electrónica (Electronic check)** como método de pago. Esta tendencia respalda la hipótesis planteada en la sección de Servicios, indicando que podría haber **dificultades de adaptación tecnológica o inconvenientes operativos** con este método, especialmente entre clientes de mayor edad."
   ]
  },
  {
   "cell_type": "markdown",
   "id": "703489ff-10d7-4402-95fa-0e562f035ec1",
   "metadata": {},
   "source": [
    "#### 📌 10. ¿Existe relación entre la situación familiar del cliente *(pareja, personas a cargo)* y la posibilidad de abandono?"
   ]
  },
  {
   "cell_type": "markdown",
   "id": "1ad1f9a4-7edc-4011-ac6a-04e8b4a1a0cf",
   "metadata": {},
   "source": [
    "##### **Clientes con Parjea *(Partner)***"
   ]
  },
  {
   "cell_type": "code",
   "execution_count": null,
   "id": "b76fad51-66e8-45a5-bac4-b1b176dfc586",
   "metadata": {},
   "outputs": [],
   "source": [
    "df_partner = df_perfil.groupby('Churn')['Partner'].value_counts().to_frame()\n",
    "df_partner.reset_index(inplace=True)"
   ]
  },
  {
   "cell_type": "code",
   "execution_count": null,
   "id": "01b397f3-893c-4b4c-9da7-c24006f129a8",
   "metadata": {},
   "outputs": [],
   "source": [
    "fig, ax = plt.subplots(figsize=(6,4))\n",
    "\n",
    "ax = sns.barplot(data=df_partner, x='Partner', y='count', hue='Churn', palette='colorblind')\n",
    "ax.set_title('Evasión (Churn) según cliente con Pareja (Partner)', fontsize=18, pad=20)\n",
    "ax.set_xlabel('Parjea', fontsize=15)\n",
    "ax.set_ylabel('Cantidad de clientes', fontsize=15)\n",
    "\n",
    "for bar in ax.patches:\n",
    "    height = bar.get_height()\n",
    "    if height == 0:\n",
    "        continue\n",
    "    else:\n",
    "        ax.text(bar.get_x() + bar.get_width() / 2, \n",
    "                height + 30,\n",
    "                f'{height:.0f}',\n",
    "                ha='center')\n",
    "        \n",
    "sns.despine()\n",
    "plt.tight_layout()\n",
    "\n",
    "fig.savefig(figures_path/'bar_Churn_Partner.png',\n",
    "            transparent=False,\n",
    "            dpi=300,\n",
    "            bbox_inches='tight')\n",
    "\n",
    "plt.show()"
   ]
  },
  {
   "cell_type": "code",
   "execution_count": null,
   "id": "e5e3537a-0778-4901-b62b-6a66512dce05",
   "metadata": {},
   "outputs": [],
   "source": [
    "# Pivotear los datos\n",
    "df_partner = pivot_y_tasa_abandono(df_partner, 'Partner')\n",
    "df_partner"
   ]
  },
  {
   "cell_type": "code",
   "execution_count": null,
   "id": "ec8a5963-353a-4003-be57-5d476c53ca38",
   "metadata": {},
   "outputs": [],
   "source": [
    "data = df_partner[['Partner', 'Tasa Abandono (%)']].values.tolist()\n",
    "\n",
    "\n",
    "# Crear tabla para exportar como imagen\n",
    "fig, ax = plt.subplots(figsize=(6, 3))\n",
    "# Eliminar los ejes\n",
    "ax.axis('off')\n",
    "\n",
    "color_order=['tomato', 'silver']\n",
    "cell_colors = [[color, color] for color in color_order]\n",
    "# Tabla\n",
    "tabla = ax.table(cellText=data,\n",
    "                 colLabels=['Partner', 'Tasa de Abandono (%)'],\n",
    "                 cellLoc='center',\n",
    "                 loc='center',\n",
    "                 colColours=['silver', 'silver'],\n",
    "                 cellColours=cell_colors)\n",
    "\n",
    "plt.title('Evasión (Churn) - Condición de Pareja', fontsize=18)\n",
    "# Escalar la tabla para mayor legibilidad\n",
    "tabla.scale(1, 2)\n",
    "\n",
    "plt.tight_layout()\n",
    "\n",
    "fig.savefig(figures_path/'rate_Churn_Partner.png',\n",
    "            transparent=False,\n",
    "            dpi=300,\n",
    "            bbox_inches='tight')\n",
    "\n",
    "\n",
    "plt.show()"
   ]
  },
  {
   "cell_type": "markdown",
   "id": "dc056030-b4c0-46d4-a544-d6fd1ab4dcb2",
   "metadata": {},
   "source": [
    "##### **Observaciones: Evasión *(Churn)* según si el cliente tiene pareja *(Partner)***"
   ]
  },
  {
   "cell_type": "markdown",
   "id": "f76bcdf8-8b50-4ee0-ac50-30cd5a8f57f5",
   "metadata": {},
   "source": [
    "Los clientes que **no tienen pareja** presentan una **tasa de abandono 12.3% mayor** respecto a aquellos que sí la tienen. Esta diferencia sugiere que la condición de pareja podría estar asociada a una mayor **estabilidad o compromiso con el servicio**. \n",
    "\n",
    "**Hipótesis:**\n",
    "\n",
    "Una explicación posible para esta diferencia es que **clientes con pareja podrían compartir servicios**, especialmente aquellos como **Múltiples Líneas *(MultipleLines)***, lo que podría traducirse en mayores **beneficios económicos o conveniencia**, reduciendo así la probabilidad de abandono."
   ]
  },
  {
   "cell_type": "markdown",
   "id": "d65f937a-a478-4087-92d3-ba1dc0896a6f",
   "metadata": {},
   "source": [
    "##### **Análisis: ¿Tener pareja + Múltiples líneas = menor evasión?**"
   ]
  },
  {
   "cell_type": "code",
   "execution_count": null,
   "id": "cb8c8876-3fe1-432f-8551-758e9bbfbda2",
   "metadata": {},
   "outputs": [],
   "source": [
    "df_parejas = df_perfil.query('Partner == \"Yes\"')\n",
    "df_parejas = df_parejas.groupby('Churn')['MultipleLines'].value_counts().to_frame()\n",
    "df_parejas.reset_index(inplace=True)"
   ]
  },
  {
   "cell_type": "code",
   "execution_count": null,
   "id": "50421ab7-7d95-466b-bb56-703108f64461",
   "metadata": {},
   "outputs": [],
   "source": [
    "fig, ax = plt.subplots(figsize=(6,4))\n",
    "\n",
    "ax = sns.barplot(data=df_parejas, x='MultipleLines', y='count', hue='Churn', palette='colorblind')\n",
    "ax.set_title('Evasión (Churn) según clientes con\\nPareja (Partner) y Múltiples Líneas (MutlipleLines)', fontsize=16, pad=20, loc='left')\n",
    "ax.set_xlabel('Múltiples Líneas', fontsize=13)\n",
    "ax.set_ylabel('Cantidad de clientes', fontsize=13)\n",
    "\n",
    "for bar in ax.patches:\n",
    "    height = bar.get_height()\n",
    "    if height == 0:\n",
    "        continue\n",
    "    else:\n",
    "        ax.text(bar.get_x() + bar.get_width() / 2, \n",
    "                height + 30,\n",
    "                f'{height:.0f}',\n",
    "                ha='center')\n",
    "        \n",
    "sns.despine()\n",
    "plt.show()"
   ]
  },
  {
   "cell_type": "code",
   "execution_count": null,
   "id": "80e505e0-33ec-4eb6-ba03-601eafb0dfa5",
   "metadata": {},
   "outputs": [],
   "source": [
    "df_parejas = pivot_y_tasa_abandono(df_parejas, 'MultipleLines')\n",
    "df_parejas['Total'] = df_parejas['No Churn'] + df_parejas['Churn']\n",
    "df_parejas['Proporcion'] = round(df_parejas['Total'] / df_parejas['Total'].sum() * 100, 2)"
   ]
  },
  {
   "cell_type": "code",
   "execution_count": null,
   "id": "f1bb1c5d-74e7-4933-83cb-678259357945",
   "metadata": {},
   "outputs": [],
   "source": [
    "df_parejas.columns"
   ]
  },
  {
   "cell_type": "code",
   "execution_count": null,
   "id": "5c003ffd-bda7-4897-a671-426da8e2e436",
   "metadata": {},
   "outputs": [],
   "source": [
    "parejas_order = ['MultipleLines', 'Proporcion', 'Total', 'No Churn', 'Churn', 'Tasa Abandono (%)']\n",
    "df_parejas = df_parejas[parejas_order]\n",
    "df_parejas"
   ]
  },
  {
   "cell_type": "markdown",
   "id": "75964506-87c7-41e9-ab0f-a1d5f579245b",
   "metadata": {},
   "source": [
    "Contrario a lo que se anticipaba, los **clientes con pareja que tienen múltiples líneas presentan una tasa de abandono 4.38% mayor** que aquellos que no cuentan con múltiples líneas.\n",
    "\n",
    "Este resultado **refuta la hipótesis inicial**. Si bien la presencia de pareja parece estar asociada a menor evasión, **el hecho de tener múltiples líneas no contribuye a disminuir el abandono** dentro de este segmento. Esto sugiere que hay **otros factores no considerados** que estarían influyendo más directamente en la decisión de cancelación."
   ]
  },
  {
   "cell_type": "markdown",
   "id": "034fe3fa-6e75-4e58-8a55-0b9a91e75f27",
   "metadata": {},
   "source": [
    "##### **Clientes con personas a cargo *(Dependents)***"
   ]
  },
  {
   "cell_type": "code",
   "execution_count": null,
   "id": "34edb34b-fd03-4884-8b3a-497e056fd1a8",
   "metadata": {},
   "outputs": [],
   "source": [
    "df_dependents = df_perfil.groupby('Churn')['Dependents'].value_counts().to_frame()"
   ]
  },
  {
   "cell_type": "code",
   "execution_count": null,
   "id": "c83396ef-9cba-4d44-b737-1583f01be536",
   "metadata": {},
   "outputs": [],
   "source": [
    "df_dependents.reset_index(inplace=True)"
   ]
  },
  {
   "cell_type": "code",
   "execution_count": null,
   "id": "c6ca138c-8251-4837-834e-8e3c726e0dfe",
   "metadata": {},
   "outputs": [],
   "source": [
    "fig, ax = plt.subplots(figsize=(6,4))\n",
    "\n",
    "ax = sns.barplot(data=df_dependents, x='Dependents', y='count', hue='Churn', palette='colorblind')\n",
    "ax.set_title('Evasión (Churn) según clientes con\\nPersonas a cargo (Dependents)', fontsize=18, pad=30, loc='left')\n",
    "ax.set_xlabel('Personas a cargo', fontsize=15)\n",
    "ax.set_ylabel('Cantidad de clientes', fontsize=15)\n",
    "\n",
    "for bar in ax.patches:\n",
    "    height = bar.get_height()\n",
    "    if height == 0:\n",
    "        continue\n",
    "    else:\n",
    "        ax.text(bar.get_x() + bar.get_width() / 2, \n",
    "                height + 30,\n",
    "                f'{height:.0f}',\n",
    "                ha='center')\n",
    "        \n",
    "sns.despine()\n",
    "plt.tight_layout()\n",
    "\n",
    "fig.savefig(figures_path/'bar_Churn_Dependents.png',\n",
    "            transparent=False,\n",
    "            dpi=300,\n",
    "            bbox_inches='tight')\n",
    "\n",
    "plt.show()"
   ]
  },
  {
   "cell_type": "code",
   "execution_count": null,
   "id": "c71835e4-0b0c-4a68-ba35-662aebdfc48c",
   "metadata": {},
   "outputs": [],
   "source": [
    "df_dependents =  pivot_y_tasa_abandono(df_dependents, 'Dependents')\n",
    "df_dependents"
   ]
  },
  {
   "cell_type": "code",
   "execution_count": null,
   "id": "cf83ad2a-2c10-443f-a628-eb89ecd649e3",
   "metadata": {},
   "outputs": [],
   "source": [
    "data = df_dependents[['Dependents', 'Tasa Abandono (%)']].values.tolist()\n",
    "\n",
    "\n",
    "# Crear tabla para exportar como imagen\n",
    "fig, ax = plt.subplots(figsize=(6, 3))\n",
    "# Eliminar los ejes\n",
    "ax.axis('off')\n",
    "\n",
    "color_order=['tomato', 'silver']\n",
    "cell_colors = [[color, color] for color in color_order]\n",
    "# Tabla\n",
    "tabla = ax.table(cellText=data,\n",
    "                 colLabels=['Dependents', 'Tasa de Abandono (%)'],\n",
    "                 cellLoc='center',\n",
    "                 loc='center',\n",
    "                 colColours=['silver', 'silver'],\n",
    "                 cellColours=cell_colors)\n",
    "\n",
    "plt.title('Evasión (Churn)\\nCondición de Personas a cargo (Dependents)', fontsize=18)\n",
    "# Escalar la tabla para mayor legibilidad\n",
    "tabla.scale(1, 2)\n",
    "\n",
    "plt.tight_layout()\n",
    "\n",
    "fig.savefig(figures_path/'rate_Churn_Dependents.png',\n",
    "            transparent=False,\n",
    "            dpi=300,\n",
    "            bbox_inches='tight')\n",
    "\n",
    "\n",
    "plt.show()"
   ]
  },
  {
   "cell_type": "markdown",
   "id": "c00a1c54-450b-4d97-9aef-d1dc4365f40d",
   "metadata": {
    "jp-MarkdownHeadingCollapsed": true
   },
   "source": [
    "##### **Observaciones: Evasión según Personas a cargo *(Dependents)***"
   ]
  },
  {
   "cell_type": "markdown",
   "id": "42773be2-0e7b-45f0-936c-cb946d5f960e",
   "metadata": {},
   "source": [
    "Los clientes que **no tienen personas a cargo *(Dependents)*** presentan una tasa de abandono de **más del doble** con respecto a aquellos que sí tienen. Esta diferencia sugiere que la condición de familia podría estar asociada a un mayor compromiso con el servicio.\n",
    "\n",
    "Es posible plantear la misma hipótesis en relación a beneficios de integración de servicios como **Múltiples Líneas *(MultipleLines)*** para comprobar si esta tiene impacto en la **evasión *(Churn)*** del cliente con respecto a **personas a cargo *(Dependents)***\n",
    "\n"
   ]
  },
  {
   "cell_type": "markdown",
   "id": "0d0598be-06e5-44f7-932d-4b3493e045ce",
   "metadata": {},
   "source": [
    "##### **Análisis: ¿Tener personas a cargo + Múltiples Líneas = menor evasión?**"
   ]
  },
  {
   "cell_type": "code",
   "execution_count": null,
   "id": "57d09e9b-3e29-4606-b8e2-7d9a6c43d5f7",
   "metadata": {},
   "outputs": [],
   "source": [
    "df_familias = df_perfil.query('Dependents == \"Yes\"')\n",
    "df_familias = df_familias.groupby('MultipleLines')['Churn'].value_counts().to_frame()\n",
    "df_familias.reset_index(inplace=True)\n",
    "df_familias = pivot_y_tasa_abandono(df_familias, 'MultipleLines')\n",
    "df_familias"
   ]
  },
  {
   "cell_type": "markdown",
   "id": "dadf44c4-665a-481a-93c5-08a6e1021129",
   "metadata": {
    "jp-MarkdownHeadingCollapsed": true
   },
   "source": [
    "##### **Observaciones: Personas a cargo + Múltiples Líneas**"
   ]
  },
  {
   "cell_type": "markdown",
   "id": "e93e95da-e5a7-4872-b6fb-eb6e7d522939",
   "metadata": {},
   "source": [
    "Una vez más, es posible confirmar que el atributo de **Múltiples Líneas *(MultipleLines)* no aporta poder explicativo al análisis de Evasión *(Churn)*** ya que la tasa de abandono entre ambos grupos es **prácticamente simétrica**."
   ]
  },
  {
   "cell_type": "markdown",
   "id": "811945ce-a253-4f2d-b16c-0100fb6436c3",
   "metadata": {
    "jp-MarkdownHeadingCollapsed": true
   },
   "source": [
    "### **Conclusiones: Perfil del cliente**"
   ]
  },
  {
   "cell_type": "markdown",
   "id": "27e39e06-6e3c-4c32-a728-cc0157af6c66",
   "metadata": {},
   "source": [
    "En cuanto a la **Evasión *(Churn)*** de acuerdo al **perfil del cliente** es posible destacar lo siguiente:\n",
    "\n",
    "* **Género *(Gender):***\n",
    "  - La variable **Género** no presenta diferencias significativas en la tasa de abandono. La distribución es prácticamente simétrica entre hombres y mujeres, lo cual indica que no posee capacidad explicativa en relación a la evasión.\n",
    "* **Adultos Mayores *(SeniorCitizen):***\n",
    "  - Los **clientes de 65 años o más** muestran una **tasa de abandono significativamente superior** al resto de la población.\n",
    "  - Este segmento presenta una relación estrecha con el uso del método de pago **Factura Electrónica *(Electronic check)***, el cual es utilizado por el **66.6%** de los adultos mayores que abandonan la empresa. Esto sugiere posibles **dificultades en el manejo digital**, o **problemas de accesibilidad**, que afectan su experiencia con el servicio.\n",
    "* **Estado de pareja *(Partner)* y personas a cargo *(Dependents):***\n",
    "  - Tanto los clientes **sin pareja** como aquellos **sin personas a cargo** muestran una **mayor propensión a la cancelación del servicio**.\n",
    "  - Esta observación permite **segmentar campañas de retención** dirigidas específicamente a **clientes individuales**, quienes podrían valorar ofertas personalizadas o servicios que contemplen sus necesidades particulares."
   ]
  },
  {
   "cell_type": "markdown",
   "id": "6b31a196-80fa-4320-8b88-05b967667e58",
   "metadata": {},
   "source": [
    "## 3.3 Bulletpoints: Análisis y visualización de datos"
   ]
  },
  {
   "cell_type": "markdown",
   "id": "de979d07-5397-401e-ae78-4c9bfd4c1323",
   "metadata": {},
   "source": [
    "* Se identificaron **patrones claros de abandono** relacionados con la **antigüedad del cliente *(Tenure)*** y el **gasto total acumulado *(ChargesTotal)***, siendo estos indicadores clave para predecir la evasión.\n",
    "\n",
    "* Los clientes que **abandonan en etapas tempranas** representan la mayoría, aunque se detectó un grupo de **clientes de alto valor que también desertan**, lo cual amerita un análisis más profundo.\n",
    "\n",
    "* El **gasto mensual elevado (ChargesMonthly > 79 USD)** muestra relación con un mayor churn, indicando posible **sensibilidad al precio** en segmentos medios-altos.\n",
    "\n",
    "* El **tipo de servicio contratado influye directamente** en el abandono: los clientes con **Fibra Óptica *(Fiber Optic)*** presentan tasas de churn más altas, mientras que los que tienen solo **Servicio Telefónico *(PhoneService)*** muestran mayor fidelidad.\n",
    "\n",
    "* Los contratos de tipo **Mes a Mes *(Month-to-Month)*** y la **contratación de pocos servicios** se asocian a una mayor probabilidad de cancelación.\n",
    "\n",
    "* El **método de pago por Factura Electrónica *(Electronic Check)*** muestra una alta incidencia en el abandono, especialmente entre clientes mayores, lo que sugiere **barreras digitales o problemas de experiencia de usuario**.\n",
    "\n",
    "* El **género del cliente no es un factor relevante** en la evasión, mostrando una distribución homogénea entre hombres y mujeres.\n",
    "\n",
    "* Los **adultos mayores *(SeniorCitizen)*** tienen una **tasa de abandono elevada**, particularmente cuando combinan su perfil con el uso de Electronic Check.\n",
    "\n",
    "* Los **clientes sin pareja** o **sin personas a cargo** presentan una **mayor propensión a cancelar sus servicios**, lo que destaca la necesidad de estrategias específicas para clientes individuales.\n",
    "\n",
    "* Los hallazgos permiten **definir segmentos de riesgo** y orientar **acciones preventivas**, como mejoras en experiencia digital, promociones por servicios combinados, y ajustes de precios personalizados."
   ]
  },
  {
   "cell_type": "markdown",
   "id": "e899c7ec-d43b-4be9-8896-126d09867509",
   "metadata": {},
   "source": [
    "# 5. Análisis de correlación"
   ]
  },
  {
   "cell_type": "code",
   "execution_count": null,
   "id": "769d45a6-f596-4e94-9e25-fcdd5ac4afea",
   "metadata": {},
   "outputs": [],
   "source": [
    "df_churn.info()"
   ]
  },
  {
   "cell_type": "code",
   "execution_count": null,
   "id": "04cb6805-4c4f-477c-84fa-307885b43d8d",
   "metadata": {},
   "outputs": [],
   "source": [
    "df_churn.head()"
   ]
  },
  {
   "cell_type": "code",
   "execution_count": null,
   "id": "b14b3134-3e4e-4ceb-bc9b-81025341ba7a",
   "metadata": {},
   "outputs": [],
   "source": [
    "df_churn.columns"
   ]
  },
  {
   "cell_type": "code",
   "execution_count": null,
   "id": "d3e2fd0b-f351-4297-a2ce-4851cb0f0799",
   "metadata": {},
   "outputs": [],
   "source": [
    "col_norm = ['SeniorCitizen', 'Partner', 'Dependents', 'PhoneService', 'MultipleLines',\n",
    "       'OnlineSecurity', 'OnlineBackup', 'DeviceProtection', 'TechSupport',\n",
    "       'StreamingTV', 'StreamingMovies', 'PaperlessBilling', 'Churn']"
   ]
  },
  {
   "cell_type": "code",
   "execution_count": null,
   "id": "bed08fa1-1375-410d-b575-7bf16b2c98d7",
   "metadata": {},
   "outputs": [],
   "source": [
    "df_corr = df_churn.copy()"
   ]
  },
  {
   "cell_type": "code",
   "execution_count": null,
   "id": "8a4565a2-4b87-4d36-8465-ca2a86a3a08b",
   "metadata": {},
   "outputs": [],
   "source": [
    "df_corr['InternetService'].unique()"
   ]
  },
  {
   "cell_type": "code",
   "execution_count": null,
   "id": "5101b75b-933b-434d-8382-61fdafc043f4",
   "metadata": {},
   "outputs": [],
   "source": [
    "for col in col_norm:\n",
    "    df_corr[col] = df_corr[col].map({'Yes': 1, 'No': 0})"
   ]
  },
  {
   "cell_type": "code",
   "execution_count": null,
   "id": "129eee3a-8a0f-488d-b165-77d8eaf993b1",
   "metadata": {},
   "outputs": [],
   "source": [
    "df_corr['InternetService'] = pd.Categorical(df_corr['InternetService'], categories=['No', 'DSL', 'Fiber optic'])\n",
    "dummies_internet = pd.get_dummies(df_corr['InternetService'], drop_first=True).astype(int)\n",
    "dummies_genero = pd.get_dummies(df_corr['Gender']).astype(int)\n",
    "dummies_payment = pd.get_dummies(df_corr['PaymentMethod']).astype(int)\n",
    "dummies_contratos = pd.get_dummies(df_corr['Contract']).astype(int)"
   ]
  },
  {
   "cell_type": "code",
   "execution_count": null,
   "id": "edcf1bfa-2887-4dd7-be1c-a3f8352fc8fc",
   "metadata": {},
   "outputs": [],
   "source": [
    "df_corr = pd.concat([df_corr, dummies_internet, dummies_genero, dummies_payment, dummies_contratos], axis=1)"
   ]
  },
  {
   "cell_type": "code",
   "execution_count": null,
   "id": "e2e5e8e5-3ba2-44cd-bfe3-12cc2bddac04",
   "metadata": {},
   "outputs": [],
   "source": [
    "df_corr.head()"
   ]
  },
  {
   "cell_type": "code",
   "execution_count": null,
   "id": "41b978f8-a891-4de2-bd8e-683befdb4a4c",
   "metadata": {},
   "outputs": [],
   "source": [
    "df_corr.columns"
   ]
  },
  {
   "cell_type": "code",
   "execution_count": null,
   "id": "4f397dd1-36fb-40a8-9f64-bf8472d7afab",
   "metadata": {},
   "outputs": [],
   "source": [
    "cols_corr = ['Female', 'Male', 'SeniorCitizen', 'Partner', 'Dependents',\n",
    "       'Tenure', 'PhoneService', 'MultipleLines', 'DSL', 'Fiber optic',\n",
    "       'OnlineSecurity', 'OnlineBackup', 'DeviceProtection', 'TechSupport',\n",
    "       'StreamingTV', 'StreamingMovies', 'Month-to-month', 'One year',\n",
    "       'Two year', 'PaperlessBilling',\n",
    "       'Bank transfer (automatic)', 'Credit card (automatic)',\n",
    "       'Electronic check', 'Mailed check' , 'ChargesDaily', 'ChargesMonthly', 'ChargesTotal',\n",
    "       'Churn'\n",
    "       ]\n",
    "\n",
    "df_corr = df_corr[cols_corr]\n",
    "df_corr"
   ]
  },
  {
   "cell_type": "code",
   "execution_count": null,
   "id": "70899585-1383-40d2-87f8-8e84ef1e1730",
   "metadata": {},
   "outputs": [],
   "source": [
    "corr = df_corr.corr()"
   ]
  },
  {
   "cell_type": "code",
   "execution_count": null,
   "id": "e8bef63c-3715-47a9-9f83-98ddb1ca818d",
   "metadata": {},
   "outputs": [],
   "source": [
    "fig, ax = plt.subplots(figsize=(16,10))\n",
    "\n",
    "ax = sns.heatmap(corr, cbar=True, square=False, annot=True, fmt='.2f',\n",
    "                annot_kws={'size':10}, cmap='mako_r')\n",
    "\n",
    "ax.set_title('Heatmap de Correlación entre Variables', fontsize=18, pad=20, loc='left')\n",
    "ax.tick_params(axis='both',labelsize=12)\n",
    "plt.show()"
   ]
  },
  {
   "cell_type": "markdown",
   "id": "5b1d2578-68cb-45ef-92ad-c808ece489ba",
   "metadata": {},
   "source": [
    "Dado que al generar variables dummies la cantidad total de columnas aumenta considerablemente, el gráfico de correlación resultó poco legible. Por lo tanto, se aplicará un umbral visual, excluyendo todas las variables que su **coeficiente de correlación con Churn** tenga un **valor absoluto menor a 0.07**:\n",
    "\n",
    "* Female\n",
    "* Male\n",
    "* PhoneSerivce\n",
    "* MultipleLines\n",
    "* StreamingTv\n",
    "* StreamingMovies"
   ]
  },
  {
   "cell_type": "code",
   "execution_count": null,
   "id": "73d183f7-93ee-4654-b819-bd8923b8d6a5",
   "metadata": {},
   "outputs": [],
   "source": [
    "cols_drop = ['Female', 'Male', 'PhoneService', 'MultipleLines', 'StreamingTV', 'StreamingMovies']\n",
    "df_corr = df_corr.drop(cols_drop, axis=1)\n",
    "df_corr.head()"
   ]
  },
  {
   "cell_type": "code",
   "execution_count": null,
   "id": "84c51052-c466-41a8-aa8b-7445e31494ed",
   "metadata": {},
   "outputs": [],
   "source": [
    "corr = df_corr.corr()\n",
    "\n",
    "fig, ax = plt.subplots(figsize=(16,10))\n",
    "\n",
    "ax = sns.heatmap(corr, cbar=True, square=False, annot=True, fmt='.2f',\n",
    "                annot_kws={'size':10}, cmap='mako_r')\n",
    "\n",
    "ax.set_title('Heatmap de Correlación entre Variables', fontsize=18, pad=20, loc='left')\n",
    "ax.tick_params(axis='both',labelsize=12)\n",
    "plt.show()"
   ]
  },
  {
   "cell_type": "code",
   "execution_count": null,
   "id": "935d0eb7-bbf0-4575-853a-32c81e8e1fc8",
   "metadata": {},
   "outputs": [],
   "source": [
    "corr['Churn'].to_frame().sort_values('Churn')"
   ]
  },
  {
   "cell_type": "markdown",
   "id": "2e69475c-4eea-403e-b143-06280b54cc35",
   "metadata": {},
   "source": [
    " "
   ]
  },
  {
   "cell_type": "markdown",
   "id": "55d915a3-3ddf-4433-a4aa-d9be015f28cc",
   "metadata": {},
   "source": [
    "## Observaciones: Análisis de correlación"
   ]
  },
  {
   "cell_type": "markdown",
   "id": "fa3be6c2-78ba-4f2e-ab6f-93e5cfc0589f",
   "metadata": {},
   "source": [
    "Para explorar la relación entre las variables del dataset y la variable objetivo Churn, se realizó un análisis de correlación utilizando variables transformadas a formato dummie. Aunque Churn es una variable categórica binaria (0: no abandono, 1: abandono), este análisis permite identificar qué variables están más asociadas al abandono de manera preliminar.\n",
    "\n",
    "Es importante tener en cuenta que:\n",
    "\n",
    "Este análisis se basa en **coeficientes de correlación de Pearson**, que miden relaciones lineales entre variables.\n",
    "\n",
    "  $$\n",
    "  \\Large r_{xy}=\\frac{s_{xy}}{s_x*s_y}\n",
    "  $$\n",
    "\n",
    "Donde:\n",
    "\n",
    "$\\Large s_{xy}$ : Covarianza entre variables **x** e **y**. <br>\n",
    "$\\Large s_x$ : Desviación estándar de **x**. <br>\n",
    "$\\Large s_y$ : Desviación estándar de **y**. <br><br>\n",
    "\n",
    "\n",
    "Sin embargo, el modelo final a utilizar será una **regresión logística *(modelo de clasificación)***, la cual no asume linealidad directa entre las variables y el Churn, sino entre las variables independientes y el **logaritmo de las probabilidades *(odds)*** de que Churn = 1.\n",
    "\n",
    "Por lo tanto, estas correlaciones no determinan la influencia real en el modelo, pero sí orientan la exploración inicial de relaciones potencialmente útiles."
   ]
  },
  {
   "cell_type": "markdown",
   "id": "cc9171d5-431c-4268-8f55-fdde7c54262b",
   "metadata": {},
   "source": [
    "### Variables vs Evasión (Churn)"
   ]
  },
  {
   "cell_type": "markdown",
   "id": "5ec8c6df-55ad-423d-816f-0d63de643850",
   "metadata": {},
   "source": [
    "* Las correlaciones positivas indican que cuando el valor de la variable es 1, el Churn tiende a ser también 1. Es decir, el atributo está asociado a una mayor probabilidad de abandono.<br>\n",
    " Por ejemplo: `Month-to-month`, `Fiber optic`, `Electronic check`, `PaperlessBilling`.\n",
    "\n",
    "* Las correlaciones negativas implican que cuando la variable toma valor 1, es más probable que el Churn sea 0. Es decir, están asociadas a la permanencia del cliente.<br>\n",
    " Por ejemplo: `Tenure`, `Two year`, `TechSupport`, `OnlineSecurity`, `Partner`, `Dependents`.\n",
    "\n",
    "* Una de las relaciones más marcadas es la de **Tenure *(Antigüedad)***, que muestra un coeficiente de **-0.35**. Esto indica que **cuanto mayor es la antigüedad del cliente, menor es la probabilidad de abandono**. Este comportamiento es consistente y esperado en contextos de **Churn *(Evasión)***.\n",
    "\n",
    "* `ChargesTotal` también presenta una correlación negativa **-0.20**, lo cual puede explicarse por su relación directa con `Tenure`: a **mayor tiempo como cliente, mayor cargo acumulado**. Esto sugiere que **clientes con cargos totales altos suelen tener mayor permanencia**.\n",
    "\n",
    "* `ChargesDaily` y `ChargesMonthly` tienen el mismo coeficiente **0.19**, lo cual era esperable ya que una es simplemente la otra dividida por 30. La elección entre ambas dependerá de su comportamiento en el modelo, aunque para evitar posibles multicolinealidad, se puede aplicar VIF para verificar si alguna de las dos debe ser eliminada.\n",
    "\n",
    "* El contrato **Month-to-month** tiene la correlación más fuerte con el Churn **0.41**. Esto es coherente con la naturaleza flexible de ese tipo de contrato, que facilita la cancelación por parte del cliente.\n",
    "\n",
    "* Los contratos de más largo plazo **One year *(Un año)***, **Two year *(Dos años)*** presentan correlaciones negativas, en particular **Two year** con **-0.30**. Esto indica que la permanencia contractual está asociada a menor churn.\n",
    "\n",
    "* Servicios como **OnlineSecurity *(Seguridad en línea)*** y **TechSupport *(Soporte técnico)*** también están negativamente correlacionados con el churn, lo que sugiere que los clientes que contratan estos servicios adicionales tienden a quedarse más tiempo.\n",
    "\n",
    "* Finalmente, se observó que métodos de pago como **Electronic check *(Factura electrónica)*** están asociados a mayor churn **(coeficiente 0.30)**, mientras que medios automáticos como **Bank transfer *(Transferencia Bancaria)*** o **Credit card *(Tarjeta de crédito)*** se asocian a menor churn. Esto podría estar relacionado con el nivel de compromiso o la facilidad de cancelación."
   ]
  },
  {
   "cell_type": "markdown",
   "id": "1093162f-2d18-421b-a976-d2ac14f095f0",
   "metadata": {},
   "source": [
    " "
   ]
  },
  {
   "cell_type": "markdown",
   "id": "80a406ff-d2af-4816-9839-ae6cee4efd4a",
   "metadata": {},
   "source": [
    "# 6. Load preprocessed data"
   ]
  },
  {
   "cell_type": "code",
   "execution_count": null,
   "id": "f2eb4cd5-509a-4853-a65c-0f850a80175e",
   "metadata": {},
   "outputs": [],
   "source": [
    "df_preprocess = df_churn.copy()"
   ]
  },
  {
   "cell_type": "code",
   "execution_count": null,
   "id": "36bb0a19-84c8-4ae3-a731-b7f434327056",
   "metadata": {},
   "outputs": [],
   "source": [
    "for col in col_norm:\n",
    "    df_preprocess[col] = df_preprocess[col].map({'Yes': 1, 'No': 0})\n",
    "\n",
    "df_preprocess['InternetService'] = pd.Categorical(df_preprocess['InternetService'], categories=['No', 'DSL', 'Fiber optic'])\n",
    "dummies_internet = pd.get_dummies(df_preprocess['InternetService'], drop_first=True).astype(int)\n",
    "dummies_genero = pd.get_dummies(df_preprocess['Gender'], drop_first=True).astype(int)\n",
    "dummies_payment = pd.get_dummies(df_preprocess['PaymentMethod'], drop_first=True).astype(int)\n",
    "dummies_contratos = pd.get_dummies(df_preprocess['Contract'], drop_first=True).astype(int)\n",
    "\n",
    "df_preprocess = pd.concat([df_preprocess, dummies_internet, dummies_genero, dummies_payment, dummies_contratos], axis=1)"
   ]
  },
  {
   "cell_type": "code",
   "execution_count": null,
   "id": "74cd77be-076e-42b5-a7fc-f099570df4fd",
   "metadata": {},
   "outputs": [],
   "source": [
    "cols = ['CustomerID',  'Male', 'SeniorCitizen', 'Partner', 'Dependents',\n",
    "       'Tenure', 'PhoneService', 'MultipleLines', 'DSL', 'Fiber optic',\n",
    "       'OnlineSecurity', 'OnlineBackup', 'DeviceProtection', 'TechSupport',\n",
    "       'StreamingTV', 'StreamingMovies','One year',\n",
    "       'Two year', 'PaperlessBilling', 'Credit card (automatic)',\n",
    "       'Electronic check', 'Mailed check', 'ChargesDaily', 'ChargesMonthly', 'ChargesTotal',\n",
    "       'Churn'\n",
    "        ]\n",
    "df_preprocess = df_preprocess[cols]\n",
    "df_preprocess.head()"
   ]
  },
  {
   "cell_type": "markdown",
   "id": "7c0eb9dc-1f82-4253-ba1a-6b9e654a51bc",
   "metadata": {},
   "source": [
    "Aunque `CustomerID` no será utilizado en los modelos de predicción, he decidio conservar la columna momentaneamente en caso de ser necesaria antes de los entrenamientos."
   ]
  },
  {
   "cell_type": "code",
   "execution_count": null,
   "id": "dcd3766d-4037-4853-8ad9-06cb0ac1c710",
   "metadata": {},
   "outputs": [],
   "source": [
    "df_preprocess.to_json(data_path/'preprocessed_TelecomX_data.json')"
   ]
  },
  {
   "cell_type": "markdown",
   "id": "54110197-2824-4ab1-aff8-b23e624f9fa6",
   "metadata": {},
   "source": [
    "# ARREGLOS POR HACER:\n",
    "\n",
    "\n",
    "* Estandarizar (colores siempre Churn), eje x variables.\n",
    "* Crear función para crear tablas como imágenes.\n",
    "* Guardar gráficos.\n",
    "* Guardado de datos desde API en carpeta `src`"
   ]
  },
  {
   "cell_type": "code",
   "execution_count": null,
   "id": "b6e06e7b-7c86-4a03-ad9a-1ef20c2bbe80",
   "metadata": {},
   "outputs": [],
   "source": []
  }
 ],
 "metadata": {
  "kernelspec": {
   "display_name": "Python 3 (ipykernel)",
   "language": "python",
   "name": "python3"
  },
  "language_info": {
   "codemirror_mode": {
    "name": "ipython",
    "version": 3
   },
   "file_extension": ".py",
   "mimetype": "text/x-python",
   "name": "python",
   "nbconvert_exporter": "python",
   "pygments_lexer": "ipython3",
   "version": "3.11.7"
  }
 },
 "nbformat": 4,
 "nbformat_minor": 5
}
