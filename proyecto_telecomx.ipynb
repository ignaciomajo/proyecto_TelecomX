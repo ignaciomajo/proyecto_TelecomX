{
 "cells": [
  {
   "cell_type": "markdown",
   "id": "2a60294d-1f5c-4a3e-8ba0-b0e9804cf5c9",
   "metadata": {},
   "source": [
    "# Proyecto: Telecom X - Etapa 1"
   ]
  },
  {
   "cell_type": "code",
   "execution_count": null,
   "id": "e9e6d712-dacf-454b-ade5-0e368f3397d5",
   "metadata": {},
   "outputs": [],
   "source": []
  },
  {
   "cell_type": "code",
   "execution_count": null,
   "id": "03850a38-40b2-4ff1-9fa2-545aadc346ad",
   "metadata": {},
   "outputs": [],
   "source": []
  },
  {
   "cell_type": "code",
   "execution_count": null,
   "id": "8183c2c3-5b79-4116-a3a5-bf85a1fe0066",
   "metadata": {},
   "outputs": [],
   "source": []
  },
  {
   "cell_type": "code",
   "execution_count": null,
   "id": "f07cf036-2ae8-459a-bf18-b6a4eb21da8d",
   "metadata": {},
   "outputs": [],
   "source": []
  }
 ],
 "metadata": {
  "kernelspec": {
   "display_name": "Python 3 (ipykernel)",
   "language": "python",
   "name": "python3"
  },
  "language_info": {
   "codemirror_mode": {
    "name": "ipython",
    "version": 3
   },
   "file_extension": ".py",
   "mimetype": "text/x-python",
   "name": "python",
   "nbconvert_exporter": "python",
   "pygments_lexer": "ipython3",
   "version": "3.11.7"
  }
 },
 "nbformat": 4,
 "nbformat_minor": 5
}
